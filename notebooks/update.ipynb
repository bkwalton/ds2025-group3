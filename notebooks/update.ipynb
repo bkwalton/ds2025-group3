{
 "cells": [
  {
   "cell_type": "code",
   "execution_count": 1,
   "id": "f555b3f1",
   "metadata": {},
   "outputs": [],
   "source": [
    "import sqlite3"
   ]
  },
  {
   "cell_type": "code",
   "execution_count": 2,
   "id": "55be373c",
   "metadata": {},
   "outputs": [],
   "source": [
    "def orlando_update(table, values):\n",
    "  with sqlite3.connect('orlando.db') as conn:\n",
    "    try:\n",
    "      cursor = conn.cursor()\n",
    "      if table == \"zillow\":\n",
    "        columns = '(neighborhood, period, value)'\n",
    "      elif table == \"income\" or table == \"unemployment\":\n",
    "        columns = '(tract, period, value)'\n",
    "      else:\n",
    "        raise ValueError(\"Invalid table name\")\n",
    "\n",
    "      # Replace placeholders in the SQL script\n",
    "      formatted_script = sql_script.format(table=table, columns=columns)\n",
    "\n",
    "      # Execute the formatted SQL script\n",
    "      cursor.execute(formatted_script, values)\n",
    "      conn.commit()\n",
    "    except Exception as e:\n",
    "      conn.rollback()\n",
    "      print(\"An error occurred:\", e)"
   ]
  },
  {
   "cell_type": "code",
   "execution_count": null,
   "id": "623786af",
   "metadata": {},
   "outputs": [],
   "source": [
    "with open('../sql-scripts/update.txt', 'r') as sql_file:\n",
    "  sql_script = sql_file.read()\n",
    "\n",
    "# Example usage:\n",
    "# orlando_update(\"zillow\", ('Alafaya', '2030-01-31', 500000))"
   ]
  }
 ],
 "metadata": {
  "kernelspec": {
   "display_name": "ds",
   "language": "python",
   "name": "python3"
  },
  "language_info": {
   "codemirror_mode": {
    "name": "ipython",
    "version": 3
   },
   "file_extension": ".py",
   "mimetype": "text/x-python",
   "name": "python",
   "nbconvert_exporter": "python",
   "pygments_lexer": "ipython3",
   "version": "3.13.3"
  }
 },
 "nbformat": 4,
 "nbformat_minor": 5
}
