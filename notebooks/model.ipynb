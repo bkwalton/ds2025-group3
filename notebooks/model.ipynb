{
 "cells": [
  {
   "cell_type": "markdown",
   "id": "0afd1d70",
   "metadata": {},
   "source": [
    "# VAR Model"
   ]
  },
  {
   "cell_type": "code",
   "execution_count": null,
   "id": "d5ddfdca",
   "metadata": {},
   "outputs": [],
   "source": [
    "import sqlite3\n",
    "import pandas as pd\n",
    "import numpy as np\n",
    "from statsmodels.tsa.api import VAR"
   ]
  },
  {
   "cell_type": "code",
   "execution_count": null,
   "id": "514e3053",
   "metadata": {},
   "outputs": [],
   "source": [
    "with open('../sql-scripts/var.txt', 'r') as sql_file:\n",
    "  sql_script = sql_file.read()\n",
    "\n",
    "conn = sqlite3.connect('orlando.db')\n",
    "var_df = pd.read_sql_query(sql_script, conn)\n",
    "conn.close()"
   ]
  },
  {
   "cell_type": "code",
   "execution_count": null,
   "id": "98de206c",
   "metadata": {},
   "outputs": [
    {
     "name": "stdout",
     "output_type": "stream",
     "text": [
      "  Summary of Regression Results   \n",
      "==================================\n",
      "Model:                         VAR\n",
      "Method:                        OLS\n",
      "Date:           Mon, 21, Apr, 2025\n",
      "Time:                     17:05:16\n",
      "--------------------------------------------------------------------\n",
      "No. of Equations:         5.00000    BIC:                    33.3023\n",
      "Nobs:                     357.000    HQIC:                   33.1060\n",
      "Log likelihood:          -8389.09    FPE:                2.09639e+14\n",
      "AIC:                      32.9764    Det(Omega_mle):     1.92877e+14\n",
      "--------------------------------------------------------------------\n",
      "Results for equation zillow\n",
      "==================================================================================\n",
      "                     coefficient       std. error           t-stat            prob\n",
      "----------------------------------------------------------------------------------\n",
      "const               68389.506807     26467.390840            2.584           0.010\n",
      "L1.zillow               0.882260         0.038577           22.870           0.000\n",
      "L1.income              -1.479204         0.350244           -4.223           0.000\n",
      "L1.unemployment   -128249.446476     75892.523718           -1.690           0.091\n",
      "L1.distance          3976.970171      2389.626923            1.664           0.096\n",
      "L1.duration         -1334.852217      2101.734252           -0.635           0.525\n",
      "==================================================================================\n",
      "\n",
      "Results for equation income\n",
      "==================================================================================\n",
      "                     coefficient       std. error           t-stat            prob\n",
      "----------------------------------------------------------------------------------\n",
      "const               13065.361935      3455.100832            3.781           0.000\n",
      "L1.zillow               0.007364         0.005036            1.462           0.144\n",
      "L1.income               0.642216         0.045721           14.046           0.000\n",
      "L1.unemployment    -40491.432406      9907.146626           -4.087           0.000\n",
      "L1.distance           536.474341       311.946199            1.720           0.085\n",
      "L1.duration          -146.593691       274.364172           -0.534           0.593\n",
      "==================================================================================\n",
      "\n",
      "Results for equation unemployment\n",
      "==================================================================================\n",
      "                     coefficient       std. error           t-stat            prob\n",
      "----------------------------------------------------------------------------------\n",
      "const                   0.003009         0.013634            0.221           0.825\n",
      "L1.zillow              -0.000000         0.000000           -0.113           0.910\n",
      "L1.income               0.000000         0.000000            1.362           0.173\n",
      "L1.unemployment         0.853097         0.039096           21.821           0.000\n",
      "L1.distance            -0.000543         0.001231           -0.441           0.659\n",
      "L1.duration             0.000378         0.001083            0.349           0.727\n",
      "==================================================================================\n",
      "\n",
      "Results for equation distance\n",
      "==================================================================================\n",
      "                     coefficient       std. error           t-stat            prob\n",
      "----------------------------------------------------------------------------------\n",
      "const                   1.487983         0.481043            3.093           0.002\n",
      "L1.zillow               0.000000         0.000001            0.333           0.739\n",
      "L1.income              -0.000016         0.000006           -2.488           0.013\n",
      "L1.unemployment        -1.069342         1.379341           -0.775           0.438\n",
      "L1.distance             0.926287         0.043431           21.328           0.000\n",
      "L1.duration             0.018921         0.038199            0.495           0.620\n",
      "==================================================================================\n",
      "\n",
      "Results for equation duration\n",
      "==================================================================================\n",
      "                     coefficient       std. error           t-stat            prob\n",
      "----------------------------------------------------------------------------------\n",
      "const                   1.322557         0.498106            2.655           0.008\n",
      "L1.zillow               0.000001         0.000001            0.904           0.366\n",
      "L1.income              -0.000005         0.000007           -0.821           0.412\n",
      "L1.unemployment         0.437437         1.428267            0.306           0.759\n",
      "L1.distance             0.008513         0.044972            0.189           0.850\n",
      "L1.duration             0.937050         0.039554           23.691           0.000\n",
      "==================================================================================\n",
      "\n",
      "Correlation matrix of residuals\n",
      "                  zillow    income  unemployment  distance  duration\n",
      "zillow          1.000000  0.685579     -0.499053  0.154635  0.050996\n",
      "income          0.685579  1.000000     -0.444698  0.241985  0.105970\n",
      "unemployment   -0.499053 -0.444698      1.000000 -0.044283  0.003914\n",
      "distance        0.154635  0.241985     -0.044283  1.000000  0.857733\n",
      "duration        0.050996  0.105970      0.003914  0.857733  1.000000\n",
      "\n",
      "\n",
      "\n"
     ]
    },
    {
     "name": "stderr",
     "output_type": "stream",
     "text": [
      "c:\\Users\\brad\\miniconda3\\envs\\ds2025-group3\\lib\\site-packages\\statsmodels\\tsa\\base\\tsa_model.py:473: ValueWarning: An unsupported index was provided. As a result, forecasts cannot be generated. To use the model for forecasting, use one of the supported classes of index.\n",
      "  self._init_dates(dates, freq)\n"
     ]
    }
   ],
   "source": [
    "# Drop rows with missing values since VAR requires complete data\n",
    "var_df = var_df.dropna()\n",
    "\n",
    "# Select relevant columns for the VAR model\n",
    "columns_for_var = ['zillow', 'income', 'unemployment', 'distance', 'duration']\n",
    "var_df = var_df[columns_for_var]\n",
    "\n",
    "# Fit the VAR model\n",
    "model = VAR(var_df)\n",
    "results = model.fit()\n",
    "\n",
    "# Print the summary of the model\n",
    "print(results.summary())"
   ]
  },
  {
   "cell_type": "markdown",
   "id": "ad6d13d4",
   "metadata": {},
   "source": [
    "# Prophet Model"
   ]
  },
  {
   "cell_type": "code",
   "execution_count": 14,
   "id": "78ff5a80",
   "metadata": {},
   "outputs": [
    {
     "name": "stdout",
     "output_type": "stream",
     "text": [
      "CmdStan install directory: C:\\Users\\brad\\.cmdstan\n",
      "Installing RTools40\n",
      "C++ toolchain 'RTools' version: 4.0\n",
      "Install directory: C:\\Users\\brad\\.cmdstan\n",
      "Downloading C++ toolchain: RTools40.exe\n",
      "Download successful, file: RTools40.exe\n",
      "Installing the C++ toolchain: RTools40\n",
      "RTools40.exe /SP- /SILENT /SUPPRESSMSGBOXES /CURRENTUSER LANG=\"English\" /DIR=\"Users\\brad\\.cmdstan\\RTools40\" /NOICONS /NORESTART\n",
      "Installed RTools40\n",
      "pacman -Sy mingw-w64-x86_64-make --noconfirm\n"
     ]
    },
    {
     "name": "stderr",
     "output_type": "stream",
     "text": [
      "17:50:31 - cmdstanpy - INFO - Add C++ toolchain to $PATH: C:\\Users\\brad\\.cmdstan\\RTools40\n"
     ]
    },
    {
     "name": "stdout",
     "output_type": "stream",
     "text": [
      "Installed mingw32-make.exe\n",
      "Installing CmdStan version: 2.36.0\n",
      "Downloading CmdStan version 2.36.0\n",
      "Download successful, file: C:\\Users\\brad\\AppData\\Local\\Temp\\tmp1c583rma\n",
      "Extracting distribution\n",
      "Unpacked download as cmdstan-2.36.0\n",
      "Building version cmdstan-2.36.0, may take several minutes, depending on your system.\n",
      "Installed cmdstan-2.36.0\n",
      "Test model compilation\n"
     ]
    },
    {
     "data": {
      "text/plain": [
       "True"
      ]
     },
     "execution_count": 14,
     "metadata": {},
     "output_type": "execute_result"
    }
   ],
   "source": [
    "from prophet import Prophet\n",
    "from sklearn.metrics import mean_absolute_error, mean_squared_error\n",
    "import cmdstanpy\n",
    "cmdstanpy.install_cmdstan(compiler=True)"
   ]
  },
  {
   "cell_type": "code",
   "execution_count": null,
   "id": "e486c1b9",
   "metadata": {},
   "outputs": [],
   "source": [
    "with open('../sql-scripts/prophet.txt', 'r') as sql_file:\n",
    "  sql_script = sql_file.read()\n",
    "\n",
    "conn = sqlite3.connect('orlando.db')\n",
    "prophet_df = pd.read_sql_query(sql_script, conn)\n",
    "conn.close()"
   ]
  },
  {
   "cell_type": "code",
   "execution_count": 16,
   "id": "e7e87323",
   "metadata": {},
   "outputs": [
    {
     "name": "stderr",
     "output_type": "stream",
     "text": [
      "18:00:07 - cmdstanpy - INFO - Chain [1] start processing\n",
      "18:00:08 - cmdstanpy - INFO - Chain [1] done processing\n",
      "18:00:08 - cmdstanpy - ERROR - Chain [1] error: terminated by signal 3221225657 \n",
      "Optimization terminated abnormally. Falling back to Newton.\n",
      "18:00:08 - cmdstanpy - INFO - Chain [1] start processing\n",
      "18:00:08 - cmdstanpy - INFO - Chain [1] done processing\n",
      "18:00:08 - cmdstanpy - ERROR - Chain [1] error: terminated by signal 3221225657 \n"
     ]
    },
    {
     "ename": "RuntimeError",
     "evalue": "Error during optimization! Command 'C:\\Users\\brad\\miniconda3\\envs\\ds2025-group3\\Lib\\site-packages\\prophet\\stan_model\\prophet_model.bin random seed=10790 data file=C:\\Users\\brad\\AppData\\Local\\Temp\\tmp33eg6jy6\\v7_bwt5a.json init=C:\\Users\\brad\\AppData\\Local\\Temp\\tmp33eg6jy6\\buifexen.json output file=C:\\Users\\brad\\AppData\\Local\\Temp\\tmp33eg6jy6\\prophet_model1lx12yw2\\prophet_model-20250421180008.csv method=optimize algorithm=newton iter=10000' failed: ",
     "output_type": "error",
     "traceback": [
      "\u001b[1;31m---------------------------------------------------------------------------\u001b[0m",
      "\u001b[1;31mRuntimeError\u001b[0m                              Traceback (most recent call last)",
      "File \u001b[1;32mc:\\Users\\brad\\miniconda3\\envs\\ds2025-group3\\lib\\site-packages\\prophet\\models.py:121\u001b[0m, in \u001b[0;36mCmdStanPyBackend.fit\u001b[1;34m(self, stan_init, stan_data, **kwargs)\u001b[0m\n\u001b[0;32m    120\u001b[0m \u001b[38;5;28;01mtry\u001b[39;00m:\n\u001b[1;32m--> 121\u001b[0m     \u001b[38;5;28mself\u001b[39m\u001b[38;5;241m.\u001b[39mstan_fit \u001b[38;5;241m=\u001b[39m \u001b[38;5;28mself\u001b[39m\u001b[38;5;241m.\u001b[39mmodel\u001b[38;5;241m.\u001b[39moptimize(\u001b[38;5;241m*\u001b[39m\u001b[38;5;241m*\u001b[39margs)\n\u001b[0;32m    122\u001b[0m \u001b[38;5;28;01mexcept\u001b[39;00m \u001b[38;5;167;01mRuntimeError\u001b[39;00m \u001b[38;5;28;01mas\u001b[39;00m e:\n\u001b[0;32m    123\u001b[0m     \u001b[38;5;66;03m# Fall back on Newton\u001b[39;00m\n",
      "File \u001b[1;32mc:\\Users\\brad\\miniconda3\\envs\\ds2025-group3\\lib\\site-packages\\cmdstanpy\\model.py:659\u001b[0m, in \u001b[0;36mCmdStanModel.optimize\u001b[1;34m(self, data, seed, inits, output_dir, sig_figs, save_profile, algorithm, init_alpha, tol_obj, tol_rel_obj, tol_grad, tol_rel_grad, tol_param, history_size, iter, save_iterations, require_converged, show_console, refresh, time_fmt, timeout, jacobian)\u001b[0m\n\u001b[0;32m    658\u001b[0m     \u001b[38;5;28;01melse\u001b[39;00m:\n\u001b[1;32m--> 659\u001b[0m         \u001b[38;5;28;01mraise\u001b[39;00m \u001b[38;5;167;01mRuntimeError\u001b[39;00m(msg)\n\u001b[0;32m    660\u001b[0m mle \u001b[38;5;241m=\u001b[39m CmdStanMLE(runset)\n",
      "\u001b[1;31mRuntimeError\u001b[0m: Error during optimization! Command 'C:\\Users\\brad\\miniconda3\\envs\\ds2025-group3\\Lib\\site-packages\\prophet\\stan_model\\prophet_model.bin random seed=43221 data file=C:\\Users\\brad\\AppData\\Local\\Temp\\tmp33eg6jy6\\r0eqj_vg.json init=C:\\Users\\brad\\AppData\\Local\\Temp\\tmp33eg6jy6\\qlm21g9x.json output file=C:\\Users\\brad\\AppData\\Local\\Temp\\tmp33eg6jy6\\prophet_modelwq52o32p\\prophet_model-20250421180007.csv method=optimize algorithm=lbfgs iter=10000' failed: ",
      "\nDuring handling of the above exception, another exception occurred:\n",
      "\u001b[1;31mRuntimeError\u001b[0m                              Traceback (most recent call last)",
      "Cell \u001b[1;32mIn[16], line 27\u001b[0m\n\u001b[0;32m     25\u001b[0m \u001b[38;5;66;03m# Fit Prophet on the training data\u001b[39;00m\n\u001b[0;32m     26\u001b[0m m \u001b[38;5;241m=\u001b[39m Prophet()\n\u001b[1;32m---> 27\u001b[0m \u001b[43mm\u001b[49m\u001b[38;5;241;43m.\u001b[39;49m\u001b[43mfit\u001b[49m\u001b[43m(\u001b[49m\u001b[43mtrain_df\u001b[49m\u001b[43m)\u001b[49m\n\u001b[0;32m     29\u001b[0m \u001b[38;5;66;03m# Forecast 10 years into the future\u001b[39;00m\n\u001b[0;32m     30\u001b[0m future_10yr \u001b[38;5;241m=\u001b[39m m\u001b[38;5;241m.\u001b[39mmake_future_dataframe(periods\u001b[38;5;241m=\u001b[39m\u001b[38;5;241m120\u001b[39m, freq\u001b[38;5;241m=\u001b[39m\u001b[38;5;124m\"\u001b[39m\u001b[38;5;124mM\u001b[39m\u001b[38;5;124m\"\u001b[39m)\n",
      "File \u001b[1;32mc:\\Users\\brad\\miniconda3\\envs\\ds2025-group3\\lib\\site-packages\\prophet\\forecaster.py:1232\u001b[0m, in \u001b[0;36mProphet.fit\u001b[1;34m(self, df, **kwargs)\u001b[0m\n\u001b[0;32m   1230\u001b[0m     \u001b[38;5;28mself\u001b[39m\u001b[38;5;241m.\u001b[39mparams \u001b[38;5;241m=\u001b[39m \u001b[38;5;28mself\u001b[39m\u001b[38;5;241m.\u001b[39mstan_backend\u001b[38;5;241m.\u001b[39msampling(stan_init, dat, \u001b[38;5;28mself\u001b[39m\u001b[38;5;241m.\u001b[39mmcmc_samples, \u001b[38;5;241m*\u001b[39m\u001b[38;5;241m*\u001b[39mkwargs)\n\u001b[0;32m   1231\u001b[0m \u001b[38;5;28;01melse\u001b[39;00m:\n\u001b[1;32m-> 1232\u001b[0m     \u001b[38;5;28mself\u001b[39m\u001b[38;5;241m.\u001b[39mparams \u001b[38;5;241m=\u001b[39m \u001b[38;5;28mself\u001b[39m\u001b[38;5;241m.\u001b[39mstan_backend\u001b[38;5;241m.\u001b[39mfit(stan_init, dat, \u001b[38;5;241m*\u001b[39m\u001b[38;5;241m*\u001b[39mkwargs)\n\u001b[0;32m   1234\u001b[0m \u001b[38;5;28mself\u001b[39m\u001b[38;5;241m.\u001b[39mstan_fit \u001b[38;5;241m=\u001b[39m \u001b[38;5;28mself\u001b[39m\u001b[38;5;241m.\u001b[39mstan_backend\u001b[38;5;241m.\u001b[39mstan_fit\n\u001b[0;32m   1235\u001b[0m \u001b[38;5;66;03m# If no changepoints were requested, replace delta with 0s\u001b[39;00m\n",
      "File \u001b[1;32mc:\\Users\\brad\\miniconda3\\envs\\ds2025-group3\\lib\\site-packages\\prophet\\models.py:128\u001b[0m, in \u001b[0;36mCmdStanPyBackend.fit\u001b[1;34m(self, stan_init, stan_data, **kwargs)\u001b[0m\n\u001b[0;32m    126\u001b[0m     logger\u001b[38;5;241m.\u001b[39mwarning(\u001b[38;5;124m'\u001b[39m\u001b[38;5;124mOptimization terminated abnormally. Falling back to Newton.\u001b[39m\u001b[38;5;124m'\u001b[39m)\n\u001b[0;32m    127\u001b[0m     args[\u001b[38;5;124m'\u001b[39m\u001b[38;5;124malgorithm\u001b[39m\u001b[38;5;124m'\u001b[39m] \u001b[38;5;241m=\u001b[39m \u001b[38;5;124m'\u001b[39m\u001b[38;5;124mNewton\u001b[39m\u001b[38;5;124m'\u001b[39m\n\u001b[1;32m--> 128\u001b[0m     \u001b[38;5;28mself\u001b[39m\u001b[38;5;241m.\u001b[39mstan_fit \u001b[38;5;241m=\u001b[39m \u001b[38;5;28mself\u001b[39m\u001b[38;5;241m.\u001b[39mmodel\u001b[38;5;241m.\u001b[39moptimize(\u001b[38;5;241m*\u001b[39m\u001b[38;5;241m*\u001b[39margs)\n\u001b[0;32m    129\u001b[0m params \u001b[38;5;241m=\u001b[39m \u001b[38;5;28mself\u001b[39m\u001b[38;5;241m.\u001b[39mstan_to_dict_numpy(\n\u001b[0;32m    130\u001b[0m     \u001b[38;5;28mself\u001b[39m\u001b[38;5;241m.\u001b[39mstan_fit\u001b[38;5;241m.\u001b[39mcolumn_names, \u001b[38;5;28mself\u001b[39m\u001b[38;5;241m.\u001b[39mstan_fit\u001b[38;5;241m.\u001b[39moptimized_params_np)\n\u001b[0;32m    131\u001b[0m \u001b[38;5;28;01mfor\u001b[39;00m par \u001b[38;5;129;01min\u001b[39;00m params:\n",
      "File \u001b[1;32mc:\\Users\\brad\\miniconda3\\envs\\ds2025-group3\\lib\\site-packages\\cmdstanpy\\model.py:659\u001b[0m, in \u001b[0;36mCmdStanModel.optimize\u001b[1;34m(self, data, seed, inits, output_dir, sig_figs, save_profile, algorithm, init_alpha, tol_obj, tol_rel_obj, tol_grad, tol_rel_grad, tol_param, history_size, iter, save_iterations, require_converged, show_console, refresh, time_fmt, timeout, jacobian)\u001b[0m\n\u001b[0;32m    657\u001b[0m         get_logger()\u001b[38;5;241m.\u001b[39mwarning(msg)\n\u001b[0;32m    658\u001b[0m     \u001b[38;5;28;01melse\u001b[39;00m:\n\u001b[1;32m--> 659\u001b[0m         \u001b[38;5;28;01mraise\u001b[39;00m \u001b[38;5;167;01mRuntimeError\u001b[39;00m(msg)\n\u001b[0;32m    660\u001b[0m mle \u001b[38;5;241m=\u001b[39m CmdStanMLE(runset)\n\u001b[0;32m    661\u001b[0m \u001b[38;5;28;01mreturn\u001b[39;00m mle\n",
      "\u001b[1;31mRuntimeError\u001b[0m: Error during optimization! Command 'C:\\Users\\brad\\miniconda3\\envs\\ds2025-group3\\Lib\\site-packages\\prophet\\stan_model\\prophet_model.bin random seed=10790 data file=C:\\Users\\brad\\AppData\\Local\\Temp\\tmp33eg6jy6\\v7_bwt5a.json init=C:\\Users\\brad\\AppData\\Local\\Temp\\tmp33eg6jy6\\buifexen.json output file=C:\\Users\\brad\\AppData\\Local\\Temp\\tmp33eg6jy6\\prophet_model1lx12yw2\\prophet_model-20250421180008.csv method=optimize algorithm=newton iter=10000' failed: "
     ]
    }
   ],
   "source": [
    "# Ensure your date column is in datetime format and rename columns for Prophet\n",
    "prophet_df[\"ds\"] = pd.to_datetime(prophet_df[\"period\"])\n",
    "prophet_df = prophet_df.rename(columns={'value': 'y'})\n",
    "\n",
    "# Define a cutoff date for training/test split\n",
    "cutoff_date = \"2023-01-01\"\n",
    "\n",
    "# Container to hold results for each neighborhood\n",
    "results = []\n",
    "\n",
    "# Loop over each neighborhood\n",
    "for neighborhood, group_df in prophet_df.groupby(\"neighborhood\"):\n",
    "  # Sort by date\n",
    "  group_df = group_df.sort_values(\"ds\")\n",
    "\n",
    "  # Split the data: training before cutoff, test starting from cutoff\n",
    "  train_df = group_df[group_df[\"ds\"] < cutoff_date].copy()\n",
    "  test_df  = group_df[group_df[\"ds\"] >= cutoff_date].copy()\n",
    "\n",
    "  # Skip neighborhoods with insufficient training or testing data\n",
    "  if train_df[\"y\"].notna().sum() < 2 or test_df[\"y\"].notna().sum() < 1:\n",
    "    print(f\"Skipping {neighborhood} due to insufficient data.\")\n",
    "    continue\n",
    "\n",
    "  # Fit Prophet on the training data\n",
    "  m = Prophet()\n",
    "  m.fit(train_df)\n",
    "\n",
    "  # Forecast 10 years into the future\n",
    "  future_10yr = m.make_future_dataframe(periods=120, freq=\"M\")\n",
    "  forecast_10yr = m.predict(future_10yr)\n",
    "\n",
    "  # Collect results\n",
    "  results.append({\n",
    "    \"neighborhood\": neighborhood,\n",
    "    \"forecast_10yr\": forecast_10yr\n",
    "  })\n",
    "\n",
    "# Example: Access forecast for a specific neighborhood\n",
    "for result in results:\n",
    "  if result[\"neighborhood\"] == \"Windhover\":\n",
    "    print(result[\"forecast_10yr\"].head())"
   ]
  },
  {
   "cell_type": "code",
   "execution_count": 17,
   "id": "69bfba09",
   "metadata": {},
   "outputs": [
    {
     "name": "stderr",
     "output_type": "stream",
     "text": [
      "18:00:20 - cmdstanpy - INFO - Chain [1] start processing\n",
      "18:00:20 - cmdstanpy - INFO - Chain [1] done processing\n",
      "18:00:20 - cmdstanpy - ERROR - Chain [1] error: terminated by signal 3221225657 \n",
      "Optimization terminated abnormally. Falling back to Newton.\n",
      "18:00:20 - cmdstanpy - INFO - Chain [1] start processing\n",
      "18:00:20 - cmdstanpy - INFO - Chain [1] done processing\n",
      "18:00:20 - cmdstanpy - ERROR - Chain [1] error: terminated by signal 3221225657 \n",
      "18:00:20 - cmdstanpy - INFO - Chain [1] start processing\n",
      "18:00:20 - cmdstanpy - INFO - Chain [1] done processing\n",
      "18:00:20 - cmdstanpy - ERROR - Chain [1] error: terminated by signal 3221225657 \n",
      "Optimization terminated abnormally. Falling back to Newton.\n",
      "18:00:20 - cmdstanpy - INFO - Chain [1] start processing\n",
      "18:00:20 - cmdstanpy - INFO - Chain [1] done processing\n"
     ]
    },
    {
     "name": "stdout",
     "output_type": "stream",
     "text": [
      "Error fitting Prophet for Airport North: Error during optimization! Command 'C:\\Users\\brad\\miniconda3\\envs\\ds2025-group3\\Lib\\site-packages\\prophet\\stan_model\\prophet_model.bin random seed=87975 data file=C:\\Users\\brad\\AppData\\Local\\Temp\\tmp33eg6jy6\\6fgfjzqa.json init=C:\\Users\\brad\\AppData\\Local\\Temp\\tmp33eg6jy6\\59jot07f.json output file=C:\\Users\\brad\\AppData\\Local\\Temp\\tmp33eg6jy6\\prophet_model97rec8bl\\prophet_model-20250421180020.csv method=optimize algorithm=newton iter=10000' failed: \n"
     ]
    },
    {
     "name": "stderr",
     "output_type": "stream",
     "text": [
      "18:00:20 - cmdstanpy - ERROR - Chain [1] error: terminated by signal 3221225657 \n",
      "18:00:20 - cmdstanpy - INFO - Chain [1] start processing\n",
      "18:00:20 - cmdstanpy - INFO - Chain [1] done processing\n",
      "18:00:20 - cmdstanpy - ERROR - Chain [1] error: terminated by signal 3221225657 \n",
      "Optimization terminated abnormally. Falling back to Newton.\n",
      "18:00:20 - cmdstanpy - INFO - Chain [1] start processing\n",
      "18:00:20 - cmdstanpy - INFO - Chain [1] done processing\n",
      "18:00:20 - cmdstanpy - ERROR - Chain [1] error: terminated by signal 3221225657 \n"
     ]
    },
    {
     "name": "stdout",
     "output_type": "stream",
     "text": [
      "Error fitting Prophet for Alafaya: Error during optimization! Command 'C:\\Users\\brad\\miniconda3\\envs\\ds2025-group3\\Lib\\site-packages\\prophet\\stan_model\\prophet_model.bin random seed=18363 data file=C:\\Users\\brad\\AppData\\Local\\Temp\\tmp33eg6jy6\\9lz5m8gg.json init=C:\\Users\\brad\\AppData\\Local\\Temp\\tmp33eg6jy6\\lidvosjr.json output file=C:\\Users\\brad\\AppData\\Local\\Temp\\tmp33eg6jy6\\prophet_modelt47dwj6y\\prophet_model-20250421180020.csv method=optimize algorithm=newton iter=10000' failed: \n",
      "Error fitting Prophet for Audubon Park: Error during optimization! Command 'C:\\Users\\brad\\miniconda3\\envs\\ds2025-group3\\Lib\\site-packages\\prophet\\stan_model\\prophet_model.bin random seed=67032 data file=C:\\Users\\brad\\AppData\\Local\\Temp\\tmp33eg6jy6\\9wai7j64.json init=C:\\Users\\brad\\AppData\\Local\\Temp\\tmp33eg6jy6\\tcru_atb.json output file=C:\\Users\\brad\\AppData\\Local\\Temp\\tmp33eg6jy6\\prophet_modely7rqvq2d\\prophet_model-20250421180020.csv method=optimize algorithm=newton iter=10000' failed: \n"
     ]
    },
    {
     "name": "stderr",
     "output_type": "stream",
     "text": [
      "18:00:21 - cmdstanpy - INFO - Chain [1] start processing\n",
      "18:00:21 - cmdstanpy - INFO - Chain [1] done processing\n",
      "18:00:21 - cmdstanpy - ERROR - Chain [1] error: terminated by signal 3221225657 \n",
      "Optimization terminated abnormally. Falling back to Newton.\n",
      "18:00:21 - cmdstanpy - INFO - Chain [1] start processing\n",
      "18:00:21 - cmdstanpy - INFO - Chain [1] done processing\n",
      "18:00:21 - cmdstanpy - ERROR - Chain [1] error: terminated by signal 3221225657 \n",
      "18:00:21 - cmdstanpy - INFO - Chain [1] start processing\n",
      "18:00:21 - cmdstanpy - INFO - Chain [1] done processing\n",
      "18:00:21 - cmdstanpy - ERROR - Chain [1] error: terminated by signal 3221225657 \n",
      "Optimization terminated abnormally. Falling back to Newton.\n",
      "18:00:21 - cmdstanpy - INFO - Chain [1] start processing\n",
      "18:00:21 - cmdstanpy - INFO - Chain [1] done processing\n",
      "18:00:21 - cmdstanpy - ERROR - Chain [1] error: terminated by signal 3221225657 \n"
     ]
    },
    {
     "name": "stdout",
     "output_type": "stream",
     "text": [
      "Error fitting Prophet for Azalea Park: Error during optimization! Command 'C:\\Users\\brad\\miniconda3\\envs\\ds2025-group3\\Lib\\site-packages\\prophet\\stan_model\\prophet_model.bin random seed=87100 data file=C:\\Users\\brad\\AppData\\Local\\Temp\\tmp33eg6jy6\\rwmnir22.json init=C:\\Users\\brad\\AppData\\Local\\Temp\\tmp33eg6jy6\\8v7cnuxt.json output file=C:\\Users\\brad\\AppData\\Local\\Temp\\tmp33eg6jy6\\prophet_modeltx59p670\\prophet_model-20250421180021.csv method=optimize algorithm=newton iter=10000' failed: \n",
      "Error fitting Prophet for Baldwin Park: Error during optimization! Command 'C:\\Users\\brad\\miniconda3\\envs\\ds2025-group3\\Lib\\site-packages\\prophet\\stan_model\\prophet_model.bin random seed=86894 data file=C:\\Users\\brad\\AppData\\Local\\Temp\\tmp33eg6jy6\\1uozf5o0.json init=C:\\Users\\brad\\AppData\\Local\\Temp\\tmp33eg6jy6\\xufnjldf.json output file=C:\\Users\\brad\\AppData\\Local\\Temp\\tmp33eg6jy6\\prophet_modelc827gdk9\\prophet_model-20250421180021.csv method=optimize algorithm=newton iter=10000' failed: \n"
     ]
    },
    {
     "name": "stderr",
     "output_type": "stream",
     "text": [
      "18:00:21 - cmdstanpy - INFO - Chain [1] start processing\n",
      "18:00:21 - cmdstanpy - INFO - Chain [1] done processing\n",
      "18:00:21 - cmdstanpy - ERROR - Chain [1] error: terminated by signal 3221225657 \n",
      "Optimization terminated abnormally. Falling back to Newton.\n",
      "18:00:21 - cmdstanpy - INFO - Chain [1] start processing\n",
      "18:00:21 - cmdstanpy - INFO - Chain [1] done processing\n",
      "18:00:21 - cmdstanpy - ERROR - Chain [1] error: terminated by signal 3221225657 \n",
      "18:00:21 - cmdstanpy - INFO - Chain [1] start processing\n",
      "18:00:21 - cmdstanpy - INFO - Chain [1] done processing\n",
      "18:00:21 - cmdstanpy - ERROR - Chain [1] error: terminated by signal 3221225657 \n",
      "Optimization terminated abnormally. Falling back to Newton.\n",
      "18:00:21 - cmdstanpy - INFO - Chain [1] start processing\n",
      "18:00:21 - cmdstanpy - INFO - Chain [1] done processing\n"
     ]
    },
    {
     "name": "stdout",
     "output_type": "stream",
     "text": [
      "Error fitting Prophet for Bel Air: Error during optimization! Command 'C:\\Users\\brad\\miniconda3\\envs\\ds2025-group3\\Lib\\site-packages\\prophet\\stan_model\\prophet_model.bin random seed=38960 data file=C:\\Users\\brad\\AppData\\Local\\Temp\\tmp33eg6jy6\\u2hctw4g.json init=C:\\Users\\brad\\AppData\\Local\\Temp\\tmp33eg6jy6\\6ng8_yl0.json output file=C:\\Users\\brad\\AppData\\Local\\Temp\\tmp33eg6jy6\\prophet_model2rm5hpsf\\prophet_model-20250421180021.csv method=optimize algorithm=newton iter=10000' failed: \n"
     ]
    },
    {
     "name": "stderr",
     "output_type": "stream",
     "text": [
      "18:00:21 - cmdstanpy - ERROR - Chain [1] error: terminated by signal 3221225657 \n",
      "18:00:21 - cmdstanpy - INFO - Chain [1] start processing\n",
      "18:00:21 - cmdstanpy - INFO - Chain [1] done processing\n",
      "18:00:21 - cmdstanpy - ERROR - Chain [1] error: terminated by signal 3221225657 \n",
      "Optimization terminated abnormally. Falling back to Newton.\n",
      "18:00:21 - cmdstanpy - INFO - Chain [1] start processing\n",
      "18:00:21 - cmdstanpy - INFO - Chain [1] done processing\n",
      "18:00:21 - cmdstanpy - ERROR - Chain [1] error: terminated by signal 3221225657 \n"
     ]
    },
    {
     "name": "stdout",
     "output_type": "stream",
     "text": [
      "Error fitting Prophet for Boggy Creek: Error during optimization! Command 'C:\\Users\\brad\\miniconda3\\envs\\ds2025-group3\\Lib\\site-packages\\prophet\\stan_model\\prophet_model.bin random seed=6976 data file=C:\\Users\\brad\\AppData\\Local\\Temp\\tmp33eg6jy6\\e96pcapy.json init=C:\\Users\\brad\\AppData\\Local\\Temp\\tmp33eg6jy6\\kmhbqheu.json output file=C:\\Users\\brad\\AppData\\Local\\Temp\\tmp33eg6jy6\\prophet_modela97nfqj1\\prophet_model-20250421180021.csv method=optimize algorithm=newton iter=10000' failed: \n",
      "Error fitting Prophet for Bryn Mawr: Error during optimization! Command 'C:\\Users\\brad\\miniconda3\\envs\\ds2025-group3\\Lib\\site-packages\\prophet\\stan_model\\prophet_model.bin random seed=8667 data file=C:\\Users\\brad\\AppData\\Local\\Temp\\tmp33eg6jy6\\00141uwr.json init=C:\\Users\\brad\\AppData\\Local\\Temp\\tmp33eg6jy6\\svvx3mbv.json output file=C:\\Users\\brad\\AppData\\Local\\Temp\\tmp33eg6jy6\\prophet_modelqdw3q702\\prophet_model-20250421180021.csv method=optimize algorithm=newton iter=10000' failed: \n"
     ]
    },
    {
     "name": "stderr",
     "output_type": "stream",
     "text": [
      "18:00:21 - cmdstanpy - INFO - Chain [1] start processing\n",
      "18:00:21 - cmdstanpy - INFO - Chain [1] done processing\n",
      "18:00:21 - cmdstanpy - ERROR - Chain [1] error: terminated by signal 3221225657 \n",
      "Optimization terminated abnormally. Falling back to Newton.\n",
      "18:00:21 - cmdstanpy - INFO - Chain [1] start processing\n",
      "18:00:22 - cmdstanpy - INFO - Chain [1] done processing\n",
      "18:00:22 - cmdstanpy - ERROR - Chain [1] error: terminated by signal 3221225657 \n",
      "18:00:22 - cmdstanpy - INFO - Chain [1] start processing\n",
      "18:00:22 - cmdstanpy - INFO - Chain [1] done processing\n",
      "18:00:22 - cmdstanpy - ERROR - Chain [1] error: terminated by signal 3221225657 \n",
      "Optimization terminated abnormally. Falling back to Newton.\n",
      "18:00:22 - cmdstanpy - INFO - Chain [1] start processing\n",
      "18:00:22 - cmdstanpy - INFO - Chain [1] done processing\n",
      "18:00:22 - cmdstanpy - ERROR - Chain [1] error: terminated by signal 3221225657 \n"
     ]
    },
    {
     "name": "stdout",
     "output_type": "stream",
     "text": [
      "Error fitting Prophet for Callahan: Error during optimization! Command 'C:\\Users\\brad\\miniconda3\\envs\\ds2025-group3\\Lib\\site-packages\\prophet\\stan_model\\prophet_model.bin random seed=26890 data file=C:\\Users\\brad\\AppData\\Local\\Temp\\tmp33eg6jy6\\vkq4wa8e.json init=C:\\Users\\brad\\AppData\\Local\\Temp\\tmp33eg6jy6\\t_piqmht.json output file=C:\\Users\\brad\\AppData\\Local\\Temp\\tmp33eg6jy6\\prophet_modela28h8vme\\prophet_model-20250421180021.csv method=optimize algorithm=newton iter=10000' failed: \n",
      "Error fitting Prophet for Carver Shores: Error during optimization! Command 'C:\\Users\\brad\\miniconda3\\envs\\ds2025-group3\\Lib\\site-packages\\prophet\\stan_model\\prophet_model.bin random seed=58013 data file=C:\\Users\\brad\\AppData\\Local\\Temp\\tmp33eg6jy6\\ebbgf7n4.json init=C:\\Users\\brad\\AppData\\Local\\Temp\\tmp33eg6jy6\\qbccx9u1.json output file=C:\\Users\\brad\\AppData\\Local\\Temp\\tmp33eg6jy6\\prophet_model2fna1sfb\\prophet_model-20250421180022.csv method=optimize algorithm=newton iter=10000' failed: \n"
     ]
    },
    {
     "name": "stderr",
     "output_type": "stream",
     "text": [
      "18:00:22 - cmdstanpy - INFO - Chain [1] start processing\n",
      "18:00:22 - cmdstanpy - INFO - Chain [1] done processing\n",
      "18:00:22 - cmdstanpy - ERROR - Chain [1] error: terminated by signal 3221225657 \n",
      "Optimization terminated abnormally. Falling back to Newton.\n",
      "18:00:22 - cmdstanpy - INFO - Chain [1] start processing\n",
      "18:00:22 - cmdstanpy - INFO - Chain [1] done processing\n",
      "18:00:22 - cmdstanpy - ERROR - Chain [1] error: terminated by signal 3221225657 \n",
      "18:00:22 - cmdstanpy - INFO - Chain [1] start processing\n",
      "18:00:22 - cmdstanpy - INFO - Chain [1] done processing\n",
      "18:00:22 - cmdstanpy - ERROR - Chain [1] error: terminated by signal 3221225657 \n",
      "Optimization terminated abnormally. Falling back to Newton.\n",
      "18:00:22 - cmdstanpy - INFO - Chain [1] start processing\n",
      "18:00:22 - cmdstanpy - INFO - Chain [1] done processing\n",
      "18:00:22 - cmdstanpy - ERROR - Chain [1] error: terminated by signal 3221225657 \n"
     ]
    },
    {
     "name": "stdout",
     "output_type": "stream",
     "text": [
      "Error fitting Prophet for Catalina: Error during optimization! Command 'C:\\Users\\brad\\miniconda3\\envs\\ds2025-group3\\Lib\\site-packages\\prophet\\stan_model\\prophet_model.bin random seed=96832 data file=C:\\Users\\brad\\AppData\\Local\\Temp\\tmp33eg6jy6\\0q18xi_u.json init=C:\\Users\\brad\\AppData\\Local\\Temp\\tmp33eg6jy6\\unq3l7lf.json output file=C:\\Users\\brad\\AppData\\Local\\Temp\\tmp33eg6jy6\\prophet_modelogggdts8\\prophet_model-20250421180022.csv method=optimize algorithm=newton iter=10000' failed: \n",
      "Error fitting Prophet for Central Business District: Error during optimization! Command 'C:\\Users\\brad\\miniconda3\\envs\\ds2025-group3\\Lib\\site-packages\\prophet\\stan_model\\prophet_model.bin random seed=70362 data file=C:\\Users\\brad\\AppData\\Local\\Temp\\tmp33eg6jy6\\5vqfbky7.json init=C:\\Users\\brad\\AppData\\Local\\Temp\\tmp33eg6jy6\\oza4e2o3.json output file=C:\\Users\\brad\\AppData\\Local\\Temp\\tmp33eg6jy6\\prophet_modelg2nr103k\\prophet_model-20250421180022.csv method=optimize algorithm=newton iter=10000' failed: \n"
     ]
    },
    {
     "name": "stderr",
     "output_type": "stream",
     "text": [
      "18:00:22 - cmdstanpy - INFO - Chain [1] start processing\n",
      "18:00:22 - cmdstanpy - INFO - Chain [1] done processing\n",
      "18:00:22 - cmdstanpy - ERROR - Chain [1] error: terminated by signal 3221225657 \n",
      "18:00:22 - cmdstanpy - INFO - Chain [1] start processing\n",
      "18:00:22 - cmdstanpy - INFO - Chain [1] done processing\n",
      "18:00:22 - cmdstanpy - ERROR - Chain [1] error: terminated by signal 3221225657 \n",
      "Optimization terminated abnormally. Falling back to Newton.\n",
      "18:00:22 - cmdstanpy - INFO - Chain [1] start processing\n",
      "18:00:22 - cmdstanpy - INFO - Chain [1] done processing\n",
      "18:00:22 - cmdstanpy - ERROR - Chain [1] error: terminated by signal 3221225657 \n"
     ]
    },
    {
     "name": "stdout",
     "output_type": "stream",
     "text": [
      "Error fitting Prophet for City of Orlando-GOAA: Error during optimization! Command 'C:\\Users\\brad\\miniconda3\\envs\\ds2025-group3\\Lib\\site-packages\\prophet\\stan_model\\prophet_model.bin random seed=3233 data file=C:\\Users\\brad\\AppData\\Local\\Temp\\tmp33eg6jy6\\5r1165b6.json init=C:\\Users\\brad\\AppData\\Local\\Temp\\tmp33eg6jy6\\7cpqv_42.json output file=C:\\Users\\brad\\AppData\\Local\\Temp\\tmp33eg6jy6\\prophet_modeldcww0mq8\\prophet_model-20250421180022.csv method=optimize algorithm=newton iter=10000' failed: \n",
      "Error fitting Prophet for Clear Lake: Error during optimization! Command 'C:\\Users\\brad\\miniconda3\\envs\\ds2025-group3\\Lib\\site-packages\\prophet\\stan_model\\prophet_model.bin random seed=465 data file=C:\\Users\\brad\\AppData\\Local\\Temp\\tmp33eg6jy6\\2879o10x.json init=C:\\Users\\brad\\AppData\\Local\\Temp\\tmp33eg6jy6\\dk1bq3a1.json output file=C:\\Users\\brad\\AppData\\Local\\Temp\\tmp33eg6jy6\\prophet_modelpeovr1mh\\prophet_model-20250421180022.csv method=optimize algorithm=newton iter=10000' failed: \n"
     ]
    },
    {
     "name": "stderr",
     "output_type": "stream",
     "text": [
      "18:00:22 - cmdstanpy - INFO - Chain [1] start processing\n",
      "18:00:23 - cmdstanpy - INFO - Chain [1] done processing\n",
      "18:00:23 - cmdstanpy - ERROR - Chain [1] error: terminated by signal 3221225657 \n",
      "Optimization terminated abnormally. Falling back to Newton.\n",
      "18:00:23 - cmdstanpy - INFO - Chain [1] start processing\n",
      "18:00:23 - cmdstanpy - INFO - Chain [1] done processing\n",
      "18:00:23 - cmdstanpy - ERROR - Chain [1] error: terminated by signal 3221225657 \n",
      "18:00:23 - cmdstanpy - INFO - Chain [1] start processing\n",
      "18:00:23 - cmdstanpy - INFO - Chain [1] done processing\n",
      "18:00:23 - cmdstanpy - ERROR - Chain [1] error: terminated by signal 3221225657 \n",
      "Optimization terminated abnormally. Falling back to Newton.\n",
      "18:00:23 - cmdstanpy - INFO - Chain [1] start processing\n",
      "18:00:23 - cmdstanpy - INFO - Chain [1] done processing\n",
      "18:00:23 - cmdstanpy - ERROR - Chain [1] error: terminated by signal 3221225657 \n"
     ]
    },
    {
     "name": "stdout",
     "output_type": "stream",
     "text": [
      "Error fitting Prophet for College Park: Error during optimization! Command 'C:\\Users\\brad\\miniconda3\\envs\\ds2025-group3\\Lib\\site-packages\\prophet\\stan_model\\prophet_model.bin random seed=24791 data file=C:\\Users\\brad\\AppData\\Local\\Temp\\tmp33eg6jy6\\dcca1_10.json init=C:\\Users\\brad\\AppData\\Local\\Temp\\tmp33eg6jy6\\_jm6sr3v.json output file=C:\\Users\\brad\\AppData\\Local\\Temp\\tmp33eg6jy6\\prophet_model6tzq8csk\\prophet_model-20250421180023.csv method=optimize algorithm=newton iter=10000' failed: \n",
      "Error fitting Prophet for Colonialtown North: Error during optimization! Command 'C:\\Users\\brad\\miniconda3\\envs\\ds2025-group3\\Lib\\site-packages\\prophet\\stan_model\\prophet_model.bin random seed=1801 data file=C:\\Users\\brad\\AppData\\Local\\Temp\\tmp33eg6jy6\\rxeflwgv.json init=C:\\Users\\brad\\AppData\\Local\\Temp\\tmp33eg6jy6\\goyokz1z.json output file=C:\\Users\\brad\\AppData\\Local\\Temp\\tmp33eg6jy6\\prophet_modelxw_zgsmx\\prophet_model-20250421180023.csv method=optimize algorithm=newton iter=10000' failed: \n"
     ]
    },
    {
     "name": "stderr",
     "output_type": "stream",
     "text": [
      "18:00:23 - cmdstanpy - INFO - Chain [1] start processing\n",
      "18:00:23 - cmdstanpy - INFO - Chain [1] done processing\n",
      "18:00:23 - cmdstanpy - ERROR - Chain [1] error: terminated by signal 3221225657 \n",
      "Optimization terminated abnormally. Falling back to Newton.\n",
      "18:00:23 - cmdstanpy - INFO - Chain [1] start processing\n",
      "18:00:23 - cmdstanpy - INFO - Chain [1] done processing\n",
      "18:00:23 - cmdstanpy - ERROR - Chain [1] error: terminated by signal 3221225657 \n",
      "18:00:23 - cmdstanpy - INFO - Chain [1] start processing\n",
      "18:00:23 - cmdstanpy - INFO - Chain [1] done processing\n",
      "18:00:23 - cmdstanpy - ERROR - Chain [1] error: terminated by signal 3221225657 \n",
      "Optimization terminated abnormally. Falling back to Newton.\n",
      "18:00:23 - cmdstanpy - INFO - Chain [1] start processing\n",
      "18:00:23 - cmdstanpy - INFO - Chain [1] done processing\n"
     ]
    },
    {
     "name": "stdout",
     "output_type": "stream",
     "text": [
      "Error fitting Prophet for Colonialtown South: Error during optimization! Command 'C:\\Users\\brad\\miniconda3\\envs\\ds2025-group3\\Lib\\site-packages\\prophet\\stan_model\\prophet_model.bin random seed=81259 data file=C:\\Users\\brad\\AppData\\Local\\Temp\\tmp33eg6jy6\\ti46t6rk.json init=C:\\Users\\brad\\AppData\\Local\\Temp\\tmp33eg6jy6\\6x8s24o5.json output file=C:\\Users\\brad\\AppData\\Local\\Temp\\tmp33eg6jy6\\prophet_modeltasxnblj\\prophet_model-20250421180023.csv method=optimize algorithm=newton iter=10000' failed: \n"
     ]
    },
    {
     "name": "stderr",
     "output_type": "stream",
     "text": [
      "18:00:23 - cmdstanpy - ERROR - Chain [1] error: terminated by signal 3221225657 \n",
      "18:00:23 - cmdstanpy - INFO - Chain [1] start processing\n",
      "18:00:23 - cmdstanpy - INFO - Chain [1] done processing\n",
      "18:00:23 - cmdstanpy - ERROR - Chain [1] error: terminated by signal 3221225657 \n",
      "Optimization terminated abnormally. Falling back to Newton.\n",
      "18:00:23 - cmdstanpy - INFO - Chain [1] start processing\n",
      "18:00:23 - cmdstanpy - INFO - Chain [1] done processing\n",
      "18:00:23 - cmdstanpy - ERROR - Chain [1] error: terminated by signal 3221225657 \n"
     ]
    },
    {
     "name": "stdout",
     "output_type": "stream",
     "text": [
      "Error fitting Prophet for Conway: Error during optimization! Command 'C:\\Users\\brad\\miniconda3\\envs\\ds2025-group3\\Lib\\site-packages\\prophet\\stan_model\\prophet_model.bin random seed=39074 data file=C:\\Users\\brad\\AppData\\Local\\Temp\\tmp33eg6jy6\\zx459b75.json init=C:\\Users\\brad\\AppData\\Local\\Temp\\tmp33eg6jy6\\4wczawdz.json output file=C:\\Users\\brad\\AppData\\Local\\Temp\\tmp33eg6jy6\\prophet_modelm_g8055x\\prophet_model-20250421180023.csv method=optimize algorithm=newton iter=10000' failed: \n",
      "Skipping Countryside due to insufficient data: train count = 0, test count = 16\n",
      "Error fitting Prophet for Coytown: Error during optimization! Command 'C:\\Users\\brad\\miniconda3\\envs\\ds2025-group3\\Lib\\site-packages\\prophet\\stan_model\\prophet_model.bin random seed=62817 data file=C:\\Users\\brad\\AppData\\Local\\Temp\\tmp33eg6jy6\\_rn57lg_.json init=C:\\Users\\brad\\AppData\\Local\\Temp\\tmp33eg6jy6\\cls33yg7.json output file=C:\\Users\\brad\\AppData\\Local\\Temp\\tmp33eg6jy6\\prophet_model0m399lu_\\prophet_model-20250421180023.csv method=optimize algorithm=newton iter=10000' failed: \n"
     ]
    },
    {
     "name": "stderr",
     "output_type": "stream",
     "text": [
      "18:00:23 - cmdstanpy - INFO - Chain [1] start processing\n",
      "18:00:23 - cmdstanpy - INFO - Chain [1] done processing\n",
      "18:00:23 - cmdstanpy - ERROR - Chain [1] error: terminated by signal 3221225657 \n",
      "Optimization terminated abnormally. Falling back to Newton.\n",
      "18:00:23 - cmdstanpy - INFO - Chain [1] start processing\n",
      "18:00:23 - cmdstanpy - INFO - Chain [1] done processing\n",
      "18:00:23 - cmdstanpy - ERROR - Chain [1] error: terminated by signal 3221225657 \n",
      "18:00:24 - cmdstanpy - INFO - Chain [1] start processing\n",
      "18:00:24 - cmdstanpy - INFO - Chain [1] done processing\n",
      "18:00:24 - cmdstanpy - ERROR - Chain [1] error: terminated by signal 3221225657 \n",
      "Optimization terminated abnormally. Falling back to Newton.\n",
      "18:00:24 - cmdstanpy - INFO - Chain [1] start processing\n"
     ]
    },
    {
     "name": "stdout",
     "output_type": "stream",
     "text": [
      "Error fitting Prophet for Crescent Park: Error during optimization! Command 'C:\\Users\\brad\\miniconda3\\envs\\ds2025-group3\\Lib\\site-packages\\prophet\\stan_model\\prophet_model.bin random seed=43517 data file=C:\\Users\\brad\\AppData\\Local\\Temp\\tmp33eg6jy6\\gw5wy31m.json init=C:\\Users\\brad\\AppData\\Local\\Temp\\tmp33eg6jy6\\capri1nq.json output file=C:\\Users\\brad\\AppData\\Local\\Temp\\tmp33eg6jy6\\prophet_modeldjezfk8y\\prophet_model-20250421180023.csv method=optimize algorithm=newton iter=10000' failed: \n"
     ]
    },
    {
     "name": "stderr",
     "output_type": "stream",
     "text": [
      "18:00:24 - cmdstanpy - INFO - Chain [1] done processing\n",
      "18:00:24 - cmdstanpy - ERROR - Chain [1] error: terminated by signal 3221225657 \n",
      "18:00:24 - cmdstanpy - INFO - Chain [1] start processing\n",
      "18:00:24 - cmdstanpy - INFO - Chain [1] done processing\n",
      "18:00:24 - cmdstanpy - ERROR - Chain [1] error: terminated by signal 3221225657 \n",
      "Optimization terminated abnormally. Falling back to Newton.\n",
      "18:00:24 - cmdstanpy - INFO - Chain [1] start processing\n",
      "18:00:24 - cmdstanpy - INFO - Chain [1] done processing\n",
      "18:00:24 - cmdstanpy - ERROR - Chain [1] error: terminated by signal 3221225657 \n"
     ]
    },
    {
     "name": "stdout",
     "output_type": "stream",
     "text": [
      "Error fitting Prophet for Delaney Park: Error during optimization! Command 'C:\\Users\\brad\\miniconda3\\envs\\ds2025-group3\\Lib\\site-packages\\prophet\\stan_model\\prophet_model.bin random seed=94937 data file=C:\\Users\\brad\\AppData\\Local\\Temp\\tmp33eg6jy6\\ai8rj5ek.json init=C:\\Users\\brad\\AppData\\Local\\Temp\\tmp33eg6jy6\\s61mv88s.json output file=C:\\Users\\brad\\AppData\\Local\\Temp\\tmp33eg6jy6\\prophet_modelivw1j7on\\prophet_model-20250421180024.csv method=optimize algorithm=newton iter=10000' failed: \n",
      "Error fitting Prophet for Dixie Belle: Error during optimization! Command 'C:\\Users\\brad\\miniconda3\\envs\\ds2025-group3\\Lib\\site-packages\\prophet\\stan_model\\prophet_model.bin random seed=76698 data file=C:\\Users\\brad\\AppData\\Local\\Temp\\tmp33eg6jy6\\hfhhy115.json init=C:\\Users\\brad\\AppData\\Local\\Temp\\tmp33eg6jy6\\xnp90uv4.json output file=C:\\Users\\brad\\AppData\\Local\\Temp\\tmp33eg6jy6\\prophet_modelogv784hf\\prophet_model-20250421180024.csv method=optimize algorithm=newton iter=10000' failed: \n"
     ]
    },
    {
     "name": "stderr",
     "output_type": "stream",
     "text": [
      "18:00:24 - cmdstanpy - INFO - Chain [1] start processing\n",
      "18:00:24 - cmdstanpy - INFO - Chain [1] done processing\n",
      "18:00:24 - cmdstanpy - ERROR - Chain [1] error: terminated by signal 3221225657 \n",
      "Optimization terminated abnormally. Falling back to Newton.\n",
      "18:00:24 - cmdstanpy - INFO - Chain [1] start processing\n",
      "18:00:24 - cmdstanpy - INFO - Chain [1] done processing\n",
      "18:00:24 - cmdstanpy - ERROR - Chain [1] error: terminated by signal 3221225657 \n",
      "18:00:24 - cmdstanpy - INFO - Chain [1] start processing\n",
      "18:00:24 - cmdstanpy - INFO - Chain [1] done processing\n",
      "18:00:24 - cmdstanpy - ERROR - Chain [1] error: terminated by signal 3221225657 \n",
      "Optimization terminated abnormally. Falling back to Newton.\n",
      "18:00:24 - cmdstanpy - INFO - Chain [1] start processing\n"
     ]
    },
    {
     "name": "stdout",
     "output_type": "stream",
     "text": [
      "Error fitting Prophet for Dover Estates: Error during optimization! Command 'C:\\Users\\brad\\miniconda3\\envs\\ds2025-group3\\Lib\\site-packages\\prophet\\stan_model\\prophet_model.bin random seed=58094 data file=C:\\Users\\brad\\AppData\\Local\\Temp\\tmp33eg6jy6\\h1_2yxbo.json init=C:\\Users\\brad\\AppData\\Local\\Temp\\tmp33eg6jy6\\oz8x2clx.json output file=C:\\Users\\brad\\AppData\\Local\\Temp\\tmp33eg6jy6\\prophet_model0sthc1zt\\prophet_model-20250421180024.csv method=optimize algorithm=newton iter=10000' failed: \n"
     ]
    },
    {
     "name": "stderr",
     "output_type": "stream",
     "text": [
      "18:00:24 - cmdstanpy - INFO - Chain [1] done processing\n",
      "18:00:24 - cmdstanpy - ERROR - Chain [1] error: terminated by signal 3221225657 \n",
      "18:00:24 - cmdstanpy - INFO - Chain [1] start processing\n",
      "18:00:24 - cmdstanpy - INFO - Chain [1] done processing\n",
      "18:00:24 - cmdstanpy - ERROR - Chain [1] error: terminated by signal 3221225657 \n",
      "Optimization terminated abnormally. Falling back to Newton.\n",
      "18:00:24 - cmdstanpy - INFO - Chain [1] start processing\n",
      "18:00:24 - cmdstanpy - INFO - Chain [1] done processing\n",
      "18:00:24 - cmdstanpy - ERROR - Chain [1] error: terminated by signal 3221225657 \n"
     ]
    },
    {
     "name": "stdout",
     "output_type": "stream",
     "text": [
      "Error fitting Prophet for Dover Manor: Error during optimization! Command 'C:\\Users\\brad\\miniconda3\\envs\\ds2025-group3\\Lib\\site-packages\\prophet\\stan_model\\prophet_model.bin random seed=41595 data file=C:\\Users\\brad\\AppData\\Local\\Temp\\tmp33eg6jy6\\l3ok0fwl.json init=C:\\Users\\brad\\AppData\\Local\\Temp\\tmp33eg6jy6\\8iuznz4j.json output file=C:\\Users\\brad\\AppData\\Local\\Temp\\tmp33eg6jy6\\prophet_model_4sj_q44\\prophet_model-20250421180024.csv method=optimize algorithm=newton iter=10000' failed: \n",
      "Error fitting Prophet for Dover Shores East: Error during optimization! Command 'C:\\Users\\brad\\miniconda3\\envs\\ds2025-group3\\Lib\\site-packages\\prophet\\stan_model\\prophet_model.bin random seed=56908 data file=C:\\Users\\brad\\AppData\\Local\\Temp\\tmp33eg6jy6\\10ppjbul.json init=C:\\Users\\brad\\AppData\\Local\\Temp\\tmp33eg6jy6\\9475j22y.json output file=C:\\Users\\brad\\AppData\\Local\\Temp\\tmp33eg6jy6\\prophet_modelzgka3gc2\\prophet_model-20250421180024.csv method=optimize algorithm=newton iter=10000' failed: \n"
     ]
    },
    {
     "name": "stderr",
     "output_type": "stream",
     "text": [
      "18:00:25 - cmdstanpy - INFO - Chain [1] start processing\n",
      "18:00:25 - cmdstanpy - INFO - Chain [1] done processing\n",
      "18:00:25 - cmdstanpy - ERROR - Chain [1] error: terminated by signal 3221225657 \n",
      "Optimization terminated abnormally. Falling back to Newton.\n",
      "18:00:25 - cmdstanpy - INFO - Chain [1] start processing\n",
      "18:00:25 - cmdstanpy - INFO - Chain [1] done processing\n",
      "18:00:25 - cmdstanpy - ERROR - Chain [1] error: terminated by signal 3221225657 \n",
      "18:00:25 - cmdstanpy - INFO - Chain [1] start processing\n",
      "18:00:25 - cmdstanpy - INFO - Chain [1] done processing\n",
      "18:00:25 - cmdstanpy - ERROR - Chain [1] error: terminated by signal 3221225657 \n",
      "Optimization terminated abnormally. Falling back to Newton.\n",
      "18:00:25 - cmdstanpy - INFO - Chain [1] start processing\n",
      "18:00:25 - cmdstanpy - INFO - Chain [1] done processing\n",
      "18:00:25 - cmdstanpy - ERROR - Chain [1] error: terminated by signal 3221225657 \n"
     ]
    },
    {
     "name": "stdout",
     "output_type": "stream",
     "text": [
      "Error fitting Prophet for Dover Shores West: Error during optimization! Command 'C:\\Users\\brad\\miniconda3\\envs\\ds2025-group3\\Lib\\site-packages\\prophet\\stan_model\\prophet_model.bin random seed=41339 data file=C:\\Users\\brad\\AppData\\Local\\Temp\\tmp33eg6jy6\\rese8eza.json init=C:\\Users\\brad\\AppData\\Local\\Temp\\tmp33eg6jy6\\c3cdvrx_.json output file=C:\\Users\\brad\\AppData\\Local\\Temp\\tmp33eg6jy6\\prophet_modelf87y87sm\\prophet_model-20250421180025.csv method=optimize algorithm=newton iter=10000' failed: \n",
      "Error fitting Prophet for East Central Park: Error during optimization! Command 'C:\\Users\\brad\\miniconda3\\envs\\ds2025-group3\\Lib\\site-packages\\prophet\\stan_model\\prophet_model.bin random seed=83009 data file=C:\\Users\\brad\\AppData\\Local\\Temp\\tmp33eg6jy6\\w8ih36md.json init=C:\\Users\\brad\\AppData\\Local\\Temp\\tmp33eg6jy6\\qtmkvf5m.json output file=C:\\Users\\brad\\AppData\\Local\\Temp\\tmp33eg6jy6\\prophet_modeluscetndy\\prophet_model-20250421180025.csv method=optimize algorithm=newton iter=10000' failed: \n"
     ]
    },
    {
     "name": "stderr",
     "output_type": "stream",
     "text": [
      "18:00:25 - cmdstanpy - INFO - Chain [1] start processing\n",
      "18:00:25 - cmdstanpy - INFO - Chain [1] done processing\n",
      "18:00:25 - cmdstanpy - ERROR - Chain [1] error: terminated by signal 3221225657 \n",
      "Optimization terminated abnormally. Falling back to Newton.\n",
      "18:00:25 - cmdstanpy - INFO - Chain [1] start processing\n",
      "18:00:25 - cmdstanpy - INFO - Chain [1] done processing\n",
      "18:00:25 - cmdstanpy - ERROR - Chain [1] error: terminated by signal 3221225657 \n",
      "18:00:25 - cmdstanpy - INFO - Chain [1] start processing\n",
      "18:00:25 - cmdstanpy - INFO - Chain [1] done processing\n",
      "18:00:25 - cmdstanpy - ERROR - Chain [1] error: terminated by signal 3221225657 \n",
      "Optimization terminated abnormally. Falling back to Newton.\n",
      "18:00:25 - cmdstanpy - INFO - Chain [1] start processing\n",
      "18:00:25 - cmdstanpy - INFO - Chain [1] done processing\n",
      "18:00:25 - cmdstanpy - ERROR - Chain [1] error: terminated by signal 3221225657 \n"
     ]
    },
    {
     "name": "stdout",
     "output_type": "stream",
     "text": [
      "Error fitting Prophet for East Park: Error during optimization! Command 'C:\\Users\\brad\\miniconda3\\envs\\ds2025-group3\\Lib\\site-packages\\prophet\\stan_model\\prophet_model.bin random seed=10426 data file=C:\\Users\\brad\\AppData\\Local\\Temp\\tmp33eg6jy6\\gi67hhhm.json init=C:\\Users\\brad\\AppData\\Local\\Temp\\tmp33eg6jy6\\oivzc7gl.json output file=C:\\Users\\brad\\AppData\\Local\\Temp\\tmp33eg6jy6\\prophet_model1wj8761r\\prophet_model-20250421180025.csv method=optimize algorithm=newton iter=10000' failed: \n",
      "Error fitting Prophet for Engelwood Park: Error during optimization! Command 'C:\\Users\\brad\\miniconda3\\envs\\ds2025-group3\\Lib\\site-packages\\prophet\\stan_model\\prophet_model.bin random seed=11541 data file=C:\\Users\\brad\\AppData\\Local\\Temp\\tmp33eg6jy6\\s001e506.json init=C:\\Users\\brad\\AppData\\Local\\Temp\\tmp33eg6jy6\\_8rq3kpd.json output file=C:\\Users\\brad\\AppData\\Local\\Temp\\tmp33eg6jy6\\prophet_modeleznlhn36\\prophet_model-20250421180025.csv method=optimize algorithm=newton iter=10000' failed: \n"
     ]
    },
    {
     "name": "stderr",
     "output_type": "stream",
     "text": [
      "18:00:25 - cmdstanpy - INFO - Chain [1] start processing\n",
      "18:00:25 - cmdstanpy - INFO - Chain [1] done processing\n",
      "18:00:25 - cmdstanpy - ERROR - Chain [1] error: terminated by signal 3221225657 \n",
      "Optimization terminated abnormally. Falling back to Newton.\n",
      "18:00:25 - cmdstanpy - INFO - Chain [1] start processing\n",
      "18:00:25 - cmdstanpy - INFO - Chain [1] done processing\n",
      "18:00:25 - cmdstanpy - ERROR - Chain [1] error: terminated by signal 3221225657 \n",
      "18:00:25 - cmdstanpy - INFO - Chain [1] start processing\n",
      "18:00:25 - cmdstanpy - INFO - Chain [1] done processing\n",
      "18:00:25 - cmdstanpy - ERROR - Chain [1] error: terminated by signal 3221225657 \n",
      "Optimization terminated abnormally. Falling back to Newton.\n",
      "18:00:25 - cmdstanpy - INFO - Chain [1] start processing\n",
      "18:00:25 - cmdstanpy - INFO - Chain [1] done processing\n",
      "18:00:25 - cmdstanpy - ERROR - Chain [1] error: terminated by signal 3221225657 \n"
     ]
    },
    {
     "name": "stdout",
     "output_type": "stream",
     "text": [
      "Error fitting Prophet for Fairview Shores: Error during optimization! Command 'C:\\Users\\brad\\miniconda3\\envs\\ds2025-group3\\Lib\\site-packages\\prophet\\stan_model\\prophet_model.bin random seed=24885 data file=C:\\Users\\brad\\AppData\\Local\\Temp\\tmp33eg6jy6\\b7in5oyo.json init=C:\\Users\\brad\\AppData\\Local\\Temp\\tmp33eg6jy6\\qg63nsuu.json output file=C:\\Users\\brad\\AppData\\Local\\Temp\\tmp33eg6jy6\\prophet_modelh_c08xey\\prophet_model-20250421180025.csv method=optimize algorithm=newton iter=10000' failed: \n",
      "Error fitting Prophet for Florida Center: Error during optimization! Command 'C:\\Users\\brad\\miniconda3\\envs\\ds2025-group3\\Lib\\site-packages\\prophet\\stan_model\\prophet_model.bin random seed=83501 data file=C:\\Users\\brad\\AppData\\Local\\Temp\\tmp33eg6jy6\\uqhpur7r.json init=C:\\Users\\brad\\AppData\\Local\\Temp\\tmp33eg6jy6\\i0kz8k4s.json output file=C:\\Users\\brad\\AppData\\Local\\Temp\\tmp33eg6jy6\\prophet_modelt6am2sfp\\prophet_model-20250421180025.csv method=optimize algorithm=newton iter=10000' failed: \n"
     ]
    },
    {
     "name": "stderr",
     "output_type": "stream",
     "text": [
      "18:00:26 - cmdstanpy - INFO - Chain [1] start processing\n",
      "18:00:26 - cmdstanpy - INFO - Chain [1] done processing\n",
      "18:00:26 - cmdstanpy - ERROR - Chain [1] error: terminated by signal 3221225657 \n",
      "Optimization terminated abnormally. Falling back to Newton.\n",
      "18:00:26 - cmdstanpy - INFO - Chain [1] start processing\n",
      "18:00:26 - cmdstanpy - INFO - Chain [1] done processing\n",
      "18:00:26 - cmdstanpy - ERROR - Chain [1] error: terminated by signal 3221225657 \n",
      "18:00:26 - cmdstanpy - INFO - Chain [1] start processing\n",
      "18:00:26 - cmdstanpy - INFO - Chain [1] done processing\n",
      "18:00:26 - cmdstanpy - ERROR - Chain [1] error: terminated by signal 3221225657 \n",
      "Optimization terminated abnormally. Falling back to Newton.\n",
      "18:00:26 - cmdstanpy - INFO - Chain [1] start processing\n",
      "18:00:26 - cmdstanpy - INFO - Chain [1] done processing\n",
      "18:00:26 - cmdstanpy - ERROR - Chain [1] error: terminated by signal 3221225657 \n"
     ]
    },
    {
     "name": "stdout",
     "output_type": "stream",
     "text": [
      "Error fitting Prophet for Florida Center North: Error during optimization! Command 'C:\\Users\\brad\\miniconda3\\envs\\ds2025-group3\\Lib\\site-packages\\prophet\\stan_model\\prophet_model.bin random seed=74889 data file=C:\\Users\\brad\\AppData\\Local\\Temp\\tmp33eg6jy6\\xjx2li_w.json init=C:\\Users\\brad\\AppData\\Local\\Temp\\tmp33eg6jy6\\cp3snuaa.json output file=C:\\Users\\brad\\AppData\\Local\\Temp\\tmp33eg6jy6\\prophet_modelylg9le9z\\prophet_model-20250421180026.csv method=optimize algorithm=newton iter=10000' failed: \n",
      "Error fitting Prophet for Haralson Estates: Error during optimization! Command 'C:\\Users\\brad\\miniconda3\\envs\\ds2025-group3\\Lib\\site-packages\\prophet\\stan_model\\prophet_model.bin random seed=93664 data file=C:\\Users\\brad\\AppData\\Local\\Temp\\tmp33eg6jy6\\5nkzvvfi.json init=C:\\Users\\brad\\AppData\\Local\\Temp\\tmp33eg6jy6\\5_u7ygkh.json output file=C:\\Users\\brad\\AppData\\Local\\Temp\\tmp33eg6jy6\\prophet_modelgi0te4d0\\prophet_model-20250421180026.csv method=optimize algorithm=newton iter=10000' failed: \n"
     ]
    },
    {
     "name": "stderr",
     "output_type": "stream",
     "text": [
      "18:00:26 - cmdstanpy - INFO - Chain [1] start processing\n",
      "18:00:26 - cmdstanpy - INFO - Chain [1] done processing\n",
      "18:00:26 - cmdstanpy - ERROR - Chain [1] error: terminated by signal 3221225657 \n",
      "Optimization terminated abnormally. Falling back to Newton.\n",
      "18:00:26 - cmdstanpy - INFO - Chain [1] start processing\n",
      "18:00:26 - cmdstanpy - INFO - Chain [1] done processing\n",
      "18:00:26 - cmdstanpy - ERROR - Chain [1] error: terminated by signal 3221225657 \n",
      "18:00:26 - cmdstanpy - INFO - Chain [1] start processing\n",
      "18:00:26 - cmdstanpy - INFO - Chain [1] done processing\n",
      "18:00:26 - cmdstanpy - ERROR - Chain [1] error: terminated by signal 3221225657 \n",
      "Optimization terminated abnormally. Falling back to Newton.\n",
      "18:00:26 - cmdstanpy - INFO - Chain [1] start processing\n",
      "18:00:26 - cmdstanpy - INFO - Chain [1] done processing\n",
      "18:00:26 - cmdstanpy - ERROR - Chain [1] error: terminated by signal 3221225657 \n"
     ]
    },
    {
     "name": "stdout",
     "output_type": "stream",
     "text": [
      "Error fitting Prophet for Hibiscus: Error during optimization! Command 'C:\\Users\\brad\\miniconda3\\envs\\ds2025-group3\\Lib\\site-packages\\prophet\\stan_model\\prophet_model.bin random seed=6654 data file=C:\\Users\\brad\\AppData\\Local\\Temp\\tmp33eg6jy6\\15u6mgdf.json init=C:\\Users\\brad\\AppData\\Local\\Temp\\tmp33eg6jy6\\uma__rys.json output file=C:\\Users\\brad\\AppData\\Local\\Temp\\tmp33eg6jy6\\prophet_modelhg0lfnuu\\prophet_model-20250421180026.csv method=optimize algorithm=newton iter=10000' failed: \n",
      "Error fitting Prophet for Holden Heights: Error during optimization! Command 'C:\\Users\\brad\\miniconda3\\envs\\ds2025-group3\\Lib\\site-packages\\prophet\\stan_model\\prophet_model.bin random seed=22304 data file=C:\\Users\\brad\\AppData\\Local\\Temp\\tmp33eg6jy6\\yrvkds39.json init=C:\\Users\\brad\\AppData\\Local\\Temp\\tmp33eg6jy6\\8cjstdxm.json output file=C:\\Users\\brad\\AppData\\Local\\Temp\\tmp33eg6jy6\\prophet_modelmsa8308e\\prophet_model-20250421180026.csv method=optimize algorithm=newton iter=10000' failed: \n"
     ]
    },
    {
     "name": "stderr",
     "output_type": "stream",
     "text": [
      "18:00:26 - cmdstanpy - INFO - Chain [1] start processing\n",
      "18:00:26 - cmdstanpy - INFO - Chain [1] done processing\n",
      "18:00:26 - cmdstanpy - ERROR - Chain [1] error: terminated by signal 3221225657 \n",
      "Optimization terminated abnormally. Falling back to Newton.\n",
      "18:00:26 - cmdstanpy - INFO - Chain [1] start processing\n",
      "18:00:26 - cmdstanpy - INFO - Chain [1] done processing\n",
      "18:00:26 - cmdstanpy - ERROR - Chain [1] error: terminated by signal 3221225657 \n",
      "18:00:26 - cmdstanpy - INFO - Chain [1] start processing\n",
      "18:00:26 - cmdstanpy - INFO - Chain [1] done processing\n",
      "18:00:26 - cmdstanpy - ERROR - Chain [1] error: terminated by signal 3221225657 \n",
      "Optimization terminated abnormally. Falling back to Newton.\n",
      "18:00:27 - cmdstanpy - INFO - Chain [1] start processing\n",
      "18:00:27 - cmdstanpy - INFO - Chain [1] done processing\n"
     ]
    },
    {
     "name": "stdout",
     "output_type": "stream",
     "text": [
      "Error fitting Prophet for Holden-Parramore: Error during optimization! Command 'C:\\Users\\brad\\miniconda3\\envs\\ds2025-group3\\Lib\\site-packages\\prophet\\stan_model\\prophet_model.bin random seed=61811 data file=C:\\Users\\brad\\AppData\\Local\\Temp\\tmp33eg6jy6\\405281gr.json init=C:\\Users\\brad\\AppData\\Local\\Temp\\tmp33eg6jy6\\4htw98u2.json output file=C:\\Users\\brad\\AppData\\Local\\Temp\\tmp33eg6jy6\\prophet_modelhgwnm5gn\\prophet_model-20250421180026.csv method=optimize algorithm=newton iter=10000' failed: \n"
     ]
    },
    {
     "name": "stderr",
     "output_type": "stream",
     "text": [
      "18:00:27 - cmdstanpy - ERROR - Chain [1] error: terminated by signal 3221225657 \n",
      "18:00:27 - cmdstanpy - INFO - Chain [1] start processing\n",
      "18:00:27 - cmdstanpy - INFO - Chain [1] done processing\n",
      "18:00:27 - cmdstanpy - ERROR - Chain [1] error: terminated by signal 3221225657 \n",
      "Optimization terminated abnormally. Falling back to Newton.\n",
      "18:00:27 - cmdstanpy - INFO - Chain [1] start processing\n",
      "18:00:27 - cmdstanpy - INFO - Chain [1] done processing\n",
      "18:00:27 - cmdstanpy - ERROR - Chain [1] error: terminated by signal 3221225657 \n"
     ]
    },
    {
     "name": "stdout",
     "output_type": "stream",
     "text": [
      "Error fitting Prophet for Hunters Creek: Error during optimization! Command 'C:\\Users\\brad\\miniconda3\\envs\\ds2025-group3\\Lib\\site-packages\\prophet\\stan_model\\prophet_model.bin random seed=98798 data file=C:\\Users\\brad\\AppData\\Local\\Temp\\tmp33eg6jy6\\tbkhbsni.json init=C:\\Users\\brad\\AppData\\Local\\Temp\\tmp33eg6jy6\\p4q819ph.json output file=C:\\Users\\brad\\AppData\\Local\\Temp\\tmp33eg6jy6\\prophet_model_96392w1\\prophet_model-20250421180027.csv method=optimize algorithm=newton iter=10000' failed: \n"
     ]
    },
    {
     "name": "stderr",
     "output_type": "stream",
     "text": [
      "18:00:27 - cmdstanpy - INFO - Chain [1] start processing\n",
      "18:00:27 - cmdstanpy - INFO - Chain [1] done processing\n",
      "18:00:27 - cmdstanpy - ERROR - Chain [1] error: terminated by signal 3221225657 \n",
      "Optimization terminated abnormally. Falling back to Newton.\n",
      "18:00:27 - cmdstanpy - INFO - Chain [1] start processing\n",
      "18:00:27 - cmdstanpy - INFO - Chain [1] done processing\n",
      "18:00:27 - cmdstanpy - ERROR - Chain [1] error: terminated by signal 3221225657 \n"
     ]
    },
    {
     "name": "stdout",
     "output_type": "stream",
     "text": [
      "Error fitting Prophet for Johnson Village: Error during optimization! Command 'C:\\Users\\brad\\miniconda3\\envs\\ds2025-group3\\Lib\\site-packages\\prophet\\stan_model\\prophet_model.bin random seed=48011 data file=C:\\Users\\brad\\AppData\\Local\\Temp\\tmp33eg6jy6\\0hzjwc18.json init=C:\\Users\\brad\\AppData\\Local\\Temp\\tmp33eg6jy6\\b0np4jrz.json output file=C:\\Users\\brad\\AppData\\Local\\Temp\\tmp33eg6jy6\\prophet_model9h4qp2m7\\prophet_model-20250421180027.csv method=optimize algorithm=newton iter=10000' failed: \n",
      "Error fitting Prophet for Kirkman North: Error during optimization! Command 'C:\\Users\\brad\\miniconda3\\envs\\ds2025-group3\\Lib\\site-packages\\prophet\\stan_model\\prophet_model.bin random seed=32335 data file=C:\\Users\\brad\\AppData\\Local\\Temp\\tmp33eg6jy6\\j02hy86z.json init=C:\\Users\\brad\\AppData\\Local\\Temp\\tmp33eg6jy6\\3ts_8ifh.json output file=C:\\Users\\brad\\AppData\\Local\\Temp\\tmp33eg6jy6\\prophet_model_4x52k8j\\prophet_model-20250421180027.csv method=optimize algorithm=newton iter=10000' failed: \n"
     ]
    },
    {
     "name": "stderr",
     "output_type": "stream",
     "text": [
      "18:00:27 - cmdstanpy - INFO - Chain [1] start processing\n",
      "18:00:27 - cmdstanpy - INFO - Chain [1] done processing\n",
      "18:00:27 - cmdstanpy - ERROR - Chain [1] error: terminated by signal 3221225657 \n",
      "Optimization terminated abnormally. Falling back to Newton.\n",
      "18:00:27 - cmdstanpy - INFO - Chain [1] start processing\n",
      "18:00:27 - cmdstanpy - INFO - Chain [1] done processing\n",
      "18:00:27 - cmdstanpy - ERROR - Chain [1] error: terminated by signal 3221225657 \n",
      "18:00:27 - cmdstanpy - INFO - Chain [1] start processing\n",
      "18:00:27 - cmdstanpy - INFO - Chain [1] done processing\n",
      "18:00:27 - cmdstanpy - ERROR - Chain [1] error: terminated by signal 3221225657 \n",
      "Optimization terminated abnormally. Falling back to Newton.\n",
      "18:00:27 - cmdstanpy - INFO - Chain [1] start processing\n",
      "18:00:27 - cmdstanpy - INFO - Chain [1] done processing\n",
      "18:00:27 - cmdstanpy - ERROR - Chain [1] error: terminated by signal 3221225657 \n"
     ]
    },
    {
     "name": "stdout",
     "output_type": "stream",
     "text": [
      "Error fitting Prophet for Kirkman South: Error during optimization! Command 'C:\\Users\\brad\\miniconda3\\envs\\ds2025-group3\\Lib\\site-packages\\prophet\\stan_model\\prophet_model.bin random seed=63914 data file=C:\\Users\\brad\\AppData\\Local\\Temp\\tmp33eg6jy6\\wmxnk82r.json init=C:\\Users\\brad\\AppData\\Local\\Temp\\tmp33eg6jy6\\zkvys4ip.json output file=C:\\Users\\brad\\AppData\\Local\\Temp\\tmp33eg6jy6\\prophet_modelkuva0oa_\\prophet_model-20250421180027.csv method=optimize algorithm=newton iter=10000' failed: \n",
      "Error fitting Prophet for LaVina: Error during optimization! Command 'C:\\Users\\brad\\miniconda3\\envs\\ds2025-group3\\Lib\\site-packages\\prophet\\stan_model\\prophet_model.bin random seed=45755 data file=C:\\Users\\brad\\AppData\\Local\\Temp\\tmp33eg6jy6\\mvu36bes.json init=C:\\Users\\brad\\AppData\\Local\\Temp\\tmp33eg6jy6\\40qb5pcm.json output file=C:\\Users\\brad\\AppData\\Local\\Temp\\tmp33eg6jy6\\prophet_model01131151\\prophet_model-20250421180027.csv method=optimize algorithm=newton iter=10000' failed: \n"
     ]
    },
    {
     "name": "stderr",
     "output_type": "stream",
     "text": [
      "18:00:27 - cmdstanpy - INFO - Chain [1] start processing\n",
      "18:00:27 - cmdstanpy - INFO - Chain [1] done processing\n",
      "18:00:27 - cmdstanpy - ERROR - Chain [1] error: terminated by signal 3221225657 \n",
      "Optimization terminated abnormally. Falling back to Newton.\n",
      "18:00:27 - cmdstanpy - INFO - Chain [1] start processing\n",
      "18:00:27 - cmdstanpy - INFO - Chain [1] done processing\n",
      "18:00:27 - cmdstanpy - ERROR - Chain [1] error: terminated by signal 3221225657 \n",
      "18:00:28 - cmdstanpy - INFO - Chain [1] start processing\n",
      "18:00:28 - cmdstanpy - INFO - Chain [1] done processing\n",
      "18:00:28 - cmdstanpy - ERROR - Chain [1] error: terminated by signal 3221225657 \n",
      "Optimization terminated abnormally. Falling back to Newton.\n",
      "18:00:28 - cmdstanpy - INFO - Chain [1] start processing\n",
      "18:00:28 - cmdstanpy - INFO - Chain [1] done processing\n",
      "18:00:28 - cmdstanpy - ERROR - Chain [1] error: terminated by signal 3221225657 \n"
     ]
    },
    {
     "name": "stdout",
     "output_type": "stream",
     "text": [
      "Error fitting Prophet for Lake Cherokee: Error during optimization! Command 'C:\\Users\\brad\\miniconda3\\envs\\ds2025-group3\\Lib\\site-packages\\prophet\\stan_model\\prophet_model.bin random seed=13110 data file=C:\\Users\\brad\\AppData\\Local\\Temp\\tmp33eg6jy6\\tw9qgw2w.json init=C:\\Users\\brad\\AppData\\Local\\Temp\\tmp33eg6jy6\\5aiqmueo.json output file=C:\\Users\\brad\\AppData\\Local\\Temp\\tmp33eg6jy6\\prophet_model08wqw5xx\\prophet_model-20250421180027.csv method=optimize algorithm=newton iter=10000' failed: \n",
      "Error fitting Prophet for Lake Como: Error during optimization! Command 'C:\\Users\\brad\\miniconda3\\envs\\ds2025-group3\\Lib\\site-packages\\prophet\\stan_model\\prophet_model.bin random seed=73735 data file=C:\\Users\\brad\\AppData\\Local\\Temp\\tmp33eg6jy6\\wx8du232.json init=C:\\Users\\brad\\AppData\\Local\\Temp\\tmp33eg6jy6\\1d92fmtz.json output file=C:\\Users\\brad\\AppData\\Local\\Temp\\tmp33eg6jy6\\prophet_modelqcvoc6fm\\prophet_model-20250421180028.csv method=optimize algorithm=newton iter=10000' failed: \n"
     ]
    },
    {
     "name": "stderr",
     "output_type": "stream",
     "text": [
      "18:00:28 - cmdstanpy - INFO - Chain [1] start processing\n",
      "18:00:28 - cmdstanpy - INFO - Chain [1] done processing\n",
      "18:00:28 - cmdstanpy - ERROR - Chain [1] error: terminated by signal 3221225657 \n",
      "Optimization terminated abnormally. Falling back to Newton.\n",
      "18:00:28 - cmdstanpy - INFO - Chain [1] start processing\n",
      "18:00:28 - cmdstanpy - INFO - Chain [1] done processing\n",
      "18:00:28 - cmdstanpy - ERROR - Chain [1] error: terminated by signal 3221225657 \n",
      "18:00:28 - cmdstanpy - INFO - Chain [1] start processing\n",
      "18:00:28 - cmdstanpy - INFO - Chain [1] done processing\n",
      "18:00:28 - cmdstanpy - ERROR - Chain [1] error: terminated by signal 3221225657 \n",
      "Optimization terminated abnormally. Falling back to Newton.\n",
      "18:00:28 - cmdstanpy - INFO - Chain [1] start processing\n",
      "18:00:28 - cmdstanpy - INFO - Chain [1] done processing\n",
      "18:00:28 - cmdstanpy - ERROR - Chain [1] error: terminated by signal 3221225657 \n"
     ]
    },
    {
     "name": "stdout",
     "output_type": "stream",
     "text": [
      "Error fitting Prophet for Lake Copeland: Error during optimization! Command 'C:\\Users\\brad\\miniconda3\\envs\\ds2025-group3\\Lib\\site-packages\\prophet\\stan_model\\prophet_model.bin random seed=95228 data file=C:\\Users\\brad\\AppData\\Local\\Temp\\tmp33eg6jy6\\bey65l5j.json init=C:\\Users\\brad\\AppData\\Local\\Temp\\tmp33eg6jy6\\q2qu7vkx.json output file=C:\\Users\\brad\\AppData\\Local\\Temp\\tmp33eg6jy6\\prophet_modelz0xy3v7x\\prophet_model-20250421180028.csv method=optimize algorithm=newton iter=10000' failed: \n"
     ]
    },
    {
     "name": "stderr",
     "output_type": "stream",
     "text": [
      "18:00:28 - cmdstanpy - INFO - Chain [1] start processing\n",
      "18:00:28 - cmdstanpy - INFO - Chain [1] done processing\n",
      "18:00:28 - cmdstanpy - ERROR - Chain [1] error: terminated by signal 3221225657 \n",
      "Optimization terminated abnormally. Falling back to Newton.\n",
      "18:00:28 - cmdstanpy - INFO - Chain [1] start processing\n",
      "18:00:28 - cmdstanpy - INFO - Chain [1] done processing\n",
      "18:00:28 - cmdstanpy - ERROR - Chain [1] error: terminated by signal 3221225657 \n"
     ]
    },
    {
     "name": "stdout",
     "output_type": "stream",
     "text": [
      "Error fitting Prophet for Lake Davis-Greenwood: Error during optimization! Command 'C:\\Users\\brad\\miniconda3\\envs\\ds2025-group3\\Lib\\site-packages\\prophet\\stan_model\\prophet_model.bin random seed=41088 data file=C:\\Users\\brad\\AppData\\Local\\Temp\\tmp33eg6jy6\\c6wcjo9t.json init=C:\\Users\\brad\\AppData\\Local\\Temp\\tmp33eg6jy6\\qwct4so7.json output file=C:\\Users\\brad\\AppData\\Local\\Temp\\tmp33eg6jy6\\prophet_model19le0koa\\prophet_model-20250421180028.csv method=optimize algorithm=newton iter=10000' failed: \n",
      "Error fitting Prophet for Lake Eola Heights: Error during optimization! Command 'C:\\Users\\brad\\miniconda3\\envs\\ds2025-group3\\Lib\\site-packages\\prophet\\stan_model\\prophet_model.bin random seed=14995 data file=C:\\Users\\brad\\AppData\\Local\\Temp\\tmp33eg6jy6\\9gaglool.json init=C:\\Users\\brad\\AppData\\Local\\Temp\\tmp33eg6jy6\\8zgzjpqu.json output file=C:\\Users\\brad\\AppData\\Local\\Temp\\tmp33eg6jy6\\prophet_modelziun1w78\\prophet_model-20250421180028.csv method=optimize algorithm=newton iter=10000' failed: \n"
     ]
    },
    {
     "name": "stderr",
     "output_type": "stream",
     "text": [
      "18:00:28 - cmdstanpy - INFO - Chain [1] start processing\n",
      "18:00:28 - cmdstanpy - INFO - Chain [1] done processing\n",
      "18:00:28 - cmdstanpy - ERROR - Chain [1] error: terminated by signal 3221225657 \n",
      "Optimization terminated abnormally. Falling back to Newton.\n",
      "18:00:28 - cmdstanpy - INFO - Chain [1] start processing\n",
      "18:00:28 - cmdstanpy - INFO - Chain [1] done processing\n",
      "18:00:28 - cmdstanpy - ERROR - Chain [1] error: terminated by signal 3221225657 \n",
      "18:00:28 - cmdstanpy - INFO - Chain [1] start processing\n",
      "18:00:28 - cmdstanpy - INFO - Chain [1] done processing\n",
      "18:00:28 - cmdstanpy - ERROR - Chain [1] error: terminated by signal 3221225657 \n",
      "Optimization terminated abnormally. Falling back to Newton.\n",
      "18:00:29 - cmdstanpy - INFO - Chain [1] start processing\n"
     ]
    },
    {
     "name": "stdout",
     "output_type": "stream",
     "text": [
      "Error fitting Prophet for Lake Formosa: Error during optimization! Command 'C:\\Users\\brad\\miniconda3\\envs\\ds2025-group3\\Lib\\site-packages\\prophet\\stan_model\\prophet_model.bin random seed=36195 data file=C:\\Users\\brad\\AppData\\Local\\Temp\\tmp33eg6jy6\\5vo5s_sw.json init=C:\\Users\\brad\\AppData\\Local\\Temp\\tmp33eg6jy6\\klzxx1xe.json output file=C:\\Users\\brad\\AppData\\Local\\Temp\\tmp33eg6jy6\\prophet_modelsxd4mqcc\\prophet_model-20250421180028.csv method=optimize algorithm=newton iter=10000' failed: \n"
     ]
    },
    {
     "name": "stderr",
     "output_type": "stream",
     "text": [
      "18:00:29 - cmdstanpy - INFO - Chain [1] done processing\n",
      "18:00:29 - cmdstanpy - ERROR - Chain [1] error: terminated by signal 3221225657 \n",
      "18:00:29 - cmdstanpy - INFO - Chain [1] start processing\n",
      "18:00:29 - cmdstanpy - INFO - Chain [1] done processing\n",
      "18:00:29 - cmdstanpy - ERROR - Chain [1] error: terminated by signal 3221225657 \n",
      "Optimization terminated abnormally. Falling back to Newton.\n",
      "18:00:29 - cmdstanpy - INFO - Chain [1] start processing\n",
      "18:00:29 - cmdstanpy - INFO - Chain [1] done processing\n",
      "18:00:29 - cmdstanpy - ERROR - Chain [1] error: terminated by signal 3221225657 \n"
     ]
    },
    {
     "name": "stdout",
     "output_type": "stream",
     "text": [
      "Error fitting Prophet for Lake Frendrica: Error during optimization! Command 'C:\\Users\\brad\\miniconda3\\envs\\ds2025-group3\\Lib\\site-packages\\prophet\\stan_model\\prophet_model.bin random seed=43642 data file=C:\\Users\\brad\\AppData\\Local\\Temp\\tmp33eg6jy6\\u48xgibd.json init=C:\\Users\\brad\\AppData\\Local\\Temp\\tmp33eg6jy6\\3eltfja4.json output file=C:\\Users\\brad\\AppData\\Local\\Temp\\tmp33eg6jy6\\prophet_modelrhp8xqfj\\prophet_model-20250421180029.csv method=optimize algorithm=newton iter=10000' failed: \n",
      "Error fitting Prophet for Lake Mann Estates: Error during optimization! Command 'C:\\Users\\brad\\miniconda3\\envs\\ds2025-group3\\Lib\\site-packages\\prophet\\stan_model\\prophet_model.bin random seed=25210 data file=C:\\Users\\brad\\AppData\\Local\\Temp\\tmp33eg6jy6\\rwql1nxe.json init=C:\\Users\\brad\\AppData\\Local\\Temp\\tmp33eg6jy6\\t7twwkg6.json output file=C:\\Users\\brad\\AppData\\Local\\Temp\\tmp33eg6jy6\\prophet_modelsy9_y6ip\\prophet_model-20250421180029.csv method=optimize algorithm=newton iter=10000' failed: \n"
     ]
    },
    {
     "name": "stderr",
     "output_type": "stream",
     "text": [
      "18:00:29 - cmdstanpy - INFO - Chain [1] start processing\n",
      "18:00:29 - cmdstanpy - INFO - Chain [1] done processing\n",
      "18:00:29 - cmdstanpy - ERROR - Chain [1] error: terminated by signal 3221225657 \n",
      "Optimization terminated abnormally. Falling back to Newton.\n",
      "18:00:29 - cmdstanpy - INFO - Chain [1] start processing\n",
      "18:00:29 - cmdstanpy - INFO - Chain [1] done processing\n",
      "18:00:29 - cmdstanpy - ERROR - Chain [1] error: terminated by signal 3221225657 \n",
      "18:00:29 - cmdstanpy - INFO - Chain [1] start processing\n",
      "18:00:29 - cmdstanpy - INFO - Chain [1] done processing\n",
      "18:00:29 - cmdstanpy - ERROR - Chain [1] error: terminated by signal 3221225657 \n",
      "Optimization terminated abnormally. Falling back to Newton.\n",
      "18:00:29 - cmdstanpy - INFO - Chain [1] start processing\n",
      "18:00:29 - cmdstanpy - INFO - Chain [1] done processing\n",
      "18:00:29 - cmdstanpy - ERROR - Chain [1] error: terminated by signal 3221225657 \n"
     ]
    },
    {
     "name": "stdout",
     "output_type": "stream",
     "text": [
      "Error fitting Prophet for Lake Nona Central: Error during optimization! Command 'C:\\Users\\brad\\miniconda3\\envs\\ds2025-group3\\Lib\\site-packages\\prophet\\stan_model\\prophet_model.bin random seed=46084 data file=C:\\Users\\brad\\AppData\\Local\\Temp\\tmp33eg6jy6\\zmmtdpnu.json init=C:\\Users\\brad\\AppData\\Local\\Temp\\tmp33eg6jy6\\b0u1a6w7.json output file=C:\\Users\\brad\\AppData\\Local\\Temp\\tmp33eg6jy6\\prophet_model58f2gexf\\prophet_model-20250421180029.csv method=optimize algorithm=newton iter=10000' failed: \n",
      "Error fitting Prophet for Lake Nona Estates: Error during optimization! Command 'C:\\Users\\brad\\miniconda3\\envs\\ds2025-group3\\Lib\\site-packages\\prophet\\stan_model\\prophet_model.bin random seed=4271 data file=C:\\Users\\brad\\AppData\\Local\\Temp\\tmp33eg6jy6\\e9fveccb.json init=C:\\Users\\brad\\AppData\\Local\\Temp\\tmp33eg6jy6\\pm1054m7.json output file=C:\\Users\\brad\\AppData\\Local\\Temp\\tmp33eg6jy6\\prophet_model9grrdmsp\\prophet_model-20250421180029.csv method=optimize algorithm=newton iter=10000' failed: \n"
     ]
    },
    {
     "name": "stderr",
     "output_type": "stream",
     "text": [
      "18:00:29 - cmdstanpy - INFO - Chain [1] start processing\n",
      "18:00:29 - cmdstanpy - INFO - Chain [1] done processing\n",
      "18:00:29 - cmdstanpy - ERROR - Chain [1] error: terminated by signal 3221225657 \n",
      "Optimization terminated abnormally. Falling back to Newton.\n",
      "18:00:29 - cmdstanpy - INFO - Chain [1] start processing\n",
      "18:00:29 - cmdstanpy - INFO - Chain [1] done processing\n",
      "18:00:29 - cmdstanpy - ERROR - Chain [1] error: terminated by signal 3221225657 \n",
      "18:00:29 - cmdstanpy - INFO - Chain [1] start processing\n",
      "18:00:29 - cmdstanpy - INFO - Chain [1] done processing\n",
      "18:00:29 - cmdstanpy - ERROR - Chain [1] error: terminated by signal 3221225657 \n",
      "Optimization terminated abnormally. Falling back to Newton.\n",
      "18:00:29 - cmdstanpy - INFO - Chain [1] start processing\n",
      "18:00:29 - cmdstanpy - INFO - Chain [1] done processing\n",
      "18:00:29 - cmdstanpy - ERROR - Chain [1] error: terminated by signal 3221225657 \n"
     ]
    },
    {
     "name": "stdout",
     "output_type": "stream",
     "text": [
      "Error fitting Prophet for Lake Nona South: Error during optimization! Command 'C:\\Users\\brad\\miniconda3\\envs\\ds2025-group3\\Lib\\site-packages\\prophet\\stan_model\\prophet_model.bin random seed=44290 data file=C:\\Users\\brad\\AppData\\Local\\Temp\\tmp33eg6jy6\\cg2dxjx_.json init=C:\\Users\\brad\\AppData\\Local\\Temp\\tmp33eg6jy6\\88fk7n23.json output file=C:\\Users\\brad\\AppData\\Local\\Temp\\tmp33eg6jy6\\prophet_modelddvytiws\\prophet_model-20250421180029.csv method=optimize algorithm=newton iter=10000' failed: \n",
      "Error fitting Prophet for Lake Shore Village: Error during optimization! Command 'C:\\Users\\brad\\miniconda3\\envs\\ds2025-group3\\Lib\\site-packages\\prophet\\stan_model\\prophet_model.bin random seed=35751 data file=C:\\Users\\brad\\AppData\\Local\\Temp\\tmp33eg6jy6\\012wx35w.json init=C:\\Users\\brad\\AppData\\Local\\Temp\\tmp33eg6jy6\\76v6ccpo.json output file=C:\\Users\\brad\\AppData\\Local\\Temp\\tmp33eg6jy6\\prophet_modeldd6vpowi\\prophet_model-20250421180029.csv method=optimize algorithm=newton iter=10000' failed: \n"
     ]
    },
    {
     "name": "stderr",
     "output_type": "stream",
     "text": [
      "18:00:30 - cmdstanpy - INFO - Chain [1] start processing\n",
      "18:00:30 - cmdstanpy - INFO - Chain [1] done processing\n",
      "18:00:30 - cmdstanpy - ERROR - Chain [1] error: terminated by signal 3221225657 \n",
      "Optimization terminated abnormally. Falling back to Newton.\n",
      "18:00:30 - cmdstanpy - INFO - Chain [1] start processing\n",
      "18:00:30 - cmdstanpy - INFO - Chain [1] done processing\n",
      "18:00:30 - cmdstanpy - ERROR - Chain [1] error: terminated by signal 3221225657 \n",
      "18:00:30 - cmdstanpy - INFO - Chain [1] start processing\n",
      "18:00:30 - cmdstanpy - INFO - Chain [1] done processing\n",
      "18:00:30 - cmdstanpy - ERROR - Chain [1] error: terminated by signal 3221225657 \n",
      "Optimization terminated abnormally. Falling back to Newton.\n",
      "18:00:30 - cmdstanpy - INFO - Chain [1] start processing\n",
      "18:00:30 - cmdstanpy - INFO - Chain [1] done processing\n"
     ]
    },
    {
     "name": "stdout",
     "output_type": "stream",
     "text": [
      "Error fitting Prophet for Lake Sunset: Error during optimization! Command 'C:\\Users\\brad\\miniconda3\\envs\\ds2025-group3\\Lib\\site-packages\\prophet\\stan_model\\prophet_model.bin random seed=63766 data file=C:\\Users\\brad\\AppData\\Local\\Temp\\tmp33eg6jy6\\o15jmdyy.json init=C:\\Users\\brad\\AppData\\Local\\Temp\\tmp33eg6jy6\\ds2x657q.json output file=C:\\Users\\brad\\AppData\\Local\\Temp\\tmp33eg6jy6\\prophet_modelxwm91b70\\prophet_model-20250421180030.csv method=optimize algorithm=newton iter=10000' failed: \n"
     ]
    },
    {
     "name": "stderr",
     "output_type": "stream",
     "text": [
      "18:00:30 - cmdstanpy - ERROR - Chain [1] error: terminated by signal 3221225657 \n",
      "18:00:30 - cmdstanpy - INFO - Chain [1] start processing\n",
      "18:00:30 - cmdstanpy - INFO - Chain [1] done processing\n",
      "18:00:30 - cmdstanpy - ERROR - Chain [1] error: terminated by signal 3221225657 \n",
      "Optimization terminated abnormally. Falling back to Newton.\n",
      "18:00:30 - cmdstanpy - INFO - Chain [1] start processing\n",
      "18:00:30 - cmdstanpy - INFO - Chain [1] done processing\n",
      "18:00:30 - cmdstanpy - ERROR - Chain [1] error: terminated by signal 3221225657 \n"
     ]
    },
    {
     "name": "stdout",
     "output_type": "stream",
     "text": [
      "Error fitting Prophet for Lake Terrace: Error during optimization! Command 'C:\\Users\\brad\\miniconda3\\envs\\ds2025-group3\\Lib\\site-packages\\prophet\\stan_model\\prophet_model.bin random seed=88089 data file=C:\\Users\\brad\\AppData\\Local\\Temp\\tmp33eg6jy6\\3tqqudr6.json init=C:\\Users\\brad\\AppData\\Local\\Temp\\tmp33eg6jy6\\8je3sjit.json output file=C:\\Users\\brad\\AppData\\Local\\Temp\\tmp33eg6jy6\\prophet_modeli5i649m_\\prophet_model-20250421180030.csv method=optimize algorithm=newton iter=10000' failed: \n"
     ]
    },
    {
     "name": "stderr",
     "output_type": "stream",
     "text": [
      "18:00:30 - cmdstanpy - INFO - Chain [1] start processing\n",
      "18:00:30 - cmdstanpy - INFO - Chain [1] done processing\n",
      "18:00:30 - cmdstanpy - ERROR - Chain [1] error: terminated by signal 3221225657 \n",
      "Optimization terminated abnormally. Falling back to Newton.\n",
      "18:00:30 - cmdstanpy - INFO - Chain [1] start processing\n",
      "18:00:30 - cmdstanpy - INFO - Chain [1] done processing\n",
      "18:00:30 - cmdstanpy - ERROR - Chain [1] error: terminated by signal 3221225657 \n"
     ]
    },
    {
     "name": "stdout",
     "output_type": "stream",
     "text": [
      "Error fitting Prophet for Lake Underhill: Error during optimization! Command 'C:\\Users\\brad\\miniconda3\\envs\\ds2025-group3\\Lib\\site-packages\\prophet\\stan_model\\prophet_model.bin random seed=5727 data file=C:\\Users\\brad\\AppData\\Local\\Temp\\tmp33eg6jy6\\unbq62w2.json init=C:\\Users\\brad\\AppData\\Local\\Temp\\tmp33eg6jy6\\f7bag1xy.json output file=C:\\Users\\brad\\AppData\\Local\\Temp\\tmp33eg6jy6\\prophet_model_2hq2e41\\prophet_model-20250421180030.csv method=optimize algorithm=newton iter=10000' failed: \n",
      "Error fitting Prophet for Lake Weldona: Error during optimization! Command 'C:\\Users\\brad\\miniconda3\\envs\\ds2025-group3\\Lib\\site-packages\\prophet\\stan_model\\prophet_model.bin random seed=8015 data file=C:\\Users\\brad\\AppData\\Local\\Temp\\tmp33eg6jy6\\t6pp917_.json init=C:\\Users\\brad\\AppData\\Local\\Temp\\tmp33eg6jy6\\572d2_nt.json output file=C:\\Users\\brad\\AppData\\Local\\Temp\\tmp33eg6jy6\\prophet_modelda2clvvk\\prophet_model-20250421180030.csv method=optimize algorithm=newton iter=10000' failed: \n"
     ]
    },
    {
     "name": "stderr",
     "output_type": "stream",
     "text": [
      "18:00:30 - cmdstanpy - INFO - Chain [1] start processing\n",
      "18:00:30 - cmdstanpy - INFO - Chain [1] done processing\n",
      "18:00:30 - cmdstanpy - ERROR - Chain [1] error: terminated by signal 3221225657 \n",
      "Optimization terminated abnormally. Falling back to Newton.\n",
      "18:00:30 - cmdstanpy - INFO - Chain [1] start processing\n",
      "18:00:30 - cmdstanpy - INFO - Chain [1] done processing\n",
      "18:00:30 - cmdstanpy - ERROR - Chain [1] error: terminated by signal 3221225657 \n",
      "18:00:30 - cmdstanpy - INFO - Chain [1] start processing\n",
      "18:00:30 - cmdstanpy - INFO - Chain [1] done processing\n",
      "18:00:30 - cmdstanpy - ERROR - Chain [1] error: terminated by signal 3221225657 \n",
      "Optimization terminated abnormally. Falling back to Newton.\n",
      "18:00:30 - cmdstanpy - INFO - Chain [1] start processing\n",
      "18:00:30 - cmdstanpy - INFO - Chain [1] done processing\n",
      "18:00:30 - cmdstanpy - ERROR - Chain [1] error: terminated by signal 3221225657 \n"
     ]
    },
    {
     "name": "stdout",
     "output_type": "stream",
     "text": [
      "Error fitting Prophet for Lancaster Park: Error during optimization! Command 'C:\\Users\\brad\\miniconda3\\envs\\ds2025-group3\\Lib\\site-packages\\prophet\\stan_model\\prophet_model.bin random seed=26766 data file=C:\\Users\\brad\\AppData\\Local\\Temp\\tmp33eg6jy6\\rit_wdk6.json init=C:\\Users\\brad\\AppData\\Local\\Temp\\tmp33eg6jy6\\y9peehmj.json output file=C:\\Users\\brad\\AppData\\Local\\Temp\\tmp33eg6jy6\\prophet_model78vyddwh\\prophet_model-20250421180030.csv method=optimize algorithm=newton iter=10000' failed: \n",
      "Error fitting Prophet for Lawsona-Fern Creek: Error during optimization! Command 'C:\\Users\\brad\\miniconda3\\envs\\ds2025-group3\\Lib\\site-packages\\prophet\\stan_model\\prophet_model.bin random seed=87771 data file=C:\\Users\\brad\\AppData\\Local\\Temp\\tmp33eg6jy6\\3fwr30wf.json init=C:\\Users\\brad\\AppData\\Local\\Temp\\tmp33eg6jy6\\3878xp7q.json output file=C:\\Users\\brad\\AppData\\Local\\Temp\\tmp33eg6jy6\\prophet_model19stgsuk\\prophet_model-20250421180030.csv method=optimize algorithm=newton iter=10000' failed: \n"
     ]
    },
    {
     "name": "stderr",
     "output_type": "stream",
     "text": [
      "18:00:31 - cmdstanpy - INFO - Chain [1] start processing\n",
      "18:00:31 - cmdstanpy - INFO - Chain [1] done processing\n",
      "18:00:31 - cmdstanpy - ERROR - Chain [1] error: terminated by signal 3221225657 \n",
      "Optimization terminated abnormally. Falling back to Newton.\n",
      "18:00:31 - cmdstanpy - INFO - Chain [1] start processing\n",
      "18:00:31 - cmdstanpy - INFO - Chain [1] done processing\n",
      "18:00:31 - cmdstanpy - ERROR - Chain [1] error: terminated by signal 3221225657 \n",
      "18:00:31 - cmdstanpy - INFO - Chain [1] start processing\n",
      "18:00:31 - cmdstanpy - INFO - Chain [1] done processing\n",
      "18:00:31 - cmdstanpy - ERROR - Chain [1] error: terminated by signal 3221225657 \n",
      "Optimization terminated abnormally. Falling back to Newton.\n",
      "18:00:31 - cmdstanpy - INFO - Chain [1] start processing\n",
      "18:00:31 - cmdstanpy - INFO - Chain [1] done processing\n",
      "18:00:31 - cmdstanpy - ERROR - Chain [1] error: terminated by signal 3221225657 \n"
     ]
    },
    {
     "name": "stdout",
     "output_type": "stream",
     "text": [
      "Error fitting Prophet for Lockhart: Error during optimization! Command 'C:\\Users\\brad\\miniconda3\\envs\\ds2025-group3\\Lib\\site-packages\\prophet\\stan_model\\prophet_model.bin random seed=80659 data file=C:\\Users\\brad\\AppData\\Local\\Temp\\tmp33eg6jy6\\e47426l8.json init=C:\\Users\\brad\\AppData\\Local\\Temp\\tmp33eg6jy6\\4e3l214_.json output file=C:\\Users\\brad\\AppData\\Local\\Temp\\tmp33eg6jy6\\prophet_modelrpsjbqqc\\prophet_model-20250421180031.csv method=optimize algorithm=newton iter=10000' failed: \n",
      "Error fitting Prophet for Malibu Groves: Error during optimization! Command 'C:\\Users\\brad\\miniconda3\\envs\\ds2025-group3\\Lib\\site-packages\\prophet\\stan_model\\prophet_model.bin random seed=26058 data file=C:\\Users\\brad\\AppData\\Local\\Temp\\tmp33eg6jy6\\afmmupou.json init=C:\\Users\\brad\\AppData\\Local\\Temp\\tmp33eg6jy6\\ryt12oh6.json output file=C:\\Users\\brad\\AppData\\Local\\Temp\\tmp33eg6jy6\\prophet_model5495apy5\\prophet_model-20250421180031.csv method=optimize algorithm=newton iter=10000' failed: \n"
     ]
    },
    {
     "name": "stderr",
     "output_type": "stream",
     "text": [
      "18:00:31 - cmdstanpy - INFO - Chain [1] start processing\n",
      "18:00:31 - cmdstanpy - INFO - Chain [1] done processing\n",
      "18:00:31 - cmdstanpy - ERROR - Chain [1] error: terminated by signal 3221225657 \n",
      "Optimization terminated abnormally. Falling back to Newton.\n",
      "18:00:31 - cmdstanpy - INFO - Chain [1] start processing\n",
      "18:00:31 - cmdstanpy - INFO - Chain [1] done processing\n",
      "18:00:31 - cmdstanpy - ERROR - Chain [1] error: terminated by signal 3221225657 \n",
      "18:00:31 - cmdstanpy - INFO - Chain [1] start processing\n",
      "18:00:31 - cmdstanpy - INFO - Chain [1] done processing\n",
      "18:00:31 - cmdstanpy - ERROR - Chain [1] error: terminated by signal 3221225657 \n",
      "Optimization terminated abnormally. Falling back to Newton.\n",
      "18:00:31 - cmdstanpy - INFO - Chain [1] start processing\n",
      "18:00:31 - cmdstanpy - INFO - Chain [1] done processing\n",
      "18:00:31 - cmdstanpy - ERROR - Chain [1] error: terminated by signal 3221225657 \n"
     ]
    },
    {
     "name": "stdout",
     "output_type": "stream",
     "text": [
      "Error fitting Prophet for Mariners Village: Error during optimization! Command 'C:\\Users\\brad\\miniconda3\\envs\\ds2025-group3\\Lib\\site-packages\\prophet\\stan_model\\prophet_model.bin random seed=63956 data file=C:\\Users\\brad\\AppData\\Local\\Temp\\tmp33eg6jy6\\swmrnb73.json init=C:\\Users\\brad\\AppData\\Local\\Temp\\tmp33eg6jy6\\kbe67wi5.json output file=C:\\Users\\brad\\AppData\\Local\\Temp\\tmp33eg6jy6\\prophet_model4erwco2c\\prophet_model-20250421180031.csv method=optimize algorithm=newton iter=10000' failed: \n",
      "Error fitting Prophet for Meadow Woods: Error during optimization! Command 'C:\\Users\\brad\\miniconda3\\envs\\ds2025-group3\\Lib\\site-packages\\prophet\\stan_model\\prophet_model.bin random seed=95904 data file=C:\\Users\\brad\\AppData\\Local\\Temp\\tmp33eg6jy6\\g28whbu_.json init=C:\\Users\\brad\\AppData\\Local\\Temp\\tmp33eg6jy6\\sjmo2e2o.json output file=C:\\Users\\brad\\AppData\\Local\\Temp\\tmp33eg6jy6\\prophet_model_8xnv5i4\\prophet_model-20250421180031.csv method=optimize algorithm=newton iter=10000' failed: \n"
     ]
    },
    {
     "name": "stderr",
     "output_type": "stream",
     "text": [
      "18:00:31 - cmdstanpy - INFO - Chain [1] start processing\n",
      "18:00:31 - cmdstanpy - INFO - Chain [1] done processing\n",
      "18:00:31 - cmdstanpy - ERROR - Chain [1] error: terminated by signal 3221225657 \n",
      "Optimization terminated abnormally. Falling back to Newton.\n",
      "18:00:31 - cmdstanpy - INFO - Chain [1] start processing\n",
      "18:00:31 - cmdstanpy - INFO - Chain [1] done processing\n",
      "18:00:31 - cmdstanpy - ERROR - Chain [1] error: terminated by signal 3221225657 \n",
      "18:00:31 - cmdstanpy - INFO - Chain [1] start processing\n",
      "18:00:32 - cmdstanpy - INFO - Chain [1] done processing\n",
      "18:00:32 - cmdstanpy - ERROR - Chain [1] error: terminated by signal 3221225657 \n",
      "Optimization terminated abnormally. Falling back to Newton.\n",
      "18:00:32 - cmdstanpy - INFO - Chain [1] start processing\n",
      "18:00:32 - cmdstanpy - INFO - Chain [1] done processing\n",
      "18:00:32 - cmdstanpy - ERROR - Chain [1] error: terminated by signal 3221225657 \n"
     ]
    },
    {
     "name": "stdout",
     "output_type": "stream",
     "text": [
      "Error fitting Prophet for Mercy Drive: Error during optimization! Command 'C:\\Users\\brad\\miniconda3\\envs\\ds2025-group3\\Lib\\site-packages\\prophet\\stan_model\\prophet_model.bin random seed=89048 data file=C:\\Users\\brad\\AppData\\Local\\Temp\\tmp33eg6jy6\\ky55hioj.json init=C:\\Users\\brad\\AppData\\Local\\Temp\\tmp33eg6jy6\\juwkvf1t.json output file=C:\\Users\\brad\\AppData\\Local\\Temp\\tmp33eg6jy6\\prophet_model_w770n4x\\prophet_model-20250421180031.csv method=optimize algorithm=newton iter=10000' failed: \n",
      "Error fitting Prophet for Metro West: Error during optimization! Command 'C:\\Users\\brad\\miniconda3\\envs\\ds2025-group3\\Lib\\site-packages\\prophet\\stan_model\\prophet_model.bin random seed=69798 data file=C:\\Users\\brad\\AppData\\Local\\Temp\\tmp33eg6jy6\\m5gutmou.json init=C:\\Users\\brad\\AppData\\Local\\Temp\\tmp33eg6jy6\\fk_1n7xt.json output file=C:\\Users\\brad\\AppData\\Local\\Temp\\tmp33eg6jy6\\prophet_modelrs4_lft6\\prophet_model-20250421180032.csv method=optimize algorithm=newton iter=10000' failed: \n"
     ]
    },
    {
     "name": "stderr",
     "output_type": "stream",
     "text": [
      "18:00:32 - cmdstanpy - INFO - Chain [1] start processing\n",
      "18:00:32 - cmdstanpy - INFO - Chain [1] done processing\n",
      "18:00:32 - cmdstanpy - ERROR - Chain [1] error: terminated by signal 3221225657 \n",
      "Optimization terminated abnormally. Falling back to Newton.\n",
      "18:00:32 - cmdstanpy - INFO - Chain [1] start processing\n",
      "18:00:32 - cmdstanpy - INFO - Chain [1] done processing\n",
      "18:00:32 - cmdstanpy - ERROR - Chain [1] error: terminated by signal 3221225657 \n",
      "18:00:32 - cmdstanpy - INFO - Chain [1] start processing\n",
      "18:00:32 - cmdstanpy - INFO - Chain [1] done processing\n",
      "18:00:32 - cmdstanpy - ERROR - Chain [1] error: terminated by signal 3221225657 \n",
      "Optimization terminated abnormally. Falling back to Newton.\n",
      "18:00:32 - cmdstanpy - INFO - Chain [1] start processing\n",
      "18:00:32 - cmdstanpy - INFO - Chain [1] done processing\n",
      "18:00:32 - cmdstanpy - ERROR - Chain [1] error: terminated by signal 3221225657 \n"
     ]
    },
    {
     "name": "stdout",
     "output_type": "stream",
     "text": [
      "Error fitting Prophet for Millenia: Error during optimization! Command 'C:\\Users\\brad\\miniconda3\\envs\\ds2025-group3\\Lib\\site-packages\\prophet\\stan_model\\prophet_model.bin random seed=63182 data file=C:\\Users\\brad\\AppData\\Local\\Temp\\tmp33eg6jy6\\una1ga84.json init=C:\\Users\\brad\\AppData\\Local\\Temp\\tmp33eg6jy6\\sb_z6ec5.json output file=C:\\Users\\brad\\AppData\\Local\\Temp\\tmp33eg6jy6\\prophet_model28in9sg0\\prophet_model-20250421180032.csv method=optimize algorithm=newton iter=10000' failed: \n",
      "Error fitting Prophet for Monterey: Error during optimization! Command 'C:\\Users\\brad\\miniconda3\\envs\\ds2025-group3\\Lib\\site-packages\\prophet\\stan_model\\prophet_model.bin random seed=17464 data file=C:\\Users\\brad\\AppData\\Local\\Temp\\tmp33eg6jy6\\lh0j3k17.json init=C:\\Users\\brad\\AppData\\Local\\Temp\\tmp33eg6jy6\\dfrzoi4q.json output file=C:\\Users\\brad\\AppData\\Local\\Temp\\tmp33eg6jy6\\prophet_modeldhrbn3ax\\prophet_model-20250421180032.csv method=optimize algorithm=newton iter=10000' failed: \n",
      "Skipping New Malibu due to insufficient data: train count = 0, test count = 16\n"
     ]
    },
    {
     "name": "stderr",
     "output_type": "stream",
     "text": [
      "18:00:32 - cmdstanpy - INFO - Chain [1] start processing\n",
      "18:00:32 - cmdstanpy - INFO - Chain [1] done processing\n",
      "18:00:32 - cmdstanpy - ERROR - Chain [1] error: terminated by signal 3221225657 \n",
      "Optimization terminated abnormally. Falling back to Newton.\n",
      "18:00:32 - cmdstanpy - INFO - Chain [1] start processing\n",
      "18:00:32 - cmdstanpy - INFO - Chain [1] done processing\n",
      "18:00:32 - cmdstanpy - ERROR - Chain [1] error: terminated by signal 3221225657 \n",
      "18:00:32 - cmdstanpy - INFO - Chain [1] start processing\n",
      "18:00:32 - cmdstanpy - INFO - Chain [1] done processing\n",
      "18:00:32 - cmdstanpy - ERROR - Chain [1] error: terminated by signal 3221225657 \n",
      "Optimization terminated abnormally. Falling back to Newton.\n",
      "18:00:32 - cmdstanpy - INFO - Chain [1] start processing\n",
      "18:00:32 - cmdstanpy - INFO - Chain [1] done processing\n",
      "18:00:32 - cmdstanpy - ERROR - Chain [1] error: terminated by signal 3221225657 \n"
     ]
    },
    {
     "name": "stdout",
     "output_type": "stream",
     "text": [
      "Error fitting Prophet for North Orange: Error during optimization! Command 'C:\\Users\\brad\\miniconda3\\envs\\ds2025-group3\\Lib\\site-packages\\prophet\\stan_model\\prophet_model.bin random seed=9732 data file=C:\\Users\\brad\\AppData\\Local\\Temp\\tmp33eg6jy6\\7zhh_8oi.json init=C:\\Users\\brad\\AppData\\Local\\Temp\\tmp33eg6jy6\\gn_gt9bj.json output file=C:\\Users\\brad\\AppData\\Local\\Temp\\tmp33eg6jy6\\prophet_model7t1quu6j\\prophet_model-20250421180032.csv method=optimize algorithm=newton iter=10000' failed: \n",
      "Error fitting Prophet for Northlake Park at Lake Nona: Error during optimization! Command 'C:\\Users\\brad\\miniconda3\\envs\\ds2025-group3\\Lib\\site-packages\\prophet\\stan_model\\prophet_model.bin random seed=29409 data file=C:\\Users\\brad\\AppData\\Local\\Temp\\tmp33eg6jy6\\blwpraqu.json init=C:\\Users\\brad\\AppData\\Local\\Temp\\tmp33eg6jy6\\i5o84lje.json output file=C:\\Users\\brad\\AppData\\Local\\Temp\\tmp33eg6jy6\\prophet_modelt8lcn9te\\prophet_model-20250421180032.csv method=optimize algorithm=newton iter=10000' failed: \n"
     ]
    },
    {
     "name": "stderr",
     "output_type": "stream",
     "text": [
      "18:00:32 - cmdstanpy - INFO - Chain [1] start processing\n",
      "18:00:32 - cmdstanpy - INFO - Chain [1] done processing\n",
      "18:00:32 - cmdstanpy - ERROR - Chain [1] error: terminated by signal 3221225657 \n",
      "Optimization terminated abnormally. Falling back to Newton.\n",
      "18:00:32 - cmdstanpy - INFO - Chain [1] start processing\n",
      "18:00:32 - cmdstanpy - INFO - Chain [1] done processing\n",
      "18:00:32 - cmdstanpy - ERROR - Chain [1] error: terminated by signal 3221225657 \n",
      "18:00:33 - cmdstanpy - INFO - Chain [1] start processing\n",
      "18:00:33 - cmdstanpy - INFO - Chain [1] done processing\n",
      "18:00:33 - cmdstanpy - ERROR - Chain [1] error: terminated by signal 3221225657 \n",
      "Optimization terminated abnormally. Falling back to Newton.\n",
      "18:00:33 - cmdstanpy - INFO - Chain [1] start processing\n",
      "18:00:33 - cmdstanpy - INFO - Chain [1] done processing\n"
     ]
    },
    {
     "name": "stdout",
     "output_type": "stream",
     "text": [
      "Error fitting Prophet for Orlovista: Error during optimization! Command 'C:\\Users\\brad\\miniconda3\\envs\\ds2025-group3\\Lib\\site-packages\\prophet\\stan_model\\prophet_model.bin random seed=17061 data file=C:\\Users\\brad\\AppData\\Local\\Temp\\tmp33eg6jy6\\_3v6rvp4.json init=C:\\Users\\brad\\AppData\\Local\\Temp\\tmp33eg6jy6\\hukoe2e6.json output file=C:\\Users\\brad\\AppData\\Local\\Temp\\tmp33eg6jy6\\prophet_modelsapvqthh\\prophet_model-20250421180032.csv method=optimize algorithm=newton iter=10000' failed: \n"
     ]
    },
    {
     "name": "stderr",
     "output_type": "stream",
     "text": [
      "18:00:33 - cmdstanpy - ERROR - Chain [1] error: terminated by signal 3221225657 \n",
      "18:00:33 - cmdstanpy - INFO - Chain [1] start processing\n",
      "18:00:33 - cmdstanpy - INFO - Chain [1] done processing\n",
      "18:00:33 - cmdstanpy - ERROR - Chain [1] error: terminated by signal 3221225657 \n",
      "Optimization terminated abnormally. Falling back to Newton.\n",
      "18:00:33 - cmdstanpy - INFO - Chain [1] start processing\n",
      "18:00:33 - cmdstanpy - INFO - Chain [1] done processing\n",
      "18:00:33 - cmdstanpy - ERROR - Chain [1] error: terminated by signal 3221225657 \n"
     ]
    },
    {
     "name": "stdout",
     "output_type": "stream",
     "text": [
      "Error fitting Prophet for Orwin Manor: Error during optimization! Command 'C:\\Users\\brad\\miniconda3\\envs\\ds2025-group3\\Lib\\site-packages\\prophet\\stan_model\\prophet_model.bin random seed=62271 data file=C:\\Users\\brad\\AppData\\Local\\Temp\\tmp33eg6jy6\\iv2mopg3.json init=C:\\Users\\brad\\AppData\\Local\\Temp\\tmp33eg6jy6\\_xt515jo.json output file=C:\\Users\\brad\\AppData\\Local\\Temp\\tmp33eg6jy6\\prophet_model3blnnak5\\prophet_model-20250421180033.csv method=optimize algorithm=newton iter=10000' failed: \n",
      "Error fitting Prophet for Palomar: Error during optimization! Command 'C:\\Users\\brad\\miniconda3\\envs\\ds2025-group3\\Lib\\site-packages\\prophet\\stan_model\\prophet_model.bin random seed=56728 data file=C:\\Users\\brad\\AppData\\Local\\Temp\\tmp33eg6jy6\\gj1j6450.json init=C:\\Users\\brad\\AppData\\Local\\Temp\\tmp33eg6jy6\\8e3cc6k0.json output file=C:\\Users\\brad\\AppData\\Local\\Temp\\tmp33eg6jy6\\prophet_modelkdsj_dgc\\prophet_model-20250421180033.csv method=optimize algorithm=newton iter=10000' failed: \n"
     ]
    },
    {
     "name": "stderr",
     "output_type": "stream",
     "text": [
      "18:00:33 - cmdstanpy - INFO - Chain [1] start processing\n",
      "18:00:33 - cmdstanpy - INFO - Chain [1] done processing\n",
      "18:00:33 - cmdstanpy - ERROR - Chain [1] error: terminated by signal 3221225657 \n",
      "Optimization terminated abnormally. Falling back to Newton.\n",
      "18:00:33 - cmdstanpy - INFO - Chain [1] start processing\n",
      "18:00:33 - cmdstanpy - INFO - Chain [1] done processing\n",
      "18:00:33 - cmdstanpy - ERROR - Chain [1] error: terminated by signal 3221225657 \n",
      "18:00:33 - cmdstanpy - INFO - Chain [1] start processing\n",
      "18:00:33 - cmdstanpy - INFO - Chain [1] done processing\n",
      "18:00:33 - cmdstanpy - ERROR - Chain [1] error: terminated by signal 3221225657 \n",
      "Optimization terminated abnormally. Falling back to Newton.\n",
      "18:00:33 - cmdstanpy - INFO - Chain [1] start processing\n",
      "18:00:33 - cmdstanpy - INFO - Chain [1] done processing\n"
     ]
    },
    {
     "name": "stdout",
     "output_type": "stream",
     "text": [
      "Error fitting Prophet for Park Central: Error during optimization! Command 'C:\\Users\\brad\\miniconda3\\envs\\ds2025-group3\\Lib\\site-packages\\prophet\\stan_model\\prophet_model.bin random seed=73491 data file=C:\\Users\\brad\\AppData\\Local\\Temp\\tmp33eg6jy6\\wg1n6if9.json init=C:\\Users\\brad\\AppData\\Local\\Temp\\tmp33eg6jy6\\n1q0_hdv.json output file=C:\\Users\\brad\\AppData\\Local\\Temp\\tmp33eg6jy6\\prophet_modeloo8ozzlh\\prophet_model-20250421180033.csv method=optimize algorithm=newton iter=10000' failed: \n"
     ]
    },
    {
     "name": "stderr",
     "output_type": "stream",
     "text": [
      "18:00:33 - cmdstanpy - ERROR - Chain [1] error: terminated by signal 3221225657 \n",
      "18:00:33 - cmdstanpy - INFO - Chain [1] start processing\n",
      "18:00:33 - cmdstanpy - INFO - Chain [1] done processing\n",
      "18:00:33 - cmdstanpy - ERROR - Chain [1] error: terminated by signal 3221225657 \n",
      "Optimization terminated abnormally. Falling back to Newton.\n",
      "18:00:33 - cmdstanpy - INFO - Chain [1] start processing\n"
     ]
    },
    {
     "name": "stdout",
     "output_type": "stream",
     "text": [
      "Error fitting Prophet for Park Lake-Highland: Error during optimization! Command 'C:\\Users\\brad\\miniconda3\\envs\\ds2025-group3\\Lib\\site-packages\\prophet\\stan_model\\prophet_model.bin random seed=46201 data file=C:\\Users\\brad\\AppData\\Local\\Temp\\tmp33eg6jy6\\49c2e_bz.json init=C:\\Users\\brad\\AppData\\Local\\Temp\\tmp33eg6jy6\\g_ju06l6.json output file=C:\\Users\\brad\\AppData\\Local\\Temp\\tmp33eg6jy6\\prophet_modelxmqqawai\\prophet_model-20250421180033.csv method=optimize algorithm=newton iter=10000' failed: \n"
     ]
    },
    {
     "name": "stderr",
     "output_type": "stream",
     "text": [
      "18:00:33 - cmdstanpy - INFO - Chain [1] done processing\n",
      "18:00:33 - cmdstanpy - ERROR - Chain [1] error: terminated by signal 3221225657 \n",
      "18:00:33 - cmdstanpy - INFO - Chain [1] start processing\n",
      "18:00:34 - cmdstanpy - INFO - Chain [1] done processing\n",
      "18:00:34 - cmdstanpy - ERROR - Chain [1] error: terminated by signal 3221225657 \n"
     ]
    },
    {
     "name": "stdout",
     "output_type": "stream",
     "text": [
      "Error fitting Prophet for Pineloch: Error during optimization! Command 'C:\\Users\\brad\\miniconda3\\envs\\ds2025-group3\\Lib\\site-packages\\prophet\\stan_model\\prophet_model.bin random seed=77726 data file=C:\\Users\\brad\\AppData\\Local\\Temp\\tmp33eg6jy6\\x9gff7xn.json init=C:\\Users\\brad\\AppData\\Local\\Temp\\tmp33eg6jy6\\6vryt8iv.json output file=C:\\Users\\brad\\AppData\\Local\\Temp\\tmp33eg6jy6\\prophet_modelm84ttxs6\\prophet_model-20250421180033.csv method=optimize algorithm=newton iter=10000' failed: \n",
      "Error fitting Prophet for Randal Park: Error during optimization! Command 'C:\\Users\\brad\\miniconda3\\envs\\ds2025-group3\\Lib\\site-packages\\prophet\\stan_model\\prophet_model.bin random seed=22761 data file=C:\\Users\\brad\\AppData\\Local\\Temp\\tmp33eg6jy6\\z3rzkmz8.json init=C:\\Users\\brad\\AppData\\Local\\Temp\\tmp33eg6jy6\\99mzz492.json output file=C:\\Users\\brad\\AppData\\Local\\Temp\\tmp33eg6jy6\\prophet_model7m5_r2a7\\prophet_model-20250421180033.csv method=optimize algorithm=newton iter=10000' failed: \n"
     ]
    },
    {
     "name": "stderr",
     "output_type": "stream",
     "text": [
      "18:00:34 - cmdstanpy - INFO - Chain [1] start processing\n",
      "18:00:34 - cmdstanpy - INFO - Chain [1] done processing\n",
      "18:00:34 - cmdstanpy - ERROR - Chain [1] error: terminated by signal 3221225657 \n",
      "Optimization terminated abnormally. Falling back to Newton.\n",
      "18:00:34 - cmdstanpy - INFO - Chain [1] start processing\n",
      "18:00:34 - cmdstanpy - INFO - Chain [1] done processing\n",
      "18:00:34 - cmdstanpy - ERROR - Chain [1] error: terminated by signal 3221225657 \n",
      "18:00:34 - cmdstanpy - INFO - Chain [1] start processing\n",
      "18:00:34 - cmdstanpy - INFO - Chain [1] done processing\n",
      "18:00:34 - cmdstanpy - ERROR - Chain [1] error: terminated by signal 3221225657 \n",
      "Optimization terminated abnormally. Falling back to Newton.\n",
      "18:00:34 - cmdstanpy - INFO - Chain [1] start processing\n",
      "18:00:34 - cmdstanpy - INFO - Chain [1] done processing\n",
      "18:00:34 - cmdstanpy - ERROR - Chain [1] error: terminated by signal 3221225657 \n"
     ]
    },
    {
     "name": "stdout",
     "output_type": "stream",
     "text": [
      "Error fitting Prophet for Richmond Estates: Error during optimization! Command 'C:\\Users\\brad\\miniconda3\\envs\\ds2025-group3\\Lib\\site-packages\\prophet\\stan_model\\prophet_model.bin random seed=91543 data file=C:\\Users\\brad\\AppData\\Local\\Temp\\tmp33eg6jy6\\ecyn5oa3.json init=C:\\Users\\brad\\AppData\\Local\\Temp\\tmp33eg6jy6\\lxzs7m15.json output file=C:\\Users\\brad\\AppData\\Local\\Temp\\tmp33eg6jy6\\prophet_modelx_hi7ux3\\prophet_model-20250421180034.csv method=optimize algorithm=newton iter=10000' failed: \n",
      "Error fitting Prophet for Richmond Heights: Error during optimization! Command 'C:\\Users\\brad\\miniconda3\\envs\\ds2025-group3\\Lib\\site-packages\\prophet\\stan_model\\prophet_model.bin random seed=63512 data file=C:\\Users\\brad\\AppData\\Local\\Temp\\tmp33eg6jy6\\k5xyvx_5.json init=C:\\Users\\brad\\AppData\\Local\\Temp\\tmp33eg6jy6\\lbx4flas.json output file=C:\\Users\\brad\\AppData\\Local\\Temp\\tmp33eg6jy6\\prophet_modely4oqagyt\\prophet_model-20250421180034.csv method=optimize algorithm=newton iter=10000' failed: \n"
     ]
    },
    {
     "name": "stderr",
     "output_type": "stream",
     "text": [
      "18:00:34 - cmdstanpy - INFO - Chain [1] start processing\n",
      "18:00:34 - cmdstanpy - INFO - Chain [1] done processing\n",
      "18:00:34 - cmdstanpy - ERROR - Chain [1] error: terminated by signal 3221225657 \n",
      "Optimization terminated abnormally. Falling back to Newton.\n",
      "18:00:34 - cmdstanpy - INFO - Chain [1] start processing\n",
      "18:00:34 - cmdstanpy - INFO - Chain [1] done processing\n",
      "18:00:34 - cmdstanpy - ERROR - Chain [1] error: terminated by signal 3221225657 \n",
      "18:00:34 - cmdstanpy - INFO - Chain [1] start processing\n",
      "18:00:34 - cmdstanpy - INFO - Chain [1] done processing\n",
      "18:00:34 - cmdstanpy - ERROR - Chain [1] error: terminated by signal 3221225657 \n",
      "Optimization terminated abnormally. Falling back to Newton.\n",
      "18:00:34 - cmdstanpy - INFO - Chain [1] start processing\n",
      "18:00:34 - cmdstanpy - INFO - Chain [1] done processing\n",
      "18:00:34 - cmdstanpy - ERROR - Chain [1] error: terminated by signal 3221225657 \n"
     ]
    },
    {
     "name": "stdout",
     "output_type": "stream",
     "text": [
      "Error fitting Prophet for Rio Grande Park: Error during optimization! Command 'C:\\Users\\brad\\miniconda3\\envs\\ds2025-group3\\Lib\\site-packages\\prophet\\stan_model\\prophet_model.bin random seed=34177 data file=C:\\Users\\brad\\AppData\\Local\\Temp\\tmp33eg6jy6\\ixn8_6cn.json init=C:\\Users\\brad\\AppData\\Local\\Temp\\tmp33eg6jy6\\5u9s1pwd.json output file=C:\\Users\\brad\\AppData\\Local\\Temp\\tmp33eg6jy6\\prophet_model25cb6w49\\prophet_model-20250421180034.csv method=optimize algorithm=newton iter=10000' failed: \n",
      "Error fitting Prophet for Rock Lake: Error during optimization! Command 'C:\\Users\\brad\\miniconda3\\envs\\ds2025-group3\\Lib\\site-packages\\prophet\\stan_model\\prophet_model.bin random seed=20777 data file=C:\\Users\\brad\\AppData\\Local\\Temp\\tmp33eg6jy6\\ktw76615.json init=C:\\Users\\brad\\AppData\\Local\\Temp\\tmp33eg6jy6\\twnhplpa.json output file=C:\\Users\\brad\\AppData\\Local\\Temp\\tmp33eg6jy6\\prophet_modelanxd5zi9\\prophet_model-20250421180034.csv method=optimize algorithm=newton iter=10000' failed: \n"
     ]
    },
    {
     "name": "stderr",
     "output_type": "stream",
     "text": [
      "18:00:34 - cmdstanpy - INFO - Chain [1] start processing\n",
      "18:00:34 - cmdstanpy - INFO - Chain [1] done processing\n",
      "18:00:34 - cmdstanpy - ERROR - Chain [1] error: terminated by signal 3221225657 \n",
      "Optimization terminated abnormally. Falling back to Newton.\n",
      "18:00:34 - cmdstanpy - INFO - Chain [1] start processing\n",
      "18:00:34 - cmdstanpy - INFO - Chain [1] done processing\n",
      "18:00:34 - cmdstanpy - ERROR - Chain [1] error: terminated by signal 3221225657 \n",
      "18:00:35 - cmdstanpy - INFO - Chain [1] start processing\n",
      "18:00:35 - cmdstanpy - INFO - Chain [1] done processing\n",
      "18:00:35 - cmdstanpy - ERROR - Chain [1] error: terminated by signal 3221225657 \n",
      "Optimization terminated abnormally. Falling back to Newton.\n",
      "18:00:35 - cmdstanpy - INFO - Chain [1] start processing\n",
      "18:00:35 - cmdstanpy - INFO - Chain [1] done processing\n",
      "18:00:35 - cmdstanpy - ERROR - Chain [1] error: terminated by signal 3221225657 \n"
     ]
    },
    {
     "name": "stdout",
     "output_type": "stream",
     "text": [
      "Error fitting Prophet for Roosevelt Park: Error during optimization! Command 'C:\\Users\\brad\\miniconda3\\envs\\ds2025-group3\\Lib\\site-packages\\prophet\\stan_model\\prophet_model.bin random seed=78287 data file=C:\\Users\\brad\\AppData\\Local\\Temp\\tmp33eg6jy6\\j6gexu3a.json init=C:\\Users\\brad\\AppData\\Local\\Temp\\tmp33eg6jy6\\cic3jh2v.json output file=C:\\Users\\brad\\AppData\\Local\\Temp\\tmp33eg6jy6\\prophet_modeldc3_5ps4\\prophet_model-20250421180034.csv method=optimize algorithm=newton iter=10000' failed: \n",
      "Error fitting Prophet for Rose Isle: Error during optimization! Command 'C:\\Users\\brad\\miniconda3\\envs\\ds2025-group3\\Lib\\site-packages\\prophet\\stan_model\\prophet_model.bin random seed=29745 data file=C:\\Users\\brad\\AppData\\Local\\Temp\\tmp33eg6jy6\\tha_hels.json init=C:\\Users\\brad\\AppData\\Local\\Temp\\tmp33eg6jy6\\0gunh2lw.json output file=C:\\Users\\brad\\AppData\\Local\\Temp\\tmp33eg6jy6\\prophet_model_dea0i22\\prophet_model-20250421180035.csv method=optimize algorithm=newton iter=10000' failed: \n"
     ]
    },
    {
     "name": "stderr",
     "output_type": "stream",
     "text": [
      "18:00:35 - cmdstanpy - INFO - Chain [1] start processing\n",
      "18:00:35 - cmdstanpy - INFO - Chain [1] done processing\n",
      "18:00:35 - cmdstanpy - ERROR - Chain [1] error: terminated by signal 3221225657 \n",
      "Optimization terminated abnormally. Falling back to Newton.\n",
      "18:00:35 - cmdstanpy - INFO - Chain [1] start processing\n",
      "18:00:35 - cmdstanpy - INFO - Chain [1] done processing\n",
      "18:00:35 - cmdstanpy - ERROR - Chain [1] error: terminated by signal 3221225657 \n",
      "18:00:35 - cmdstanpy - INFO - Chain [1] start processing\n",
      "18:00:35 - cmdstanpy - INFO - Chain [1] done processing\n",
      "18:00:35 - cmdstanpy - ERROR - Chain [1] error: terminated by signal 3221225657 \n",
      "Optimization terminated abnormally. Falling back to Newton.\n",
      "18:00:35 - cmdstanpy - INFO - Chain [1] start processing\n",
      "18:00:35 - cmdstanpy - INFO - Chain [1] done processing\n",
      "18:00:35 - cmdstanpy - ERROR - Chain [1] error: terminated by signal 3221225657 \n"
     ]
    },
    {
     "name": "stdout",
     "output_type": "stream",
     "text": [
      "Error fitting Prophet for Rosemont: Error during optimization! Command 'C:\\Users\\brad\\miniconda3\\envs\\ds2025-group3\\Lib\\site-packages\\prophet\\stan_model\\prophet_model.bin random seed=80250 data file=C:\\Users\\brad\\AppData\\Local\\Temp\\tmp33eg6jy6\\dlbp4quy.json init=C:\\Users\\brad\\AppData\\Local\\Temp\\tmp33eg6jy6\\4d0ze957.json output file=C:\\Users\\brad\\AppData\\Local\\Temp\\tmp33eg6jy6\\prophet_modelfw4jbo3_\\prophet_model-20250421180035.csv method=optimize algorithm=newton iter=10000' failed: \n",
      "Error fitting Prophet for Rosemont North: Error during optimization! Command 'C:\\Users\\brad\\miniconda3\\envs\\ds2025-group3\\Lib\\site-packages\\prophet\\stan_model\\prophet_model.bin random seed=46684 data file=C:\\Users\\brad\\AppData\\Local\\Temp\\tmp33eg6jy6\\gltrlwbg.json init=C:\\Users\\brad\\AppData\\Local\\Temp\\tmp33eg6jy6\\lbfj97v_.json output file=C:\\Users\\brad\\AppData\\Local\\Temp\\tmp33eg6jy6\\prophet_modelniu7u_cf\\prophet_model-20250421180035.csv method=optimize algorithm=newton iter=10000' failed: \n"
     ]
    },
    {
     "name": "stderr",
     "output_type": "stream",
     "text": [
      "18:00:35 - cmdstanpy - INFO - Chain [1] start processing\n",
      "18:00:35 - cmdstanpy - INFO - Chain [1] done processing\n",
      "18:00:35 - cmdstanpy - ERROR - Chain [1] error: terminated by signal 3221225657 \n",
      "Optimization terminated abnormally. Falling back to Newton.\n",
      "18:00:35 - cmdstanpy - INFO - Chain [1] start processing\n",
      "18:00:35 - cmdstanpy - INFO - Chain [1] done processing\n",
      "18:00:35 - cmdstanpy - ERROR - Chain [1] error: terminated by signal 3221225657 \n",
      "18:00:35 - cmdstanpy - INFO - Chain [1] start processing\n",
      "18:00:35 - cmdstanpy - INFO - Chain [1] done processing\n",
      "18:00:35 - cmdstanpy - ERROR - Chain [1] error: terminated by signal 3221225657 \n",
      "Optimization terminated abnormally. Falling back to Newton.\n",
      "18:00:35 - cmdstanpy - INFO - Chain [1] start processing\n",
      "18:00:35 - cmdstanpy - INFO - Chain [1] done processing\n"
     ]
    },
    {
     "name": "stdout",
     "output_type": "stream",
     "text": [
      "Error fitting Prophet for Rowena Gardens: Error during optimization! Command 'C:\\Users\\brad\\miniconda3\\envs\\ds2025-group3\\Lib\\site-packages\\prophet\\stan_model\\prophet_model.bin random seed=78257 data file=C:\\Users\\brad\\AppData\\Local\\Temp\\tmp33eg6jy6\\q7hthbmb.json init=C:\\Users\\brad\\AppData\\Local\\Temp\\tmp33eg6jy6\\vosvgslo.json output file=C:\\Users\\brad\\AppData\\Local\\Temp\\tmp33eg6jy6\\prophet_model_blu3ke7\\prophet_model-20250421180035.csv method=optimize algorithm=newton iter=10000' failed: \n"
     ]
    },
    {
     "name": "stderr",
     "output_type": "stream",
     "text": [
      "18:00:35 - cmdstanpy - ERROR - Chain [1] error: terminated by signal 3221225657 \n",
      "18:00:35 - cmdstanpy - INFO - Chain [1] start processing\n",
      "18:00:35 - cmdstanpy - INFO - Chain [1] done processing\n",
      "18:00:35 - cmdstanpy - ERROR - Chain [1] error: terminated by signal 3221225657 \n",
      "Optimization terminated abnormally. Falling back to Newton.\n",
      "18:00:35 - cmdstanpy - INFO - Chain [1] start processing\n"
     ]
    },
    {
     "name": "stdout",
     "output_type": "stream",
     "text": [
      "Error fitting Prophet for Signal Hill: Error during optimization! Command 'C:\\Users\\brad\\miniconda3\\envs\\ds2025-group3\\Lib\\site-packages\\prophet\\stan_model\\prophet_model.bin random seed=23104 data file=C:\\Users\\brad\\AppData\\Local\\Temp\\tmp33eg6jy6\\86uv277q.json init=C:\\Users\\brad\\AppData\\Local\\Temp\\tmp33eg6jy6\\jxvmedge.json output file=C:\\Users\\brad\\AppData\\Local\\Temp\\tmp33eg6jy6\\prophet_model1im1f3pe\\prophet_model-20250421180035.csv method=optimize algorithm=newton iter=10000' failed: \n"
     ]
    },
    {
     "name": "stderr",
     "output_type": "stream",
     "text": [
      "18:00:35 - cmdstanpy - INFO - Chain [1] done processing\n",
      "18:00:35 - cmdstanpy - ERROR - Chain [1] error: terminated by signal 3221225657 \n",
      "18:00:36 - cmdstanpy - INFO - Chain [1] start processing\n",
      "18:00:36 - cmdstanpy - INFO - Chain [1] done processing\n",
      "18:00:36 - cmdstanpy - ERROR - Chain [1] error: terminated by signal 3221225657 \n",
      "Optimization terminated abnormally. Falling back to Newton.\n",
      "18:00:36 - cmdstanpy - INFO - Chain [1] start processing\n",
      "18:00:36 - cmdstanpy - INFO - Chain [1] done processing\n",
      "18:00:36 - cmdstanpy - ERROR - Chain [1] error: terminated by signal 3221225657 \n"
     ]
    },
    {
     "name": "stdout",
     "output_type": "stream",
     "text": [
      "Error fitting Prophet for South Eola: Error during optimization! Command 'C:\\Users\\brad\\miniconda3\\envs\\ds2025-group3\\Lib\\site-packages\\prophet\\stan_model\\prophet_model.bin random seed=53620 data file=C:\\Users\\brad\\AppData\\Local\\Temp\\tmp33eg6jy6\\xl2dg1r7.json init=C:\\Users\\brad\\AppData\\Local\\Temp\\tmp33eg6jy6\\a0oix7_t.json output file=C:\\Users\\brad\\AppData\\Local\\Temp\\tmp33eg6jy6\\prophet_modelu70ujo0o\\prophet_model-20250421180035.csv method=optimize algorithm=newton iter=10000' failed: \n",
      "Error fitting Prophet for South Orange: Error during optimization! Command 'C:\\Users\\brad\\miniconda3\\envs\\ds2025-group3\\Lib\\site-packages\\prophet\\stan_model\\prophet_model.bin random seed=60103 data file=C:\\Users\\brad\\AppData\\Local\\Temp\\tmp33eg6jy6\\v90yfv5l.json init=C:\\Users\\brad\\AppData\\Local\\Temp\\tmp33eg6jy6\\9e0mzls_.json output file=C:\\Users\\brad\\AppData\\Local\\Temp\\tmp33eg6jy6\\prophet_modelc8bkbruy\\prophet_model-20250421180036.csv method=optimize algorithm=newton iter=10000' failed: \n"
     ]
    },
    {
     "name": "stderr",
     "output_type": "stream",
     "text": [
      "18:00:36 - cmdstanpy - INFO - Chain [1] start processing\n",
      "18:00:36 - cmdstanpy - INFO - Chain [1] done processing\n",
      "18:00:36 - cmdstanpy - ERROR - Chain [1] error: terminated by signal 3221225657 \n",
      "Optimization terminated abnormally. Falling back to Newton.\n",
      "18:00:36 - cmdstanpy - INFO - Chain [1] start processing\n",
      "18:00:36 - cmdstanpy - INFO - Chain [1] done processing\n",
      "18:00:36 - cmdstanpy - ERROR - Chain [1] error: terminated by signal 3221225657 \n",
      "18:00:36 - cmdstanpy - INFO - Chain [1] start processing\n",
      "18:00:36 - cmdstanpy - INFO - Chain [1] done processing\n",
      "18:00:36 - cmdstanpy - ERROR - Chain [1] error: terminated by signal 3221225657 \n",
      "Optimization terminated abnormally. Falling back to Newton.\n",
      "18:00:36 - cmdstanpy - INFO - Chain [1] start processing\n",
      "18:00:36 - cmdstanpy - INFO - Chain [1] done processing\n",
      "18:00:36 - cmdstanpy - ERROR - Chain [1] error: terminated by signal 3221225657 \n"
     ]
    },
    {
     "name": "stdout",
     "output_type": "stream",
     "text": [
      "Error fitting Prophet for South Semoran: Error during optimization! Command 'C:\\Users\\brad\\miniconda3\\envs\\ds2025-group3\\Lib\\site-packages\\prophet\\stan_model\\prophet_model.bin random seed=38239 data file=C:\\Users\\brad\\AppData\\Local\\Temp\\tmp33eg6jy6\\i9k3i4oo.json init=C:\\Users\\brad\\AppData\\Local\\Temp\\tmp33eg6jy6\\1m69veou.json output file=C:\\Users\\brad\\AppData\\Local\\Temp\\tmp33eg6jy6\\prophet_modelanlyymin\\prophet_model-20250421180036.csv method=optimize algorithm=newton iter=10000' failed: \n",
      "Error fitting Prophet for Southchase: Error during optimization! Command 'C:\\Users\\brad\\miniconda3\\envs\\ds2025-group3\\Lib\\site-packages\\prophet\\stan_model\\prophet_model.bin random seed=27384 data file=C:\\Users\\brad\\AppData\\Local\\Temp\\tmp33eg6jy6\\cf6ghhs7.json init=C:\\Users\\brad\\AppData\\Local\\Temp\\tmp33eg6jy6\\n_qh1jm0.json output file=C:\\Users\\brad\\AppData\\Local\\Temp\\tmp33eg6jy6\\prophet_modelsq5yc4t8\\prophet_model-20250421180036.csv method=optimize algorithm=newton iter=10000' failed: \n"
     ]
    },
    {
     "ename": "KeyboardInterrupt",
     "evalue": "",
     "output_type": "error",
     "traceback": [
      "\u001b[1;31m---------------------------------------------------------------------------\u001b[0m",
      "\u001b[1;31mKeyboardInterrupt\u001b[0m                         Traceback (most recent call last)",
      "Cell \u001b[1;32mIn[17], line 37\u001b[0m\n\u001b[0;32m     35\u001b[0m m \u001b[38;5;241m=\u001b[39m Prophet()\n\u001b[0;32m     36\u001b[0m \u001b[38;5;28;01mtry\u001b[39;00m:\n\u001b[1;32m---> 37\u001b[0m     \u001b[43mm\u001b[49m\u001b[38;5;241;43m.\u001b[39;49m\u001b[43mfit\u001b[49m\u001b[43m(\u001b[49m\u001b[43mtrain_df\u001b[49m\u001b[43m)\u001b[49m\n\u001b[0;32m     38\u001b[0m \u001b[38;5;28;01mexcept\u001b[39;00m \u001b[38;5;167;01mException\u001b[39;00m \u001b[38;5;28;01mas\u001b[39;00m e:\n\u001b[0;32m     39\u001b[0m     \u001b[38;5;28mprint\u001b[39m(\u001b[38;5;124mf\u001b[39m\u001b[38;5;124m\"\u001b[39m\u001b[38;5;124mError fitting Prophet for \u001b[39m\u001b[38;5;132;01m{\u001b[39;00mneighborhood\u001b[38;5;132;01m}\u001b[39;00m\u001b[38;5;124m: \u001b[39m\u001b[38;5;132;01m{\u001b[39;00me\u001b[38;5;132;01m}\u001b[39;00m\u001b[38;5;124m\"\u001b[39m)\n",
      "File \u001b[1;32mc:\\Users\\brad\\miniconda3\\envs\\ds2025-group3\\lib\\site-packages\\prophet\\forecaster.py:1220\u001b[0m, in \u001b[0;36mProphet.fit\u001b[1;34m(self, df, **kwargs)\u001b[0m\n\u001b[0;32m   1217\u001b[0m model_inputs \u001b[38;5;241m=\u001b[39m \u001b[38;5;28mself\u001b[39m\u001b[38;5;241m.\u001b[39mpreprocess(df, \u001b[38;5;241m*\u001b[39m\u001b[38;5;241m*\u001b[39mkwargs)\n\u001b[0;32m   1218\u001b[0m initial_params \u001b[38;5;241m=\u001b[39m \u001b[38;5;28mself\u001b[39m\u001b[38;5;241m.\u001b[39mcalculate_initial_params(model_inputs\u001b[38;5;241m.\u001b[39mK)\n\u001b[1;32m-> 1220\u001b[0m dat \u001b[38;5;241m=\u001b[39m \u001b[43mdataclasses\u001b[49m\u001b[38;5;241;43m.\u001b[39;49m\u001b[43masdict\u001b[49m\u001b[43m(\u001b[49m\u001b[43mmodel_inputs\u001b[49m\u001b[43m)\u001b[49m\n\u001b[0;32m   1221\u001b[0m stan_init \u001b[38;5;241m=\u001b[39m dataclasses\u001b[38;5;241m.\u001b[39masdict(initial_params)\n\u001b[0;32m   1223\u001b[0m \u001b[38;5;28;01mif\u001b[39;00m \u001b[38;5;28mself\u001b[39m\u001b[38;5;241m.\u001b[39mhistory[\u001b[38;5;124m'\u001b[39m\u001b[38;5;124my\u001b[39m\u001b[38;5;124m'\u001b[39m]\u001b[38;5;241m.\u001b[39mmin() \u001b[38;5;241m==\u001b[39m \u001b[38;5;28mself\u001b[39m\u001b[38;5;241m.\u001b[39mhistory[\u001b[38;5;124m'\u001b[39m\u001b[38;5;124my\u001b[39m\u001b[38;5;124m'\u001b[39m]\u001b[38;5;241m.\u001b[39mmax() \u001b[38;5;129;01mand\u001b[39;00m \\\n\u001b[0;32m   1224\u001b[0m         (\u001b[38;5;28mself\u001b[39m\u001b[38;5;241m.\u001b[39mgrowth \u001b[38;5;241m==\u001b[39m \u001b[38;5;124m'\u001b[39m\u001b[38;5;124mlinear\u001b[39m\u001b[38;5;124m'\u001b[39m \u001b[38;5;129;01mor\u001b[39;00m \u001b[38;5;28mself\u001b[39m\u001b[38;5;241m.\u001b[39mgrowth \u001b[38;5;241m==\u001b[39m \u001b[38;5;124m'\u001b[39m\u001b[38;5;124mflat\u001b[39m\u001b[38;5;124m'\u001b[39m):\n",
      "File \u001b[1;32mc:\\Users\\brad\\miniconda3\\envs\\ds2025-group3\\lib\\dataclasses.py:1238\u001b[0m, in \u001b[0;36masdict\u001b[1;34m(obj, dict_factory)\u001b[0m\n\u001b[0;32m   1236\u001b[0m \u001b[38;5;28;01mif\u001b[39;00m \u001b[38;5;129;01mnot\u001b[39;00m _is_dataclass_instance(obj):\n\u001b[0;32m   1237\u001b[0m     \u001b[38;5;28;01mraise\u001b[39;00m \u001b[38;5;167;01mTypeError\u001b[39;00m(\u001b[38;5;124m\"\u001b[39m\u001b[38;5;124masdict() should be called on dataclass instances\u001b[39m\u001b[38;5;124m\"\u001b[39m)\n\u001b[1;32m-> 1238\u001b[0m \u001b[38;5;28;01mreturn\u001b[39;00m \u001b[43m_asdict_inner\u001b[49m\u001b[43m(\u001b[49m\u001b[43mobj\u001b[49m\u001b[43m,\u001b[49m\u001b[43m \u001b[49m\u001b[43mdict_factory\u001b[49m\u001b[43m)\u001b[49m\n",
      "File \u001b[1;32mc:\\Users\\brad\\miniconda3\\envs\\ds2025-group3\\lib\\dataclasses.py:1245\u001b[0m, in \u001b[0;36m_asdict_inner\u001b[1;34m(obj, dict_factory)\u001b[0m\n\u001b[0;32m   1243\u001b[0m result \u001b[38;5;241m=\u001b[39m []\n\u001b[0;32m   1244\u001b[0m \u001b[38;5;28;01mfor\u001b[39;00m f \u001b[38;5;129;01min\u001b[39;00m fields(obj):\n\u001b[1;32m-> 1245\u001b[0m     value \u001b[38;5;241m=\u001b[39m \u001b[43m_asdict_inner\u001b[49m\u001b[43m(\u001b[49m\u001b[38;5;28;43mgetattr\u001b[39;49m\u001b[43m(\u001b[49m\u001b[43mobj\u001b[49m\u001b[43m,\u001b[49m\u001b[43m \u001b[49m\u001b[43mf\u001b[49m\u001b[38;5;241;43m.\u001b[39;49m\u001b[43mname\u001b[49m\u001b[43m)\u001b[49m\u001b[43m,\u001b[49m\u001b[43m \u001b[49m\u001b[43mdict_factory\u001b[49m\u001b[43m)\u001b[49m\n\u001b[0;32m   1246\u001b[0m     result\u001b[38;5;241m.\u001b[39mappend((f\u001b[38;5;241m.\u001b[39mname, value))\n\u001b[0;32m   1247\u001b[0m \u001b[38;5;28;01mreturn\u001b[39;00m dict_factory(result)\n",
      "File \u001b[1;32mc:\\Users\\brad\\miniconda3\\envs\\ds2025-group3\\lib\\dataclasses.py:1279\u001b[0m, in \u001b[0;36m_asdict_inner\u001b[1;34m(obj, dict_factory)\u001b[0m\n\u001b[0;32m   1275\u001b[0m     \u001b[38;5;28;01mreturn\u001b[39;00m \u001b[38;5;28mtype\u001b[39m(obj)((_asdict_inner(k, dict_factory),\n\u001b[0;32m   1276\u001b[0m                       _asdict_inner(v, dict_factory))\n\u001b[0;32m   1277\u001b[0m                      \u001b[38;5;28;01mfor\u001b[39;00m k, v \u001b[38;5;129;01min\u001b[39;00m obj\u001b[38;5;241m.\u001b[39mitems())\n\u001b[0;32m   1278\u001b[0m \u001b[38;5;28;01melse\u001b[39;00m:\n\u001b[1;32m-> 1279\u001b[0m     \u001b[38;5;28;01mreturn\u001b[39;00m \u001b[43mcopy\u001b[49m\u001b[38;5;241;43m.\u001b[39;49m\u001b[43mdeepcopy\u001b[49m\u001b[43m(\u001b[49m\u001b[43mobj\u001b[49m\u001b[43m)\u001b[49m\n",
      "File \u001b[1;32mc:\\Users\\brad\\miniconda3\\envs\\ds2025-group3\\lib\\copy.py:153\u001b[0m, in \u001b[0;36mdeepcopy\u001b[1;34m(x, memo, _nil)\u001b[0m\n\u001b[0;32m    151\u001b[0m copier \u001b[38;5;241m=\u001b[39m \u001b[38;5;28mgetattr\u001b[39m(x, \u001b[38;5;124m\"\u001b[39m\u001b[38;5;124m__deepcopy__\u001b[39m\u001b[38;5;124m\"\u001b[39m, \u001b[38;5;28;01mNone\u001b[39;00m)\n\u001b[0;32m    152\u001b[0m \u001b[38;5;28;01mif\u001b[39;00m copier \u001b[38;5;129;01mis\u001b[39;00m \u001b[38;5;129;01mnot\u001b[39;00m \u001b[38;5;28;01mNone\u001b[39;00m:\n\u001b[1;32m--> 153\u001b[0m     y \u001b[38;5;241m=\u001b[39m \u001b[43mcopier\u001b[49m\u001b[43m(\u001b[49m\u001b[43mmemo\u001b[49m\u001b[43m)\u001b[49m\n\u001b[0;32m    154\u001b[0m \u001b[38;5;28;01melse\u001b[39;00m:\n\u001b[0;32m    155\u001b[0m     reductor \u001b[38;5;241m=\u001b[39m dispatch_table\u001b[38;5;241m.\u001b[39mget(\u001b[38;5;28mcls\u001b[39m)\n",
      "File \u001b[1;32mc:\\Users\\brad\\miniconda3\\envs\\ds2025-group3\\lib\\site-packages\\pandas\\core\\generic.py:6829\u001b[0m, in \u001b[0;36mNDFrame.__deepcopy__\u001b[1;34m(self, memo)\u001b[0m\n\u001b[0;32m   6821\u001b[0m \u001b[38;5;129m@final\u001b[39m\n\u001b[0;32m   6822\u001b[0m \u001b[38;5;28;01mdef\u001b[39;00m\u001b[38;5;250m \u001b[39m\u001b[38;5;21m__deepcopy__\u001b[39m(\u001b[38;5;28mself\u001b[39m, memo\u001b[38;5;241m=\u001b[39m\u001b[38;5;28;01mNone\u001b[39;00m) \u001b[38;5;241m-\u001b[39m\u001b[38;5;241m>\u001b[39m Self:\n\u001b[0;32m   6823\u001b[0m \u001b[38;5;250m    \u001b[39m\u001b[38;5;124;03m\"\"\"\u001b[39;00m\n\u001b[0;32m   6824\u001b[0m \u001b[38;5;124;03m    Parameters\u001b[39;00m\n\u001b[0;32m   6825\u001b[0m \u001b[38;5;124;03m    ----------\u001b[39;00m\n\u001b[0;32m   6826\u001b[0m \u001b[38;5;124;03m    memo, default None\u001b[39;00m\n\u001b[0;32m   6827\u001b[0m \u001b[38;5;124;03m        Standard signature. Unused\u001b[39;00m\n\u001b[0;32m   6828\u001b[0m \u001b[38;5;124;03m    \"\"\"\u001b[39;00m\n\u001b[1;32m-> 6829\u001b[0m     \u001b[38;5;28;01mreturn\u001b[39;00m \u001b[38;5;28;43mself\u001b[39;49m\u001b[38;5;241;43m.\u001b[39;49m\u001b[43mcopy\u001b[49m\u001b[43m(\u001b[49m\u001b[43mdeep\u001b[49m\u001b[38;5;241;43m=\u001b[39;49m\u001b[38;5;28;43;01mTrue\u001b[39;49;00m\u001b[43m)\u001b[49m\n",
      "File \u001b[1;32mc:\\Users\\brad\\miniconda3\\envs\\ds2025-group3\\lib\\site-packages\\pandas\\core\\generic.py:6811\u001b[0m, in \u001b[0;36mNDFrame.copy\u001b[1;34m(self, deep)\u001b[0m\n\u001b[0;32m   6662\u001b[0m \u001b[38;5;129m@final\u001b[39m\n\u001b[0;32m   6663\u001b[0m \u001b[38;5;28;01mdef\u001b[39;00m\u001b[38;5;250m \u001b[39m\u001b[38;5;21mcopy\u001b[39m(\u001b[38;5;28mself\u001b[39m, deep: bool_t \u001b[38;5;241m|\u001b[39m \u001b[38;5;28;01mNone\u001b[39;00m \u001b[38;5;241m=\u001b[39m \u001b[38;5;28;01mTrue\u001b[39;00m) \u001b[38;5;241m-\u001b[39m\u001b[38;5;241m>\u001b[39m Self:\n\u001b[0;32m   6664\u001b[0m \u001b[38;5;250m    \u001b[39m\u001b[38;5;124;03m\"\"\"\u001b[39;00m\n\u001b[0;32m   6665\u001b[0m \u001b[38;5;124;03m    Make a copy of this object's indices and data.\u001b[39;00m\n\u001b[0;32m   6666\u001b[0m \n\u001b[1;32m   (...)\u001b[0m\n\u001b[0;32m   6809\u001b[0m \u001b[38;5;124;03m    dtype: int64\u001b[39;00m\n\u001b[0;32m   6810\u001b[0m \u001b[38;5;124;03m    \"\"\"\u001b[39;00m\n\u001b[1;32m-> 6811\u001b[0m     data \u001b[38;5;241m=\u001b[39m \u001b[38;5;28;43mself\u001b[39;49m\u001b[38;5;241;43m.\u001b[39;49m\u001b[43m_mgr\u001b[49m\u001b[38;5;241;43m.\u001b[39;49m\u001b[43mcopy\u001b[49m\u001b[43m(\u001b[49m\u001b[43mdeep\u001b[49m\u001b[38;5;241;43m=\u001b[39;49m\u001b[43mdeep\u001b[49m\u001b[43m)\u001b[49m\n\u001b[0;32m   6812\u001b[0m     \u001b[38;5;28mself\u001b[39m\u001b[38;5;241m.\u001b[39m_clear_item_cache()\n\u001b[0;32m   6813\u001b[0m     \u001b[38;5;28;01mreturn\u001b[39;00m \u001b[38;5;28mself\u001b[39m\u001b[38;5;241m.\u001b[39m_constructor_from_mgr(data, axes\u001b[38;5;241m=\u001b[39mdata\u001b[38;5;241m.\u001b[39maxes)\u001b[38;5;241m.\u001b[39m__finalize__(\n\u001b[0;32m   6814\u001b[0m         \u001b[38;5;28mself\u001b[39m, method\u001b[38;5;241m=\u001b[39m\u001b[38;5;124m\"\u001b[39m\u001b[38;5;124mcopy\u001b[39m\u001b[38;5;124m\"\u001b[39m\n\u001b[0;32m   6815\u001b[0m     )\n",
      "File \u001b[1;32mc:\\Users\\brad\\miniconda3\\envs\\ds2025-group3\\lib\\site-packages\\pandas\\core\\internals\\managers.py:593\u001b[0m, in \u001b[0;36mBaseBlockManager.copy\u001b[1;34m(self, deep)\u001b[0m\n\u001b[0;32m    590\u001b[0m     \u001b[38;5;28;01melse\u001b[39;00m:\n\u001b[0;32m    591\u001b[0m         new_axes \u001b[38;5;241m=\u001b[39m \u001b[38;5;28mlist\u001b[39m(\u001b[38;5;28mself\u001b[39m\u001b[38;5;241m.\u001b[39maxes)\n\u001b[1;32m--> 593\u001b[0m res \u001b[38;5;241m=\u001b[39m \u001b[38;5;28;43mself\u001b[39;49m\u001b[38;5;241;43m.\u001b[39;49m\u001b[43mapply\u001b[49m\u001b[43m(\u001b[49m\u001b[38;5;124;43m\"\u001b[39;49m\u001b[38;5;124;43mcopy\u001b[39;49m\u001b[38;5;124;43m\"\u001b[39;49m\u001b[43m,\u001b[49m\u001b[43m \u001b[49m\u001b[43mdeep\u001b[49m\u001b[38;5;241;43m=\u001b[39;49m\u001b[43mdeep\u001b[49m\u001b[43m)\u001b[49m\n\u001b[0;32m    594\u001b[0m res\u001b[38;5;241m.\u001b[39maxes \u001b[38;5;241m=\u001b[39m new_axes\n\u001b[0;32m    596\u001b[0m \u001b[38;5;28;01mif\u001b[39;00m \u001b[38;5;28mself\u001b[39m\u001b[38;5;241m.\u001b[39mndim \u001b[38;5;241m>\u001b[39m \u001b[38;5;241m1\u001b[39m:\n\u001b[0;32m    597\u001b[0m     \u001b[38;5;66;03m# Avoid needing to re-compute these\u001b[39;00m\n",
      "File \u001b[1;32mc:\\Users\\brad\\miniconda3\\envs\\ds2025-group3\\lib\\site-packages\\pandas\\core\\internals\\managers.py:363\u001b[0m, in \u001b[0;36mBaseBlockManager.apply\u001b[1;34m(self, f, align_keys, **kwargs)\u001b[0m\n\u001b[0;32m    361\u001b[0m         applied \u001b[38;5;241m=\u001b[39m b\u001b[38;5;241m.\u001b[39mapply(f, \u001b[38;5;241m*\u001b[39m\u001b[38;5;241m*\u001b[39mkwargs)\n\u001b[0;32m    362\u001b[0m     \u001b[38;5;28;01melse\u001b[39;00m:\n\u001b[1;32m--> 363\u001b[0m         applied \u001b[38;5;241m=\u001b[39m \u001b[38;5;28mgetattr\u001b[39m(b, f)(\u001b[38;5;241m*\u001b[39m\u001b[38;5;241m*\u001b[39mkwargs)\n\u001b[0;32m    364\u001b[0m     result_blocks \u001b[38;5;241m=\u001b[39m extend_blocks(applied, result_blocks)\n\u001b[0;32m    366\u001b[0m out \u001b[38;5;241m=\u001b[39m \u001b[38;5;28mtype\u001b[39m(\u001b[38;5;28mself\u001b[39m)\u001b[38;5;241m.\u001b[39mfrom_blocks(result_blocks, \u001b[38;5;28mself\u001b[39m\u001b[38;5;241m.\u001b[39maxes)\n",
      "File \u001b[1;32mc:\\Users\\brad\\miniconda3\\envs\\ds2025-group3\\lib\\site-packages\\pandas\\core\\internals\\blocks.py:796\u001b[0m, in \u001b[0;36mBlock.copy\u001b[1;34m(self, deep)\u001b[0m\n\u001b[0;32m    794\u001b[0m refs: BlockValuesRefs \u001b[38;5;241m|\u001b[39m \u001b[38;5;28;01mNone\u001b[39;00m\n\u001b[0;32m    795\u001b[0m \u001b[38;5;28;01mif\u001b[39;00m deep:\n\u001b[1;32m--> 796\u001b[0m     values \u001b[38;5;241m=\u001b[39m \u001b[43mvalues\u001b[49m\u001b[38;5;241;43m.\u001b[39;49m\u001b[43mcopy\u001b[49m\u001b[43m(\u001b[49m\u001b[43m)\u001b[49m\n\u001b[0;32m    797\u001b[0m     refs \u001b[38;5;241m=\u001b[39m \u001b[38;5;28;01mNone\u001b[39;00m\n\u001b[0;32m    798\u001b[0m \u001b[38;5;28;01melse\u001b[39;00m:\n",
      "\u001b[1;31mKeyboardInterrupt\u001b[0m: "
     ]
    }
   ],
   "source": [
    "# Define an evaluation function for the test set forecast\n",
    "def evaluate_forecast(y_true, y_pred):\n",
    "    mae = mean_absolute_error(y_true, y_pred)\n",
    "    rmse = np.sqrt(mean_squared_error(y_true, y_pred))\n",
    "    mape = np.mean(np.abs((y_true - y_pred) / y_true)) * 100  # expressed as percentage\n",
    "    return {\"MAE\": mae, \"RMSE\": rmse, \"MAPE\": mape}\n",
    "\n",
    "# Ensure your date column is in datetime format and rename columns for Prophet\n",
    "prophet_df[\"ds\"] = pd.to_datetime(prophet_df[\"period\"])\n",
    "prophet_df = prophet_df.rename(columns={'value': 'y'})\n",
    "\n",
    "# Define a cutoff date for training/test split (adjust as needed)\n",
    "cutoff_date = \"2023-01-01\"\n",
    "\n",
    "# Container to hold results for each neighborhood\n",
    "results = []\n",
    "\n",
    "# Loop over each neighborhood (using \"neighborhood\")\n",
    "for neighborhood, group_df in prophet_df.groupby(\"neighborhood\"):\n",
    "    # Sort by date (the \"ds\" column)\n",
    "    group_df = group_df.sort_values(\"ds\")\n",
    "\n",
    "    # Split the data: training before cutoff, test starting from cutoff\n",
    "    train_df = group_df[group_df[\"ds\"] < cutoff_date].copy()\n",
    "    test_df  = group_df[group_df[\"ds\"] >= cutoff_date].copy()\n",
    "\n",
    "    # Skip neighborhoods with insufficient training or testing data\n",
    "    if train_df[\"y\"].notna().sum() < 2 or test_df[\"y\"].notna().sum() < 1:\n",
    "        print(f\"Skipping {neighborhood} due to insufficient data: \"\n",
    "              f\"train count = {train_df['y'].notna().sum()}, \"\n",
    "              f\"test count = {test_df['y'].notna().sum()}\")\n",
    "        continue\n",
    "\n",
    "    # Fit Prophet on the training data\n",
    "    m = Prophet()\n",
    "    try:\n",
    "        m.fit(train_df)\n",
    "    except Exception as e:\n",
    "        print(f\"Error fitting Prophet for {neighborhood}: {e}\")\n",
    "        continue\n",
    "\n",
    "    # --- Evaluate on Test Data ---\n",
    "    # Create a future dataframe covering the test period (same number of periods as in test)\n",
    "    future_test = m.make_future_dataframe(periods=len(test_df), freq=\"M\")\n",
    "    forecast_test = m.predict(future_test)\n",
    "\n",
    "    # Select only the forecasted values in the test period (using the cutoff date)\n",
    "    forecast_test = forecast_test[forecast_test[\"ds\"] >= cutoff_date]\n",
    "    y_true = test_df[\"y\"].values\n",
    "    y_pred = forecast_test[\"yhat\"].values\n",
    "    metrics_dict = evaluate_forecast(y_true, y_pred)\n",
    "\n",
    "    # --- Forecast 10 Years into the Future ---\n",
    "    future_10yr = m.make_future_dataframe(periods=120, freq=\"M\")\n",
    "    forecast_10yr = m.predict(future_10yr)\n",
    "\n",
    "    # --- Forecast 15 Years into the Future ---\n",
    "\n",
    "    future_15yr = m.make_future_dataframe(periods=180, freq=\"M\")\n",
    "    forecast_15yr = m.predict(future_15yr)\n",
    "\n",
    "    # Collect results for the current region\n",
    "    results.append({\n",
    "        \"neighborhood\": neighborhood,\n",
    "        \"metrics\": metrics_dict,\n",
    "        \"forecast_test\": forecast_test,\n",
    "        \"forecast_10yr\": forecast_10yr,     # Full forecast including history plus 10 years\n",
    "        \"forecast_15yr\": forecast_15yr      # Full forecast including history plus 15 years\n",
    "    })\n",
    "\n",
    "# Convert the results list to a DataFrame of metrics (for summary, if desired)\n",
    "metrics_df = pd.DataFrame([{\"neighborhood\": r[\"neighborhood\"], **r[\"metrics\"]} for r in results])\n",
    "print(\"Evaluation Metrics:\")\n",
    "print(metrics_df.sort_values(\"MAE\").head(10))"
   ]
  }
 ],
 "metadata": {
  "kernelspec": {
   "display_name": "ds2025-group3",
   "language": "python",
   "name": "python3"
  },
  "language_info": {
   "codemirror_mode": {
    "name": "ipython",
    "version": 3
   },
   "file_extension": ".py",
   "mimetype": "text/x-python",
   "name": "python",
   "nbconvert_exporter": "python",
   "pygments_lexer": "ipython3",
   "version": "3.10.16"
  }
 },
 "nbformat": 4,
 "nbformat_minor": 5
}
