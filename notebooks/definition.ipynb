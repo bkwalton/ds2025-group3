{
 "cells": [
  {
   "cell_type": "markdown",
   "metadata": {},
   "source": [
    "# Data Sources\n",
    "- [x] Home and rent prices - Zillow: https://www.zillow.com/research/data/\n",
    "- [x] Household Income - ACS: https://www.census.gov/programs-surveys/acs\n",
    "- [x] Unemployment - ACS: https://www.census.gov/programs-surveys/acs\n",
    "- [x] Distance to Disney World - Google Maps API: https://developers.google.com/maps/documentation"
   ]
  },
  {
   "cell_type": "markdown",
   "metadata": {},
   "source": [
    "# Data Download"
   ]
  },
  {
   "cell_type": "code",
   "execution_count": 5,
   "metadata": {},
   "outputs": [
    {
     "data": {
      "text/plain": [
       "True"
      ]
     },
     "execution_count": 5,
     "metadata": {},
     "output_type": "execute_result"
    }
   ],
   "source": [
    "import pandas as pd\n",
    "from dotenv import load_dotenv\n",
    "import os\n",
    "from census import Census\n",
    "from us import states\n",
    "import googlemaps\n",
    "\n",
    "load_dotenv('../.env')"
   ]
  },
  {
   "cell_type": "markdown",
   "metadata": {},
   "source": [
    "## Zillow\n",
    "Zillow provides a dataset of home prices and rent prices for various regions in the US. The data is available in CSV format and can be downloaded from their website. The dataset includes information on home and rent prices by neighborhood for a variety of large cities across the US."
   ]
  },
  {
   "cell_type": "code",
   "execution_count": 6,
   "metadata": {},
   "outputs": [],
   "source": [
    "# Read the Zillow CSV file into a pandas DataFrame\n",
    "zillow = pd.read_csv(\"https://files.zillowstatic.com/research/public_csvs/zhvi/Neighborhood_zhvi_uc_sfrcondo_tier_0.33_0.67_sm_sa_month.csv?t=1742438344\")\n",
    "\n",
    "# Filter only the data for the city of Orlando, FL\n",
    "zillow = zillow[zillow['City'] == 'Orlando']\n",
    "\n",
    "# Drop redundant and unnecessary columns\n",
    "zillow = zillow.drop(columns=['RegionID', 'RegionType', 'State', 'StateName', 'SizeRank', 'City', 'Metro', 'CountyName', 'SizeRank'])\n",
    "\n",
    "# Convert zillow into long format\n",
    "zillow = zillow.melt(id_vars='RegionName', var_name='period', value_name='value')\n",
    "zillow = zillow.rename(columns={'RegionName': 'neighborhood'})"
   ]
  },
  {
   "cell_type": "markdown",
   "metadata": {},
   "source": [
    "## American Community Survey (ACS)\n",
    "The ACS provides a wealth of demographic and economic data, including household income and unemployment rates. The data is available in CSV format and can be downloaded from the Census Bureau's website. The dataset includes information on household income and unemployment rates by neighborhood for a variety of large cities across the US."
   ]
  },
  {
   "cell_type": "code",
   "execution_count": 7,
   "metadata": {},
   "outputs": [],
   "source": [
    "c = Census(os.getenv(\"CENSUS_API\"))\n",
    "\n",
    "# Household Income\n",
    "income = []\n",
    "for year in range(2009, 2022):\n",
    "  hhi = c.acs5.state_county_tract(('NAME', 'B19013_001E'),\n",
    "                         states.FL.fips,\n",
    "                         county_fips='095',\n",
    "                         tract='*',\n",
    "                         year=year)\n",
    "  i_df = pd.DataFrame(hhi)\n",
    "  i_df['tract'] = i_df['tract'].astype(int)\n",
    "  i_df['value'] = i_df['B19013_001E']\n",
    "  i_df = i_df[['tract', 'value']]\n",
    "  i_df['tract'] = i_df['tract'].astype(str).str.zfill(6)\n",
    "  i_df['period'] = year\n",
    "  income.append(i_df)\n",
    "\n",
    "income = pd.concat(income, ignore_index=True)\n",
    "\n",
    "# Unemployment Rate\n",
    "unemployment = []\n",
    "for year in range(2011, 2023):\n",
    "  unem = c.acs5.state_county_tract(('NAME', 'B23025_003E', 'B23025_005E'),\n",
    "                         states.FL.fips,\n",
    "                         county_fips='095',\n",
    "                         tract='*',\n",
    "                         year=year)\n",
    "  u_df = pd.DataFrame(unem)\n",
    "  u_df['tract'] = u_df['tract'].astype(int)\n",
    "  u_df['value'] = u_df['B23025_005E'] / u_df['B23025_003E']\n",
    "  u_df = u_df[['tract', 'value']]\n",
    "  u_df['tract'] = u_df['tract'].astype(str).str.zfill(6)\n",
    "  u_df['period'] = year\n",
    "  unemployment.append(u_df)\n",
    "\n",
    "unemployment = pd.concat(unemployment, ignore_index=True)"
   ]
  },
  {
   "cell_type": "markdown",
   "metadata": {},
   "source": [
    "## Distance to Disney World\n",
    "The distance to Disney World can be calculated using the Google Maps API. The API provides a way to calculate the distance between two locations using their latitude and longitude coordinates. The distance can be calculated in miles or kilometers, depending on the user's preference. The API also provides information on travel time and directions, which can be useful for users who are planning a trip to Disney World."
   ]
  },
  {
   "cell_type": "code",
   "execution_count": 8,
   "metadata": {},
   "outputs": [],
   "source": [
    "# STEP 3: Initialize your Google Maps API client\n",
    "GOOGLE_API_KEY = os.getenv('GOOGLE_API_KEY')\n",
    "gmaps = googlemaps.Client(key=GOOGLE_API_KEY)\n",
    "\n",
    "# STEP 4: List of Orlando neighborhoods\n",
    "neighborhoods = zillow['neighborhood'].unique().tolist()\n",
    "# STEP 5: Get distances to Disney World\n",
    "results = []\n",
    "\n",
    "for neighborhood in neighborhoods:\n",
    "    try:\n",
    "        response = gmaps.distance_matrix(origins=f\"{neighborhood}, Orlando, FL\",\n",
    "                                         destinations=\"Walt Disney World Resort, FL\",\n",
    "                                         mode=\"driving\",\n",
    "                                         units=\"imperial\")\n",
    "\n",
    "        row = response[\"rows\"][0][\"elements\"][0]\n",
    "        if row[\"status\"] == \"OK\":\n",
    "            distance = float(row[\"distance\"][\"text\"].replace(\" mi\", \"\"))\n",
    "            duration = float(row[\"duration\"][\"text\"].replace(\" mins\", \"\"))\n",
    "        else:\n",
    "            distance = duration = None\n",
    "\n",
    "    except Exception as e:\n",
    "        distance = duration = None\n",
    "\n",
    "    results.append({\n",
    "        'neighborhood': neighborhood,\n",
    "        'distance': distance,\n",
    "        'duration': duration\n",
    "    })\n",
    "\n",
    "# STEP 6: Convert to DataFrame\n",
    "disney = pd.DataFrame(results)"
   ]
  },
  {
   "cell_type": "markdown",
   "metadata": {},
   "source": [
    "# Geographic Downloads\n",
    "The target geographic scale is neighborhoods, but Census publishes tract data that does not match exactly with neighborhoods."
   ]
  },
  {
   "cell_type": "code",
   "execution_count": 9,
   "metadata": {},
   "outputs": [],
   "source": [
    "import geopandas as gpd\n",
    "import requests\n",
    "from zipfile import ZipFile\n",
    "import io"
   ]
  },
  {
   "cell_type": "markdown",
   "metadata": {},
   "source": [
    "## Neighborhoods"
   ]
  },
  {
   "cell_type": "code",
   "execution_count": 10,
   "metadata": {},
   "outputs": [
    {
     "name": "stderr",
     "output_type": "stream",
     "text": [
      "c:\\Users\\brad\\miniconda3\\envs\\ds\\Lib\\site-packages\\pyogrio\\core.py:35: RuntimeWarning: Could not detect GDAL data files.  Set GDAL_DATA environment variable to the correct path.\n",
      "  _init_gdal_data()\n"
     ]
    }
   ],
   "source": [
    "# Load a GeoJSON file containing the geographical boundaries of Orlando neighborhoods\n",
    "url = \"https://raw.githubusercontent.com/blackmad/neighborhoods/refs/heads/master/orlando.geojson\"\n",
    "orlando_geo = gpd.read_file(url)"
   ]
  },
  {
   "cell_type": "markdown",
   "metadata": {},
   "source": [
    "## Census Tracts"
   ]
  },
  {
   "cell_type": "code",
   "execution_count": 11,
   "metadata": {},
   "outputs": [],
   "source": [
    "import tempfile\n",
    "\n",
    "url = \"https://www2.census.gov/geo/tiger/GENZ2018/shp/cb_2018_12_tract_500k.zip\"\n",
    "\n",
    "response = requests.get(url)\n",
    "if response.status_code == 200 and response.headers.get('Content-Type') == 'application/zip':\n",
    "  with tempfile.TemporaryDirectory() as temp_dir:\n",
    "    with ZipFile(io.BytesIO(response.content)) as z:\n",
    "      z.extractall(temp_dir)\n",
    "    tracts = gpd.read_file(f\"{temp_dir}/cb_2018_12_tract_500k.shp\")\n",
    "    tracts = tracts[tracts['COUNTYFP'] == '095']\n",
    "else:\n",
    "  print(\"Error: The file is not a valid ZIP file or the URL is incorrect.\")\n"
   ]
  },
  {
   "cell_type": "markdown",
   "metadata": {},
   "source": [
    "### Mapping Census Tracts to Neighborhoods"
   ]
  },
  {
   "cell_type": "code",
   "execution_count": 12,
   "metadata": {},
   "outputs": [],
   "source": [
    "# Map each tract to its corresponding neighborhood\n",
    "tracts['GEOID'] = tracts['GEOID'].astype(str).str.zfill(11)\n",
    "tracts['neighborhood'] = None\n",
    "for index, row in tracts.iterrows():\n",
    "    tract_geom = row['geometry']\n",
    "    for _, neighborhood_row in orlando_geo.iterrows():\n",
    "        if tract_geom.intersects(neighborhood_row['geometry']):\n",
    "            tracts.at[index, 'neighborhood'] = neighborhood_row['name']\n",
    "            break\n",
    "tracts = tracts[tracts['neighborhood'].notnull()]\n",
    "tracts = tracts[['GEOID', 'neighborhood']]\n",
    "tracts['GEOID'] = tracts['GEOID'].str[5:]\n",
    "tracts['GEOID'] = tracts['GEOID'].astype(str).str.zfill(6)\n",
    "tracts = tracts.rename(columns={'GEOID': 'tract'})"
   ]
  },
  {
   "cell_type": "markdown",
   "metadata": {},
   "source": [
    "# Database\n",
    "SQL commands can be used to create a database that stores the data from the Zillow and ACS datasets. The database can be created using a variety of database management systems, including MySQL, PostgreSQL, and SQLite. The SQL commands can be used to create tables for each dataset, as well as to insert the data into the tables. The database can then be queried to retrieve information on home prices, rent prices, household income, and unemployment rates by neighborhood."
   ]
  },
  {
   "cell_type": "code",
   "execution_count": 13,
   "metadata": {},
   "outputs": [],
   "source": [
    "import sqlite3"
   ]
  },
  {
   "cell_type": "markdown",
   "metadata": {},
   "source": [
    "## Create Tables and Schema"
   ]
  },
  {
   "cell_type": "code",
   "execution_count": 14,
   "metadata": {},
   "outputs": [],
   "source": [
    "with open('../sql-scripts/ddl.txt', 'r') as sql_file:\n",
    "  sql_script = sql_file.read()\n",
    "\n",
    "with sqlite3.connect('orlando.db') as conn:\n",
    "  conn.executescript(sql_script)"
   ]
  },
  {
   "cell_type": "markdown",
   "metadata": {},
   "source": [
    "## Add Initial Data"
   ]
  },
  {
   "cell_type": "code",
   "execution_count": 15,
   "metadata": {},
   "outputs": [],
   "source": [
    "with sqlite3.connect('orlando.db') as conn:\n",
    "  zillow.to_sql('zillow', conn, if_exists='append', index=False)\n",
    "  income.to_sql('income', conn, if_exists='append', index=False)\n",
    "  unemployment.to_sql('unemployment', conn, if_exists='append', index=False)\n",
    "  tracts.to_sql('tracts', conn, if_exists='append', index=False)\n",
    "  disney.to_sql('disney', conn, if_exists='append', index=False)"
   ]
  }
 ],
 "metadata": {
  "kernelspec": {
   "display_name": "ds",
   "language": "python",
   "name": "python3"
  },
  "language_info": {
   "codemirror_mode": {
    "name": "ipython",
    "version": 3
   },
   "file_extension": ".py",
   "mimetype": "text/x-python",
   "name": "python",
   "nbconvert_exporter": "python",
   "pygments_lexer": "ipython3",
   "version": "3.13.3"
  }
 },
 "nbformat": 4,
 "nbformat_minor": 2
}
