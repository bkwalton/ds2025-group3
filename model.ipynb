{
 "cells": [
  {
   "cell_type": "markdown",
   "id": "0afd1d70",
   "metadata": {},
   "source": [
    "# Pull from Database"
   ]
  },
  {
   "cell_type": "code",
   "execution_count": 14,
   "id": "d5ddfdca",
   "metadata": {},
   "outputs": [],
   "source": [
    "import sqlite3\n",
    "import pandas as pd\n",
    "import os"
   ]
  },
  {
   "cell_type": "code",
   "execution_count": 27,
   "id": "514e3053",
   "metadata": {},
   "outputs": [
    {
     "ename": "OperationalError",
     "evalue": "near \"income\": syntax error",
     "output_type": "error",
     "traceback": [
      "\u001b[1;31m---------------------------------------------------------------------------\u001b[0m",
      "\u001b[1;31mOperationalError\u001b[0m                          Traceback (most recent call last)",
      "Cell \u001b[1;32mIn[27], line 5\u001b[0m\n\u001b[0;32m      2\u001b[0m   sql_script \u001b[38;5;241m=\u001b[39m sql_file\u001b[38;5;241m.\u001b[39mread()\n\u001b[0;32m      4\u001b[0m \u001b[38;5;28;01mwith\u001b[39;00m sqlite3\u001b[38;5;241m.\u001b[39mconnect(\u001b[38;5;124m'\u001b[39m\u001b[38;5;124morlando.db\u001b[39m\u001b[38;5;124m'\u001b[39m) \u001b[38;5;28;01mas\u001b[39;00m conn:\n\u001b[1;32m----> 5\u001b[0m   \u001b[43mconn\u001b[49m\u001b[38;5;241;43m.\u001b[39;49m\u001b[43mexecutescript\u001b[49m\u001b[43m(\u001b[49m\u001b[43msql_script\u001b[49m\u001b[43m)\u001b[49m\n",
      "\u001b[1;31mOperationalError\u001b[0m: near \"income\": syntax error"
     ]
    }
   ],
   "source": [
    "with open('read.txt', 'r') as sql_file:\n",
    "  sql_script = sql_file.read()\n",
    "\n",
    "with sqlite3.connect('orlando.db') as conn:\n",
    "  conn.executescript(sql_script)"
   ]
  },
  {
   "cell_type": "code",
   "execution_count": 21,
   "id": "5e3ccc4e",
   "metadata": {
    "vscode": {
     "languageId": "sql"
    }
   },
   "outputs": [
    {
     "ename": "DatabaseError",
     "evalue": "Execution failed on sql '\nWITH zillow_median AS (\n  SELECT \n    neighborhood, \n    strftime('%Y', period) AS year, \n    PERCENTILE_CONT(0.5) WITHIN GROUP (ORDER BY value) AS median_value\n  FROM zillow\n  GROUP BY neighborhood, year\n),\nincome_neighborhood AS (\n  SELECT \n    i.year, \n    i.value AS income_value, \n    t.neighborhood, \n    t.tract\n  FROM income i\n  LEFT JOIN tracts t ON i.tract = t.tract\n),\nunemployment_neighborhood AS (\n  SELECT \n    u.year, \n    u.value AS unemployment_value, \n    t.neighborhood, \n    t.tract\n  FROM unemployment u\n  LEFT JOIN tracts t ON u.tract = t.tract\n),\ncombined_data AS (\n  SELECT \n    zm.neighborhood, \n    zm.year, \n    zm.median_value, \n    in_data.income_value, \n    un_data.unemployment_value, \n    d.distance, \n    d.duration\n  FROM zillow_median zm\n  LEFT JOIN income_neighborhood in_data \n    ON zm.neighborhood = in_data.neighborhood AND zm.year = in_data.year\n  LEFT JOIN unemployment_neighborhood un_data \n    ON zm.neighborhood = un_data.neighborhood AND zm.year = un_data.year\n  LEFT JOIN disney d \n    ON zm.neighborhood = d.neighborhood\n)\nSELECT \n  neighborhood, \n  tract, \n  median_value, \n  income_value, \n  unemployment_value, \n  distance, \n  duration\nFROM combined_data;\n': near \"(\": syntax error",
     "output_type": "error",
     "traceback": [
      "\u001b[1;31m---------------------------------------------------------------------------\u001b[0m",
      "\u001b[1;31mOperationalError\u001b[0m                          Traceback (most recent call last)",
      "File \u001b[1;32mc:\\Users\\brad\\miniconda3\\envs\\ds2025-group3\\lib\\site-packages\\pandas\\io\\sql.py:2674\u001b[0m, in \u001b[0;36mSQLiteDatabase.execute\u001b[1;34m(self, sql, params)\u001b[0m\n\u001b[0;32m   2673\u001b[0m \u001b[38;5;28;01mtry\u001b[39;00m:\n\u001b[1;32m-> 2674\u001b[0m     \u001b[43mcur\u001b[49m\u001b[38;5;241;43m.\u001b[39;49m\u001b[43mexecute\u001b[49m\u001b[43m(\u001b[49m\u001b[43msql\u001b[49m\u001b[43m,\u001b[49m\u001b[43m \u001b[49m\u001b[38;5;241;43m*\u001b[39;49m\u001b[43margs\u001b[49m\u001b[43m)\u001b[49m\n\u001b[0;32m   2675\u001b[0m     \u001b[38;5;28;01mreturn\u001b[39;00m cur\n",
      "\u001b[1;31mOperationalError\u001b[0m: near \"(\": syntax error",
      "\nThe above exception was the direct cause of the following exception:\n",
      "\u001b[1;31mDatabaseError\u001b[0m                             Traceback (most recent call last)",
      "Cell \u001b[1;32mIn[21], line 57\u001b[0m\n\u001b[0;32m      1\u001b[0m final_query \u001b[38;5;241m=\u001b[39m \u001b[38;5;124m\"\"\"\u001b[39m\n\u001b[0;32m      2\u001b[0m \u001b[38;5;124mWITH zillow_median AS (\u001b[39m\n\u001b[0;32m      3\u001b[0m \u001b[38;5;124m  SELECT \u001b[39m\n\u001b[1;32m   (...)\u001b[0m\n\u001b[0;32m     53\u001b[0m \u001b[38;5;124mFROM combined_data;\u001b[39m\n\u001b[0;32m     54\u001b[0m \u001b[38;5;124m\"\"\"\u001b[39m\n\u001b[0;32m     56\u001b[0m \u001b[38;5;28;01mwith\u001b[39;00m sqlite3\u001b[38;5;241m.\u001b[39mconnect(\u001b[38;5;124m'\u001b[39m\u001b[38;5;124morlando.db\u001b[39m\u001b[38;5;124m'\u001b[39m) \u001b[38;5;28;01mas\u001b[39;00m conn:\n\u001b[1;32m---> 57\u001b[0m   final_data \u001b[38;5;241m=\u001b[39m \u001b[43mpd\u001b[49m\u001b[38;5;241;43m.\u001b[39;49m\u001b[43mread_sql_query\u001b[49m\u001b[43m(\u001b[49m\u001b[43mfinal_query\u001b[49m\u001b[43m,\u001b[49m\u001b[43m \u001b[49m\u001b[43mconn\u001b[49m\u001b[43m)\u001b[49m\n",
      "File \u001b[1;32mc:\\Users\\brad\\miniconda3\\envs\\ds2025-group3\\lib\\site-packages\\pandas\\io\\sql.py:526\u001b[0m, in \u001b[0;36mread_sql_query\u001b[1;34m(sql, con, index_col, coerce_float, params, parse_dates, chunksize, dtype, dtype_backend)\u001b[0m\n\u001b[0;32m    523\u001b[0m \u001b[38;5;28;01massert\u001b[39;00m dtype_backend \u001b[38;5;129;01mis\u001b[39;00m \u001b[38;5;129;01mnot\u001b[39;00m lib\u001b[38;5;241m.\u001b[39mno_default\n\u001b[0;32m    525\u001b[0m \u001b[38;5;28;01mwith\u001b[39;00m pandasSQL_builder(con) \u001b[38;5;28;01mas\u001b[39;00m pandas_sql:\n\u001b[1;32m--> 526\u001b[0m     \u001b[38;5;28;01mreturn\u001b[39;00m \u001b[43mpandas_sql\u001b[49m\u001b[38;5;241;43m.\u001b[39;49m\u001b[43mread_query\u001b[49m\u001b[43m(\u001b[49m\n\u001b[0;32m    527\u001b[0m \u001b[43m        \u001b[49m\u001b[43msql\u001b[49m\u001b[43m,\u001b[49m\n\u001b[0;32m    528\u001b[0m \u001b[43m        \u001b[49m\u001b[43mindex_col\u001b[49m\u001b[38;5;241;43m=\u001b[39;49m\u001b[43mindex_col\u001b[49m\u001b[43m,\u001b[49m\n\u001b[0;32m    529\u001b[0m \u001b[43m        \u001b[49m\u001b[43mparams\u001b[49m\u001b[38;5;241;43m=\u001b[39;49m\u001b[43mparams\u001b[49m\u001b[43m,\u001b[49m\n\u001b[0;32m    530\u001b[0m \u001b[43m        \u001b[49m\u001b[43mcoerce_float\u001b[49m\u001b[38;5;241;43m=\u001b[39;49m\u001b[43mcoerce_float\u001b[49m\u001b[43m,\u001b[49m\n\u001b[0;32m    531\u001b[0m \u001b[43m        \u001b[49m\u001b[43mparse_dates\u001b[49m\u001b[38;5;241;43m=\u001b[39;49m\u001b[43mparse_dates\u001b[49m\u001b[43m,\u001b[49m\n\u001b[0;32m    532\u001b[0m \u001b[43m        \u001b[49m\u001b[43mchunksize\u001b[49m\u001b[38;5;241;43m=\u001b[39;49m\u001b[43mchunksize\u001b[49m\u001b[43m,\u001b[49m\n\u001b[0;32m    533\u001b[0m \u001b[43m        \u001b[49m\u001b[43mdtype\u001b[49m\u001b[38;5;241;43m=\u001b[39;49m\u001b[43mdtype\u001b[49m\u001b[43m,\u001b[49m\n\u001b[0;32m    534\u001b[0m \u001b[43m        \u001b[49m\u001b[43mdtype_backend\u001b[49m\u001b[38;5;241;43m=\u001b[39;49m\u001b[43mdtype_backend\u001b[49m\u001b[43m,\u001b[49m\n\u001b[0;32m    535\u001b[0m \u001b[43m    \u001b[49m\u001b[43m)\u001b[49m\n",
      "File \u001b[1;32mc:\\Users\\brad\\miniconda3\\envs\\ds2025-group3\\lib\\site-packages\\pandas\\io\\sql.py:2738\u001b[0m, in \u001b[0;36mSQLiteDatabase.read_query\u001b[1;34m(self, sql, index_col, coerce_float, parse_dates, params, chunksize, dtype, dtype_backend)\u001b[0m\n\u001b[0;32m   2727\u001b[0m \u001b[38;5;28;01mdef\u001b[39;00m\u001b[38;5;250m \u001b[39m\u001b[38;5;21mread_query\u001b[39m(\n\u001b[0;32m   2728\u001b[0m     \u001b[38;5;28mself\u001b[39m,\n\u001b[0;32m   2729\u001b[0m     sql,\n\u001b[1;32m   (...)\u001b[0m\n\u001b[0;32m   2736\u001b[0m     dtype_backend: DtypeBackend \u001b[38;5;241m|\u001b[39m Literal[\u001b[38;5;124m\"\u001b[39m\u001b[38;5;124mnumpy\u001b[39m\u001b[38;5;124m\"\u001b[39m] \u001b[38;5;241m=\u001b[39m \u001b[38;5;124m\"\u001b[39m\u001b[38;5;124mnumpy\u001b[39m\u001b[38;5;124m\"\u001b[39m,\n\u001b[0;32m   2737\u001b[0m ) \u001b[38;5;241m-\u001b[39m\u001b[38;5;241m>\u001b[39m DataFrame \u001b[38;5;241m|\u001b[39m Iterator[DataFrame]:\n\u001b[1;32m-> 2738\u001b[0m     cursor \u001b[38;5;241m=\u001b[39m \u001b[38;5;28;43mself\u001b[39;49m\u001b[38;5;241;43m.\u001b[39;49m\u001b[43mexecute\u001b[49m\u001b[43m(\u001b[49m\u001b[43msql\u001b[49m\u001b[43m,\u001b[49m\u001b[43m \u001b[49m\u001b[43mparams\u001b[49m\u001b[43m)\u001b[49m\n\u001b[0;32m   2739\u001b[0m     columns \u001b[38;5;241m=\u001b[39m [col_desc[\u001b[38;5;241m0\u001b[39m] \u001b[38;5;28;01mfor\u001b[39;00m col_desc \u001b[38;5;129;01min\u001b[39;00m cursor\u001b[38;5;241m.\u001b[39mdescription]\n\u001b[0;32m   2741\u001b[0m     \u001b[38;5;28;01mif\u001b[39;00m chunksize \u001b[38;5;129;01mis\u001b[39;00m \u001b[38;5;129;01mnot\u001b[39;00m \u001b[38;5;28;01mNone\u001b[39;00m:\n",
      "File \u001b[1;32mc:\\Users\\brad\\miniconda3\\envs\\ds2025-group3\\lib\\site-packages\\pandas\\io\\sql.py:2686\u001b[0m, in \u001b[0;36mSQLiteDatabase.execute\u001b[1;34m(self, sql, params)\u001b[0m\n\u001b[0;32m   2683\u001b[0m     \u001b[38;5;28;01mraise\u001b[39;00m ex \u001b[38;5;28;01mfrom\u001b[39;00m\u001b[38;5;250m \u001b[39m\u001b[38;5;21;01minner_exc\u001b[39;00m\n\u001b[0;32m   2685\u001b[0m ex \u001b[38;5;241m=\u001b[39m DatabaseError(\u001b[38;5;124mf\u001b[39m\u001b[38;5;124m\"\u001b[39m\u001b[38;5;124mExecution failed on sql \u001b[39m\u001b[38;5;124m'\u001b[39m\u001b[38;5;132;01m{\u001b[39;00msql\u001b[38;5;132;01m}\u001b[39;00m\u001b[38;5;124m'\u001b[39m\u001b[38;5;124m: \u001b[39m\u001b[38;5;132;01m{\u001b[39;00mexc\u001b[38;5;132;01m}\u001b[39;00m\u001b[38;5;124m\"\u001b[39m)\n\u001b[1;32m-> 2686\u001b[0m \u001b[38;5;28;01mraise\u001b[39;00m ex \u001b[38;5;28;01mfrom\u001b[39;00m\u001b[38;5;250m \u001b[39m\u001b[38;5;21;01mexc\u001b[39;00m\n",
      "\u001b[1;31mDatabaseError\u001b[0m: Execution failed on sql '\nWITH zillow_median AS (\n  SELECT \n    neighborhood, \n    strftime('%Y', period) AS year, \n    PERCENTILE_CONT(0.5) WITHIN GROUP (ORDER BY value) AS median_value\n  FROM zillow\n  GROUP BY neighborhood, year\n),\nincome_neighborhood AS (\n  SELECT \n    i.year, \n    i.value AS income_value, \n    t.neighborhood, \n    t.tract\n  FROM income i\n  LEFT JOIN tracts t ON i.tract = t.tract\n),\nunemployment_neighborhood AS (\n  SELECT \n    u.year, \n    u.value AS unemployment_value, \n    t.neighborhood, \n    t.tract\n  FROM unemployment u\n  LEFT JOIN tracts t ON u.tract = t.tract\n),\ncombined_data AS (\n  SELECT \n    zm.neighborhood, \n    zm.year, \n    zm.median_value, \n    in_data.income_value, \n    un_data.unemployment_value, \n    d.distance, \n    d.duration\n  FROM zillow_median zm\n  LEFT JOIN income_neighborhood in_data \n    ON zm.neighborhood = in_data.neighborhood AND zm.year = in_data.year\n  LEFT JOIN unemployment_neighborhood un_data \n    ON zm.neighborhood = un_data.neighborhood AND zm.year = un_data.year\n  LEFT JOIN disney d \n    ON zm.neighborhood = d.neighborhood\n)\nSELECT \n  neighborhood, \n  tract, \n  median_value, \n  income_value, \n  unemployment_value, \n  distance, \n  duration\nFROM combined_data;\n': near \"(\": syntax error"
     ]
    }
   ],
   "source": [
    "final_query = \"\"\"\n",
    "WITH zillow_median AS (\n",
    "  SELECT \n",
    "    neighborhood, \n",
    "    strftime('%Y', period) AS year, \n",
    "    PERCENTILE_CONT(0.5) WITHIN GROUP (ORDER BY value) AS median_value\n",
    "  FROM zillow\n",
    "  GROUP BY neighborhood, year\n",
    "),\n",
    "income_neighborhood AS (\n",
    "  SELECT \n",
    "    i.year, \n",
    "    i.value AS income_value, \n",
    "    t.neighborhood, \n",
    "    t.tract\n",
    "  FROM income i\n",
    "  LEFT JOIN tracts t ON i.tract = t.tract\n",
    "),\n",
    "unemployment_neighborhood AS (\n",
    "  SELECT \n",
    "    u.year, \n",
    "    u.value AS unemployment_value, \n",
    "    t.neighborhood, \n",
    "    t.tract\n",
    "  FROM unemployment u\n",
    "  LEFT JOIN tracts t ON u.tract = t.tract\n",
    "),\n",
    "combined_data AS (\n",
    "  SELECT \n",
    "    zm.neighborhood, \n",
    "    zm.year, \n",
    "    zm.median_value, \n",
    "    in_data.income_value, \n",
    "    un_data.unemployment_value, \n",
    "    d.distance, \n",
    "    d.duration\n",
    "  FROM zillow_median zm\n",
    "  LEFT JOIN income_neighborhood in_data \n",
    "    ON zm.neighborhood = in_data.neighborhood AND zm.year = in_data.year\n",
    "  LEFT JOIN unemployment_neighborhood un_data \n",
    "    ON zm.neighborhood = un_data.neighborhood AND zm.year = un_data.year\n",
    "  LEFT JOIN disney d \n",
    "    ON zm.neighborhood = d.neighborhood\n",
    ")\n",
    "SELECT \n",
    "  neighborhood, \n",
    "  tract, \n",
    "  median_value, \n",
    "  income_value, \n",
    "  unemployment_value, \n",
    "  distance, \n",
    "  duration\n",
    "FROM combined_data;\n",
    "\"\"\"\n",
    "\n",
    "with sqlite3.connect('orlando.db') as conn:\n",
    "  final_data = pd.read_sql_query(final_query, conn)"
   ]
  },
  {
   "cell_type": "code",
   "execution_count": 19,
   "id": "87fbfb41",
   "metadata": {},
   "outputs": [
    {
     "ename": "DatabaseError",
     "evalue": "Execution failed on sql '\n  SELECT \n      z.neighborhood, \n      z.year, \n      z.median_value AS zillow_value, \n      i.income_value, \n      u.unemployment_value, \n      d.distance, \n      d.duration\n  FROM ({zillow_query}) z\n  INNER JOIN ({income_query}) i ON z.neighborhood = i.neighborhood AND z.year = i.year\n  INNER JOIN ({unemployment_query}) u ON z.neighborhood = u.neighborhood AND z.year = u.year\n  LEFT JOIN disney d ON z.neighborhood = d.neighborhood\n  ': unrecognized token: \"{\"",
     "output_type": "error",
     "traceback": [
      "\u001b[1;31m---------------------------------------------------------------------------\u001b[0m",
      "\u001b[1;31mOperationalError\u001b[0m                          Traceback (most recent call last)",
      "File \u001b[1;32mc:\\Users\\brad\\miniconda3\\envs\\ds2025-group3\\lib\\site-packages\\pandas\\io\\sql.py:2674\u001b[0m, in \u001b[0;36mSQLiteDatabase.execute\u001b[1;34m(self, sql, params)\u001b[0m\n\u001b[0;32m   2673\u001b[0m \u001b[38;5;28;01mtry\u001b[39;00m:\n\u001b[1;32m-> 2674\u001b[0m     \u001b[43mcur\u001b[49m\u001b[38;5;241;43m.\u001b[39;49m\u001b[43mexecute\u001b[49m\u001b[43m(\u001b[49m\u001b[43msql\u001b[49m\u001b[43m,\u001b[49m\u001b[43m \u001b[49m\u001b[38;5;241;43m*\u001b[39;49m\u001b[43margs\u001b[49m\u001b[43m)\u001b[49m\n\u001b[0;32m   2675\u001b[0m     \u001b[38;5;28;01mreturn\u001b[39;00m cur\n",
      "\u001b[1;31mOperationalError\u001b[0m: unrecognized token: \"{\"",
      "\nThe above exception was the direct cause of the following exception:\n",
      "\u001b[1;31mDatabaseError\u001b[0m                             Traceback (most recent call last)",
      "Cell \u001b[1;32mIn[19], line 49\u001b[0m\n\u001b[0;32m     34\u001b[0m \u001b[38;5;66;03m# Join the zillow, income, and unemployment tables based on the year and neighborhood\u001b[39;00m\n\u001b[0;32m     35\u001b[0m merged_query \u001b[38;5;241m=\u001b[39m \u001b[38;5;124m\"\"\"\u001b[39m\n\u001b[0;32m     36\u001b[0m \u001b[38;5;124mSELECT \u001b[39m\n\u001b[0;32m     37\u001b[0m \u001b[38;5;124m    z.neighborhood, \u001b[39m\n\u001b[1;32m   (...)\u001b[0m\n\u001b[0;32m     47\u001b[0m \u001b[38;5;124mLEFT JOIN disney d ON z.neighborhood = d.neighborhood\u001b[39m\n\u001b[0;32m     48\u001b[0m \u001b[38;5;124m\u001b[39m\u001b[38;5;124m\"\"\"\u001b[39m\n\u001b[1;32m---> 49\u001b[0m merged_data \u001b[38;5;241m=\u001b[39m \u001b[43mpd\u001b[49m\u001b[38;5;241;43m.\u001b[39;49m\u001b[43mread_sql_query\u001b[49m\u001b[43m(\u001b[49m\u001b[43mmerged_query\u001b[49m\u001b[43m,\u001b[49m\u001b[43m \u001b[49m\u001b[43mconn\u001b[49m\u001b[43m)\u001b[49m\n",
      "File \u001b[1;32mc:\\Users\\brad\\miniconda3\\envs\\ds2025-group3\\lib\\site-packages\\pandas\\io\\sql.py:526\u001b[0m, in \u001b[0;36mread_sql_query\u001b[1;34m(sql, con, index_col, coerce_float, params, parse_dates, chunksize, dtype, dtype_backend)\u001b[0m\n\u001b[0;32m    523\u001b[0m \u001b[38;5;28;01massert\u001b[39;00m dtype_backend \u001b[38;5;129;01mis\u001b[39;00m \u001b[38;5;129;01mnot\u001b[39;00m lib\u001b[38;5;241m.\u001b[39mno_default\n\u001b[0;32m    525\u001b[0m \u001b[38;5;28;01mwith\u001b[39;00m pandasSQL_builder(con) \u001b[38;5;28;01mas\u001b[39;00m pandas_sql:\n\u001b[1;32m--> 526\u001b[0m     \u001b[38;5;28;01mreturn\u001b[39;00m \u001b[43mpandas_sql\u001b[49m\u001b[38;5;241;43m.\u001b[39;49m\u001b[43mread_query\u001b[49m\u001b[43m(\u001b[49m\n\u001b[0;32m    527\u001b[0m \u001b[43m        \u001b[49m\u001b[43msql\u001b[49m\u001b[43m,\u001b[49m\n\u001b[0;32m    528\u001b[0m \u001b[43m        \u001b[49m\u001b[43mindex_col\u001b[49m\u001b[38;5;241;43m=\u001b[39;49m\u001b[43mindex_col\u001b[49m\u001b[43m,\u001b[49m\n\u001b[0;32m    529\u001b[0m \u001b[43m        \u001b[49m\u001b[43mparams\u001b[49m\u001b[38;5;241;43m=\u001b[39;49m\u001b[43mparams\u001b[49m\u001b[43m,\u001b[49m\n\u001b[0;32m    530\u001b[0m \u001b[43m        \u001b[49m\u001b[43mcoerce_float\u001b[49m\u001b[38;5;241;43m=\u001b[39;49m\u001b[43mcoerce_float\u001b[49m\u001b[43m,\u001b[49m\n\u001b[0;32m    531\u001b[0m \u001b[43m        \u001b[49m\u001b[43mparse_dates\u001b[49m\u001b[38;5;241;43m=\u001b[39;49m\u001b[43mparse_dates\u001b[49m\u001b[43m,\u001b[49m\n\u001b[0;32m    532\u001b[0m \u001b[43m        \u001b[49m\u001b[43mchunksize\u001b[49m\u001b[38;5;241;43m=\u001b[39;49m\u001b[43mchunksize\u001b[49m\u001b[43m,\u001b[49m\n\u001b[0;32m    533\u001b[0m \u001b[43m        \u001b[49m\u001b[43mdtype\u001b[49m\u001b[38;5;241;43m=\u001b[39;49m\u001b[43mdtype\u001b[49m\u001b[43m,\u001b[49m\n\u001b[0;32m    534\u001b[0m \u001b[43m        \u001b[49m\u001b[43mdtype_backend\u001b[49m\u001b[38;5;241;43m=\u001b[39;49m\u001b[43mdtype_backend\u001b[49m\u001b[43m,\u001b[49m\n\u001b[0;32m    535\u001b[0m \u001b[43m    \u001b[49m\u001b[43m)\u001b[49m\n",
      "File \u001b[1;32mc:\\Users\\brad\\miniconda3\\envs\\ds2025-group3\\lib\\site-packages\\pandas\\io\\sql.py:2738\u001b[0m, in \u001b[0;36mSQLiteDatabase.read_query\u001b[1;34m(self, sql, index_col, coerce_float, parse_dates, params, chunksize, dtype, dtype_backend)\u001b[0m\n\u001b[0;32m   2727\u001b[0m \u001b[38;5;28;01mdef\u001b[39;00m\u001b[38;5;250m \u001b[39m\u001b[38;5;21mread_query\u001b[39m(\n\u001b[0;32m   2728\u001b[0m     \u001b[38;5;28mself\u001b[39m,\n\u001b[0;32m   2729\u001b[0m     sql,\n\u001b[1;32m   (...)\u001b[0m\n\u001b[0;32m   2736\u001b[0m     dtype_backend: DtypeBackend \u001b[38;5;241m|\u001b[39m Literal[\u001b[38;5;124m\"\u001b[39m\u001b[38;5;124mnumpy\u001b[39m\u001b[38;5;124m\"\u001b[39m] \u001b[38;5;241m=\u001b[39m \u001b[38;5;124m\"\u001b[39m\u001b[38;5;124mnumpy\u001b[39m\u001b[38;5;124m\"\u001b[39m,\n\u001b[0;32m   2737\u001b[0m ) \u001b[38;5;241m-\u001b[39m\u001b[38;5;241m>\u001b[39m DataFrame \u001b[38;5;241m|\u001b[39m Iterator[DataFrame]:\n\u001b[1;32m-> 2738\u001b[0m     cursor \u001b[38;5;241m=\u001b[39m \u001b[38;5;28;43mself\u001b[39;49m\u001b[38;5;241;43m.\u001b[39;49m\u001b[43mexecute\u001b[49m\u001b[43m(\u001b[49m\u001b[43msql\u001b[49m\u001b[43m,\u001b[49m\u001b[43m \u001b[49m\u001b[43mparams\u001b[49m\u001b[43m)\u001b[49m\n\u001b[0;32m   2739\u001b[0m     columns \u001b[38;5;241m=\u001b[39m [col_desc[\u001b[38;5;241m0\u001b[39m] \u001b[38;5;28;01mfor\u001b[39;00m col_desc \u001b[38;5;129;01min\u001b[39;00m cursor\u001b[38;5;241m.\u001b[39mdescription]\n\u001b[0;32m   2741\u001b[0m     \u001b[38;5;28;01mif\u001b[39;00m chunksize \u001b[38;5;129;01mis\u001b[39;00m \u001b[38;5;129;01mnot\u001b[39;00m \u001b[38;5;28;01mNone\u001b[39;00m:\n",
      "File \u001b[1;32mc:\\Users\\brad\\miniconda3\\envs\\ds2025-group3\\lib\\site-packages\\pandas\\io\\sql.py:2686\u001b[0m, in \u001b[0;36mSQLiteDatabase.execute\u001b[1;34m(self, sql, params)\u001b[0m\n\u001b[0;32m   2683\u001b[0m     \u001b[38;5;28;01mraise\u001b[39;00m ex \u001b[38;5;28;01mfrom\u001b[39;00m\u001b[38;5;250m \u001b[39m\u001b[38;5;21;01minner_exc\u001b[39;00m\n\u001b[0;32m   2685\u001b[0m ex \u001b[38;5;241m=\u001b[39m DatabaseError(\u001b[38;5;124mf\u001b[39m\u001b[38;5;124m\"\u001b[39m\u001b[38;5;124mExecution failed on sql \u001b[39m\u001b[38;5;124m'\u001b[39m\u001b[38;5;132;01m{\u001b[39;00msql\u001b[38;5;132;01m}\u001b[39;00m\u001b[38;5;124m'\u001b[39m\u001b[38;5;124m: \u001b[39m\u001b[38;5;132;01m{\u001b[39;00mexc\u001b[38;5;132;01m}\u001b[39;00m\u001b[38;5;124m\"\u001b[39m)\n\u001b[1;32m-> 2686\u001b[0m \u001b[38;5;28;01mraise\u001b[39;00m ex \u001b[38;5;28;01mfrom\u001b[39;00m\u001b[38;5;250m \u001b[39m\u001b[38;5;21;01mexc\u001b[39;00m\n",
      "\u001b[1;31mDatabaseError\u001b[0m: Execution failed on sql '\n  SELECT \n      z.neighborhood, \n      z.year, \n      z.median_value AS zillow_value, \n      i.income_value, \n      u.unemployment_value, \n      d.distance, \n      d.duration\n  FROM ({zillow_query}) z\n  INNER JOIN ({income_query}) i ON z.neighborhood = i.neighborhood AND z.year = i.year\n  INNER JOIN ({unemployment_query}) u ON z.neighborhood = u.neighborhood AND z.year = u.year\n  LEFT JOIN disney d ON z.neighborhood = d.neighborhood\n  ': unrecognized token: \"{\""
     ]
    }
   ],
   "source": [
    "with sqlite3.connect('orlando.db') as conn:\n",
    "  # Use SQL queries to perform all transformations and joins\n",
    "  # Transform the 'value' column in the zillow table to be the median for each year\n",
    "  zillow_query = \"\"\"\n",
    "  SELECT \n",
    "      neighborhood, \n",
    "      strftime('%Y', period) AS year, \n",
    "      AVG(value) AS median_value\n",
    "  FROM zillow\n",
    "  GROUP BY neighborhood, year\n",
    "  \"\"\"\n",
    "  zillow = pd.read_sql_query(zillow_query, conn)\n",
    "\n",
    "  # Match the tract in the income and unemployment tables to the corresponding neighborhood in the tracts table\n",
    "  income_query = \"\"\"\n",
    "  SELECT \n",
    "      i.period AS year, \n",
    "      i.value AS income_value,\n",
    "      t.neighborhood\n",
    "  FROM income i\n",
    "  LEFT JOIN tracts t ON i.tract = t.tract\n",
    "  \"\"\"\n",
    "  income = pd.read_sql_query(income_query, conn)\n",
    "\n",
    "  unemployment_query = \"\"\"\n",
    "  SELECT \n",
    "      u.period AS year, \n",
    "      u.value AS unemployment_value\n",
    "  FROM unemployment u\n",
    "  LEFT JOIN tracts t ON u.tract = t.tract\n",
    "  \"\"\"\n",
    "  unemployment = pd.read_sql_query(unemployment_query, conn)\n",
    "\n",
    "  # Join the zillow, income, and unemployment tables based on the year and neighborhood\n",
    "  merged_query = \"\"\"\n",
    "  SELECT \n",
    "      z.neighborhood, \n",
    "      z.year, \n",
    "      z.median_value AS zillow_value, \n",
    "      i.income_value, \n",
    "      u.unemployment_value, \n",
    "      d.distance, \n",
    "      d.duration\n",
    "  FROM ({zillow_query}) z\n",
    "  INNER JOIN ({income_query}) i ON z.neighborhood = i.neighborhood AND z.year = i.year\n",
    "  INNER JOIN ({unemployment_query}) u ON z.neighborhood = u.neighborhood AND z.year = u.year\n",
    "  LEFT JOIN disney d ON z.neighborhood = d.neighborhood\n",
    "  \"\"\"\n",
    "  merged_data = pd.read_sql_query(merged_query, conn)\n"
   ]
  },
  {
   "cell_type": "code",
   "execution_count": null,
   "id": "258d6f29",
   "metadata": {},
   "outputs": [],
   "source": [
    "\n",
    "  zillow = pd.read_sql_query(\"SELECT * FROM zillow\", conn)\n",
    "  income = pd.read_sql_query(\"SELECT * FROM income\", conn)\n",
    "  unemployment = pd.read_sql_query(\"SELECT * FROM unemployment\", conn)\n",
    "  disney = pd.read_sql_query(\"SELECT * FROM disney\", conn)"
   ]
  },
  {
   "cell_type": "code",
   "execution_count": null,
   "id": "98de206c",
   "metadata": {},
   "outputs": [],
   "source": [
    "import pandas as pd\n",
    "from statsmodels.tsa.vector_ar.vecm import VECM, select_order, select_coint_rank\n",
    "\n",
    "# Ensure the data is properly formatted as time series\n",
    "# Assuming the dataframes have a 'date' column to set as index\n",
    "zillow.set_index('date', inplace=True)\n",
    "income.set_index('date', inplace=True)\n",
    "unemployment.set_index('date', inplace=True)\n",
    "disney.set_index('date', inplace=True)\n",
    "\n",
    "# Combine the data into a single DataFrame\n",
    "data = pd.concat([zillow, income, unemployment, disney], axis=1)\n",
    "data.columns = ['zillow', 'income', 'unemployment', 'disney']\n",
    "\n",
    "# Drop rows with missing values\n",
    "data.dropna(inplace=True)\n",
    "\n",
    "# Check for stationarity and cointegration\n",
    "# Ensure all series are I(1) and cointegrated before proceeding\n",
    "\n",
    "# Select the optimal lag order\n",
    "lag_order = select_order(data, maxlags=10, deterministic=\"ci\")\n",
    "print(\"Optimal lag order:\", lag_order.aic)\n",
    "\n",
    "# Determine the cointegration rank\n",
    "coint_rank = select_coint_rank(data, det_order=0, k_ar_diff=lag_order.aic)\n",
    "print(\"Cointegration rank:\", coint_rank.rank)\n",
    "\n",
    "# Fit the VECM model\n",
    "vecm = VECM(data, k_ar_diff=lag_order.aic, coint_rank=coint_rank.rank, deterministic=\"ci\")\n",
    "vecm_fit = vecm.fit()\n",
    "\n",
    "# Display the summary of the VECM model\n",
    "print(vecm_fit.summary())"
   ]
  }
 ],
 "metadata": {
  "kernelspec": {
   "display_name": "ds2025-group3",
   "language": "python",
   "name": "python3"
  },
  "language_info": {
   "codemirror_mode": {
    "name": "ipython",
    "version": 3
   },
   "file_extension": ".py",
   "mimetype": "text/x-python",
   "name": "python",
   "nbconvert_exporter": "python",
   "pygments_lexer": "ipython3",
   "version": "3.10.16"
  }
 },
 "nbformat": 4,
 "nbformat_minor": 5
}
